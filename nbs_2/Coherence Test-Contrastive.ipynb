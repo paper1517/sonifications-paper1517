{
 "cells": [
  {
   "cell_type": "code",
   "execution_count": 1,
   "id": "5233a33d",
   "metadata": {},
   "outputs": [],
   "source": [
    "import os\n",
    "from tqdm import notebook\n",
    "import glob\n",
    "import soundfile as sf\n",
    "from scipy import signal\n",
    "import numpy as np\n",
    "import sys\n",
    "import matplotlib.pyplot as plt"
   ]
  },
  {
   "cell_type": "code",
   "execution_count": 2,
   "id": "6e86fc8f",
   "metadata": {},
   "outputs": [],
   "source": [
    "def get_top_k_peaks(f_corr, Cxy, top_n_peaks=5, distance_bw_peaks=2):\n",
    "    fft_peaks_indices, fft_peaks_props = signal.find_peaks(Cxy, distance=distance_bw_peaks)\n",
    "    freqs_at_peaks = f_corr[fft_peaks_indices]\n",
    "    amplitudes_at_peaks = Cxy[fft_peaks_indices]\n",
    "    if top_n_peaks < len(amplitudes_at_peaks):\n",
    "        ind = np.argpartition(amplitudes_at_peaks, -top_n_peaks)[\n",
    "              -top_n_peaks:]  # from https://stackoverflow.com/a/23734295\n",
    "        ind_sorted_by_coef = ind[np.argsort(-amplitudes_at_peaks[ind])]  # reverse sort indices\n",
    "    else:\n",
    "        ind_sorted_by_coef = np.argsort(-amplitudes_at_peaks)\n",
    "    # return_list = list(zip(freqs_at_peaks[ind_sorted_by_coef], amplitudes_at_peaks[ind_sorted_by_coef]))\n",
    "\n",
    "    return freqs_at_peaks[ind_sorted_by_coef], amplitudes_at_peaks[ind_sorted_by_coef], ind_sorted_by_coef\n"
   ]
  },
  {
   "cell_type": "code",
   "execution_count": 3,
   "id": "dd06cc13",
   "metadata": {},
   "outputs": [],
   "source": [
    "def get_spectral_coherence(x, y, sr=8000, nperseg_ms=0.02, noverlap_ms=0.01, nfft=512):\n",
    "    f_corr, Cxy = signal.coherence(x, y, fs=sr, nperseg=int(sr*nperseg_ms),\n",
    "                                   noverlap=int(sr*noverlap_ms), nfft=nfft)\n",
    "    return f_corr, Cxy\n"
   ]
  },
  {
   "cell_type": "code",
   "execution_count": 4,
   "id": "94eb55b6",
   "metadata": {},
   "outputs": [],
   "source": [
    "def top_k_peaks_plain(f, Cxy, top_n_peaks=5):\n",
    "    idxs = np.argsort(Cxy)[::-1][:top_n_peaks]\n",
    "    return f[idxs], Cxy[idxs], idxs"
   ]
  },
  {
   "cell_type": "code",
   "execution_count": 5,
   "id": "f3024cb9",
   "metadata": {},
   "outputs": [],
   "source": [
    "def process_layer(exp_dir, layer_index, top_n_instances=9, top_n_peaks=5):\n",
    "    # print(\"in process layer\")\n",
    "    layer_dir = os.path.join(exp_dir, \"{:02d}\".format(layer_index))\n",
    "    # print(layer_dir)\n",
    "    num_filters = len(glob.glob(os.path.join(layer_dir, \"*\")))\n",
    "    # print(num_filters)\n",
    "    res = {}\n",
    "    # fs = []\n",
    "    vals = []\n",
    "    for filter_idx in notebook.tqdm(range(num_filters), position=1):\n",
    "        filter_subfld = os.path.join(os.path.join(layer_dir, \"{:04d}\".format(filter_idx)))\n",
    "        \n",
    "        peak_frequencies = []\n",
    "        peak_values = []\n",
    "        \n",
    "        for ix in range(top_n_instances):\n",
    "            deconv_ix = os.path.join(filter_subfld, \"deconv_audio\", \"deconv_{:02}.wav\".format(ix))\n",
    "            input_ix = os.path.join(filter_subfld, \"input_audio\", \"input_{:02}.wav\".format(ix))\n",
    "        \n",
    "            x, _ = sf.read(input_ix)\n",
    "            y, _ = sf.read(deconv_ix)\n",
    "        \n",
    "            f, Cxy = get_spectral_coherence(x, y)\n",
    "        \n",
    "            freq_peaks, val_peaks, _ = get_top_k_peaks(f, Cxy, top_n_peaks=top_n_peaks)\n",
    "            # print(\"freq_peaks.shape:\", freq_peaks.shape)\n",
    "            if len(freq_peaks) == top_n_peaks:\n",
    "                peak_frequencies.append(freq_peaks)\n",
    "                peak_values.append(val_peaks)\n",
    "        \n",
    "        if len(peak_frequencies) != 0:\n",
    "            peak_frequencies = np.asarray(peak_frequencies)\n",
    "            peak_values = np.asarray(peak_values)\n",
    "            # print(\"peak_values.shape\", peak_values.shape)\n",
    "            mean_top_n_peaks = np.mean(peak_values, 0)\n",
    "            res[filter_idx] = mean_top_n_peaks.tolist()\n",
    "            vals.append(mean_top_n_peaks.tolist())\n",
    "    vals = np.asarray(vals)\n",
    "    # print(vals.shape)\n",
    "    mean_top_n_vals = np.mean(vals, 0)\n",
    "    return res, mean_top_n_vals"
   ]
  },
  {
   "cell_type": "code",
   "execution_count": null,
   "id": "18251c65",
   "metadata": {},
   "outputs": [],
   "source": []
  },
  {
   "cell_type": "code",
   "execution_count": 7,
   "id": "26564025",
   "metadata": {},
   "outputs": [],
   "source": [
    "def plot_n_peaks(f, Cxy, top_n_peaks, top_n=None):\n",
    "    fig, ax = plt.subplots(figsize=(20,10))\n",
    "    if top_n is None:\n",
    "        top_n = len(top_n_peaks)\n",
    "    ax.plot(f, Cxy)\n",
    "    # ax.set_title(\"\")\n",
    "    for ix in range(top_n):\n",
    "        freq_ix, amp_ix = top_n_peaks[ix]\n",
    "        plt.plot(freq_ix, amp_ix, marker='x', color='black', alpha=0.8)\n",
    "        plt.text(freq_ix+3, amp_ix, \"{:d}\".format(ix), color='black')\n",
    "    plt.show()"
   ]
  },
  {
   "cell_type": "code",
   "execution_count": 8,
   "id": "a0a2e684",
   "metadata": {},
   "outputs": [],
   "source": [
    "exp_dirs = [\n",
    "    \"/media/user/nvme/contrastive_experiments/experiments_contrastive_v5/cnn12_1x_full_tr_8x256_Adam_1e-3_warmupcosine_0.5_wd1e-5_fixed_lr_scaling_randomgain_gaussiannoise_timemasking_bgnoise_nolineareval/inspection_all_maps_f/\",\n",
    "    \"/media/user/nvme/contrastive_experiments/experiments_contrastive_v5/cnn12_1x_full_tr_8x256_Adam_1e-3_warmupcosine_0.5_wd1e-5_fixed_lr_scaling_randomgain_gaussiannoise_timemasking_bgnoise_nolineareval_rs8882/inspection_all_maps_f/\",\n",
    "    \"/media/user/nvme/contrastive_experiments/experiments_contrastive_v5/cnn12_1x_full_tr_8x256_Adam_1e-3_warmupcosine_0.5_wd1e-5_fixed_lr_scaling_randomgain_gaussiannoise_timemasking_bgnoise_nolineareval_rs8883/inspection_all_maps_f/\"\n",
    "]"
   ]
  },
  {
   "cell_type": "code",
   "execution_count": null,
   "id": "8e8458e5",
   "metadata": {},
   "outputs": [],
   "source": [
    "outputs = {}\n",
    "cnt = 0\n",
    "for exp_dir in notebook.tqdm(exp_dirs, position=0):\n",
    "    output = {}\n",
    "    for layer_idx in notebook.tqdm(range(1, 12), position=1):\n",
    "        res, mean_top_n_vals = process_layer(exp_dir, layer_idx, top_n_instances=5)\n",
    "        output[layer_idx] = mean_top_n_vals\n",
    "    outputs[cnt] = output\n",
    "    cnt += 1"
   ]
  },
  {
   "cell_type": "code",
   "execution_count": null,
   "id": "f9380cf3",
   "metadata": {},
   "outputs": [],
   "source": []
  },
  {
   "cell_type": "code",
   "execution_count": null,
   "id": "53a56c7c",
   "metadata": {},
   "outputs": [],
   "source": []
  },
  {
   "cell_type": "code",
   "execution_count": 10,
   "id": "28bde3f1",
   "metadata": {},
   "outputs": [
    {
     "data": {
      "text/plain": [
       "{0: {1: array([0.92263865, 0.79945772, 0.71929479, 0.63758123, 0.55833202]),\n",
       "  2: array([0.91159728, 0.74292416, 0.66090482, 0.59774651, 0.55161599]),\n",
       "  3: array([0.87524018, 0.69783781, 0.61989269, 0.56602202, 0.53212074]),\n",
       "  4: array([0.82280851, 0.66191976, 0.60252246, 0.5673638 , 0.53682827]),\n",
       "  5: array([0.77382132, 0.65609714, 0.60718934, 0.57280958, 0.54485202]),\n",
       "  6: array([0.74964975, 0.66407185, 0.61844668, 0.58893475, 0.56645465]),\n",
       "  7: array([0.71663391, 0.64030285, 0.60185039, 0.57279137, 0.55186902]),\n",
       "  8: array([0.66961381, 0.60017548, 0.56188354, 0.53390624, 0.51467875]),\n",
       "  9: array([0.65427236, 0.58336575, 0.54296612, 0.51514584, 0.4952546 ]),\n",
       "  10: array([0.62428936, 0.5535242 , 0.5153572 , 0.48981266, 0.47133343]),\n",
       "  11: array([0.59361051, 0.51273592, 0.47145291, 0.44491413, 0.42545924])},\n",
       " 1: {1: array([0.93012395, 0.82005438, 0.74219949, 0.66755081, 0.58933233]),\n",
       "  2: array([0.90707868, 0.72416879, 0.65014625, 0.59049969, 0.54001614]),\n",
       "  3: array([0.86248466, 0.65968656, 0.5937862 , 0.53773779, 0.49801366]),\n",
       "  4: array([0.82591252, 0.64582105, 0.59009746, 0.55129719, 0.52030375]),\n",
       "  5: array([0.76426907, 0.64248338, 0.59352223, 0.56037651, 0.53250456]),\n",
       "  6: array([0.74607543, 0.65113485, 0.60838416, 0.5794348 , 0.55566094]),\n",
       "  7: array([0.71690304, 0.64056037, 0.59943389, 0.56901534, 0.5479447 ]),\n",
       "  8: array([0.67774275, 0.6017693 , 0.56385206, 0.53508144, 0.51472369]),\n",
       "  9: array([0.65943297, 0.58735796, 0.54715542, 0.51788505, 0.49709615]),\n",
       "  10: array([0.62595262, 0.55314487, 0.51435672, 0.48768809, 0.46737711]),\n",
       "  11: array([0.59924559, 0.52098543, 0.48096983, 0.4540809 , 0.43456282])},\n",
       " 2: {1: array([0.93000476, 0.81343482, 0.73595395, 0.65272869, 0.56183788]),\n",
       "  2: array([0.89285995, 0.72558989, 0.64984978, 0.58888097, 0.54062683]),\n",
       "  3: array([0.8801284 , 0.68435882, 0.61300026, 0.55967594, 0.5212934 ]),\n",
       "  4: array([0.8138033 , 0.65826334, 0.603178  , 0.56593216, 0.53571262]),\n",
       "  5: array([0.75944013, 0.64359013, 0.60045194, 0.56951421, 0.54250191]),\n",
       "  6: array([0.74845106, 0.65253141, 0.610221  , 0.58322131, 0.56094065]),\n",
       "  7: array([0.71909153, 0.64445816, 0.60597546, 0.57750956, 0.55709625]),\n",
       "  8: array([0.68096353, 0.61184388, 0.57596581, 0.55223054, 0.53491018]),\n",
       "  9: array([0.6635374 , 0.59560506, 0.55881722, 0.53461484, 0.51685865]),\n",
       "  10: array([0.62592406, 0.55660065, 0.51947206, 0.49344444, 0.47410851]),\n",
       "  11: array([0.61376627, 0.54214168, 0.50585263, 0.48097811, 0.46231532])}}"
      ]
     },
     "execution_count": 10,
     "metadata": {},
     "output_type": "execute_result"
    }
   ],
   "source": [
    "outputs"
   ]
  },
  {
   "cell_type": "code",
   "execution_count": null,
   "id": "d2536252",
   "metadata": {},
   "outputs": [],
   "source": []
  },
  {
   "cell_type": "code",
   "execution_count": null,
   "id": "b85e9779",
   "metadata": {},
   "outputs": [],
   "source": []
  },
  {
   "cell_type": "code",
   "execution_count": null,
   "id": "4b605fa6",
   "metadata": {},
   "outputs": [],
   "source": []
  },
  {
   "cell_type": "code",
   "execution_count": null,
   "id": "4e8c471a",
   "metadata": {},
   "outputs": [],
   "source": []
  },
  {
   "cell_type": "code",
   "execution_count": null,
   "id": "316b9d83",
   "metadata": {},
   "outputs": [],
   "source": []
  },
  {
   "cell_type": "code",
   "execution_count": null,
   "id": "e1011d09",
   "metadata": {},
   "outputs": [],
   "source": []
  }
 ],
 "metadata": {
  "kernelspec": {
   "display_name": "Python 3",
   "language": "python",
   "name": "python3"
  },
  "language_info": {
   "codemirror_mode": {
    "name": "ipython",
    "version": 3
   },
   "file_extension": ".py",
   "mimetype": "text/x-python",
   "name": "python",
   "nbconvert_exporter": "python",
   "pygments_lexer": "ipython3",
   "version": "3.8.8"
  }
 },
 "nbformat": 4,
 "nbformat_minor": 5
}
