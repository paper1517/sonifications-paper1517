{
 "cells": [
  {
   "cell_type": "code",
   "execution_count": 1,
   "id": "c1e39e3d",
   "metadata": {},
   "outputs": [
    {
     "name": "stderr",
     "output_type": "stream",
     "text": [
      "/home/user/miniconda3/envs/asr-env/lib/python3.8/site-packages/torchaudio/backend/utils.py:46: UserWarning: \"torchaudio.USE_SOUNDFILE_LEGACY_INTERFACE\" flag is deprecated and will be removed in 0.9.0. Please remove the use of flag.\n",
      "  warnings.warn(\n"
     ]
    }
   ],
   "source": [
    "import glob\n",
    "import matplotlib.pyplot as plt\n",
    "import torchvision\n",
    "import librosa\n",
    "import random\n",
    "import json\n",
    "import pickle\n",
    "import numpy as np\n",
    "import torch\n",
    "import os\n",
    "torch.multiprocessing.set_sharing_strategy('file_system')\n",
    "import tqdm\n",
    "import gc\n",
    "import sys\n",
    "sys.path.append(\"/home/user/Research/sonifications-paper1517/\")\n",
    "from src.utilities import fourier_analysis\n",
    "from src.utilities import interpretability_utils\n",
    "from src.utilities import feature_evolution_helper\n",
    "import IPython.display as ipd\n",
    "import soundfile as sf\n",
    "import matplotlib.pyplot as plt\n",
    "# plt.rcParams[\"figure.figsize\"] = (30,40)\n",
    "import random\n",
    "import json\n",
    "import tqdm\n",
    "import numpy as np"
   ]
  },
  {
   "cell_type": "code",
   "execution_count": 2,
   "id": "b649644f",
   "metadata": {},
   "outputs": [],
   "source": [
    "exp_dir = \"/media/user/nvme/contrastive_experiments/experiments_audioset_v5_full/cnn12_1x_full_tr_8x128_Adam_1e-3_warmupcosine_wd0._baseline/\""
   ]
  },
  {
   "cell_type": "code",
   "execution_count": 3,
   "id": "934518b8",
   "metadata": {},
   "outputs": [
    {
     "name": "stdout",
     "output_type": "stream",
     "text": [
      "Loading /media/user/nvme/contrastive_experiments/experiments_audioset_v5_full/cnn12_1x_full_tr_8x128_Adam_1e-3_warmupcosine_wd0._baseline/ckpts/epoch=050_tr_loss=0.010439_tr_acc=0.541631_val_acc=0.309273.pth\n"
     ]
    }
   ],
   "source": [
    "model, net, deconv, hparams = interpretability_utils.model_helper(exp_dir, False)"
   ]
  },
  {
   "cell_type": "code",
   "execution_count": null,
   "id": "8967d691",
   "metadata": {},
   "outputs": [],
   "source": []
  },
  {
   "cell_type": "code",
   "execution_count": null,
   "id": "7a19b619",
   "metadata": {},
   "outputs": [],
   "source": []
  },
  {
   "cell_type": "code",
   "execution_count": null,
   "id": "a4b7f4df",
   "metadata": {},
   "outputs": [],
   "source": [
    "selected_maps = feature_evolution_helper.get_selected_maps()\n",
    "selected_inputs = feature_evolution_helper.get_selected_inputs()"
   ]
  },
  {
   "cell_type": "code",
   "execution_count": 4,
   "id": "88ad3c82",
   "metadata": {},
   "outputs": [],
   "source": [
    "val_loader, val_set, lbl_map, inv_lbl_map = interpretability_utils.make_dataloader(\"/media/user/nvme/datasets/audioset/meta_8000/\", hparams.cfg['audio_config'], csv_name=\"eval.csv\")"
   ]
  },
  {
   "cell_type": "code",
   "execution_count": null,
   "id": "07e80dc3",
   "metadata": {},
   "outputs": [],
   "source": [
    "feature_evolution_helper.get_max_activating_inputs_for_best_ckpt(1, val_set, inv_lbl_map, )"
   ]
  },
  {
   "cell_type": "code",
   "execution_count": null,
   "id": "3cad6119",
   "metadata": {},
   "outputs": [],
   "source": []
  },
  {
   "cell_type": "code",
   "execution_count": null,
   "id": "de49be1e",
   "metadata": {},
   "outputs": [],
   "source": [
    "ckpt_idxs = feature_evolution_helper.get_ckpt_indices(is_contrastive=False)"
   ]
  },
  {
   "cell_type": "code",
   "execution_count": null,
   "id": "e481cd45",
   "metadata": {},
   "outputs": [],
   "source": [
    "from tqdm import notebook"
   ]
  },
  {
   "cell_type": "code",
   "execution_count": null,
   "id": "8359925f",
   "metadata": {
    "scrolled": false
   },
   "outputs": [],
   "source": [
    "for layer_idx in notebook.tqdm(range(1, 12)):\n",
    "    results = feature_evolution_helper.process_features_over_training(exp_dir, ckpt_idxs, layer_idx, selected_inputs, val_set, inv_lbl_map)\n",
    "    feature_evolution_helper.plot_evo_spectrograms(results, layer_idx, ckpt_idxs)"
   ]
  },
  {
   "cell_type": "code",
   "execution_count": null,
   "id": "aca3d8a3",
   "metadata": {},
   "outputs": [],
   "source": []
  }
 ],
 "metadata": {
  "kernelspec": {
   "display_name": "Python 3",
   "language": "python",
   "name": "python3"
  },
  "language_info": {
   "codemirror_mode": {
    "name": "ipython",
    "version": 3
   },
   "file_extension": ".py",
   "mimetype": "text/x-python",
   "name": "python",
   "nbconvert_exporter": "python",
   "pygments_lexer": "ipython3",
   "version": "3.8.8"
  }
 },
 "nbformat": 4,
 "nbformat_minor": 5
}
