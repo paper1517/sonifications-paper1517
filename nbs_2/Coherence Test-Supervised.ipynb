{
 "cells": [
  {
   "cell_type": "code",
   "execution_count": null,
   "id": "5233a33d",
   "metadata": {},
   "outputs": [],
   "source": [
    "import os\n",
    "from tqdm import notebook\n",
    "import glob\n",
    "import soundfile as sf\n",
    "from scipy import signal\n",
    "import numpy as np\n",
    "import sys\n",
    "import matplotlib.pyplot as plt"
   ]
  },
  {
   "cell_type": "code",
   "execution_count": null,
   "id": "6e86fc8f",
   "metadata": {},
   "outputs": [],
   "source": [
    "def get_top_k_peaks(f_corr, Cxy, top_n_peaks=5, distance_bw_peaks=2):\n",
    "    fft_peaks_indices, fft_peaks_props = signal.find_peaks(Cxy, distance=distance_bw_peaks)\n",
    "    freqs_at_peaks = f_corr[fft_peaks_indices]\n",
    "    amplitudes_at_peaks = Cxy[fft_peaks_indices]\n",
    "    if top_n_peaks < len(amplitudes_at_peaks):\n",
    "        ind = np.argpartition(amplitudes_at_peaks, -top_n_peaks)[\n",
    "              -top_n_peaks:]  # from https://stackoverflow.com/a/23734295\n",
    "        ind_sorted_by_coef = ind[np.argsort(-amplitudes_at_peaks[ind])]  # reverse sort indices\n",
    "    else:\n",
    "        ind_sorted_by_coef = np.argsort(-amplitudes_at_peaks)\n",
    "    # return_list = list(zip(freqs_at_peaks[ind_sorted_by_coef], amplitudes_at_peaks[ind_sorted_by_coef]))\n",
    "\n",
    "    return freqs_at_peaks[ind_sorted_by_coef], amplitudes_at_peaks[ind_sorted_by_coef], ind_sorted_by_coef\n"
   ]
  },
  {
   "cell_type": "code",
   "execution_count": null,
   "id": "dd06cc13",
   "metadata": {},
   "outputs": [],
   "source": [
    "def get_spectral_coherence(x, y, sr=8000, nperseg_ms=0.02, noverlap_ms=0.01, nfft=512):\n",
    "    f_corr, Cxy = signal.coherence(x, y, fs=sr, nperseg=int(sr*nperseg_ms),\n",
    "                                   noverlap=int(sr*noverlap_ms), nfft=nfft)\n",
    "    return f_corr, Cxy\n"
   ]
  },
  {
   "cell_type": "code",
   "execution_count": null,
   "id": "94eb55b6",
   "metadata": {},
   "outputs": [],
   "source": [
    "def top_k_peaks_plain(f, Cxy, top_n_peaks=5):\n",
    "    idxs = np.argsort(Cxy)[::-1][:top_n_peaks]\n",
    "    return f[idxs], Cxy[idxs], idxs"
   ]
  },
  {
   "cell_type": "code",
   "execution_count": null,
   "id": "f3024cb9",
   "metadata": {},
   "outputs": [],
   "source": [
    "def process_layer(exp_dir, layer_index, top_n_instances=9, top_n_peaks=5):\n",
    "    # print(\"in process layer\")\n",
    "    layer_dir = os.path.join(exp_dir, \"{:02d}\".format(layer_index))\n",
    "    # print(layer_dir)\n",
    "    num_filters = len(glob.glob(os.path.join(layer_dir, \"*\")))\n",
    "    # print(num_filters)\n",
    "    res = {}\n",
    "    # fs = []\n",
    "    vals = []\n",
    "    for filter_idx in notebook.tqdm(range(num_filters), position=1):\n",
    "        filter_subfld = os.path.join(os.path.join(layer_dir, \"{:04d}\".format(filter_idx)))\n",
    "        \n",
    "        peak_frequencies = []\n",
    "        peak_values = []\n",
    "        \n",
    "        for ix in range(top_n_instances):\n",
    "            deconv_ix = os.path.join(filter_subfld, \"deconv_audio\", \"deconv_{:02}.wav\".format(ix))\n",
    "            input_ix = os.path.join(filter_subfld, \"input_audio\", \"input_{:02}.wav\".format(ix))\n",
    "        \n",
    "            x, _ = sf.read(input_ix)\n",
    "            y, _ = sf.read(deconv_ix)\n",
    "        \n",
    "            f, Cxy = get_spectral_coherence(x, y)\n",
    "        \n",
    "            freq_peaks, val_peaks, _ = get_top_k_peaks(f, Cxy, top_n_peaks=top_n_peaks)\n",
    "            # print(\"freq_peaks.shape:\", freq_peaks.shape)\n",
    "            if len(freq_peaks) == top_n_peaks:\n",
    "                peak_frequencies.append(freq_peaks)\n",
    "                peak_values.append(val_peaks)\n",
    "        \n",
    "        if len(peak_frequencies) != 0:\n",
    "            peak_frequencies = np.asarray(peak_frequencies)\n",
    "            peak_values = np.asarray(peak_values)\n",
    "            # print(\"peak_values.shape\", peak_values.shape)\n",
    "            mean_top_n_peaks = np.mean(peak_values, 0)\n",
    "            res[filter_idx] = mean_top_n_peaks.tolist()\n",
    "            vals.append(mean_top_n_peaks.tolist())\n",
    "    vals = np.asarray(vals)\n",
    "    # print(vals.shape)\n",
    "    mean_top_n_vals = np.mean(vals, 0)\n",
    "    return res, mean_top_n_vals"
   ]
  },
  {
   "cell_type": "code",
   "execution_count": null,
   "id": "18251c65",
   "metadata": {},
   "outputs": [],
   "source": []
  },
  {
   "cell_type": "code",
   "execution_count": null,
   "id": "26564025",
   "metadata": {},
   "outputs": [],
   "source": [
    "def plot_n_peaks(f, Cxy, top_n_peaks, top_n=None):\n",
    "    fig, ax = plt.subplots(figsize=(20,10))\n",
    "    if top_n is None:\n",
    "        top_n = len(top_n_peaks)\n",
    "    ax.plot(f, Cxy)\n",
    "    # ax.set_title(\"\")\n",
    "    for ix in range(top_n):\n",
    "        freq_ix, amp_ix = top_n_peaks[ix]\n",
    "        plt.plot(freq_ix, amp_ix, marker='x', color='black', alpha=0.8)\n",
    "        plt.text(freq_ix+3, amp_ix, \"{:d}\".format(ix), color='black')\n",
    "    plt.show()"
   ]
  },
  {
   "cell_type": "code",
   "execution_count": null,
   "id": "c49326f3",
   "metadata": {},
   "outputs": [],
   "source": [
    "exp_dirs = [\n",
    "    \"/media/user/nvme/contrastive_experiments/experiments_audioset_full_latest/cnn12_1x_full_tr_8x128_Adam_1e-3_warmupcosine_wd0._baseline_rs8881/inspection_all_maps_f/\",\n",
    "    \"/media/user/nvme/contrastive_experiments/experiments_audioset_full_latest/cnn12_1x_full_tr_8x128_Adam_1e-3_warmupcosine_wd0._baseline_rs8882_noagc/inspection_all_maps_f/\",\n",
    "    \"/media/user/nvme/contrastive_experiments/experiments_audioset_full_latest/cnn12_1x_full_tr_8x128_Adam_1e-3_warmupcosine_wd0._baseline_rs8883_noagc/inspection_all_maps_f/\"\n",
    "]"
   ]
  },
  {
   "cell_type": "code",
   "execution_count": null,
   "id": "f9380cf3",
   "metadata": {},
   "outputs": [],
   "source": [
    "# exp_dir = \"/media/user/nvme/contrastive_experiments/experiments_audioset_v5_full/cnn12_1x_full_tr_8x128_Adam_1e-3_warmupcosine_wd0._fixed_lr_scaling_randomgain_gaussiannoise_timemask_bgnoise_nolineareval_full_ft_fullmodel_r2/inspection_all_maps_f\""
   ]
  },
  {
   "cell_type": "code",
   "execution_count": null,
   "id": "b85e9779",
   "metadata": {},
   "outputs": [],
   "source": [
    "outputs = {}\n",
    "cnt = 0\n",
    "for exp_dir in notebook.tqdm(exp_dirs, position=0):\n",
    "    output = {}\n",
    "    for layer_idx in notebook.tqdm(range(1, 12), position=1):\n",
    "        res, mean_top_n_vals = process_layer(exp_dir, layer_idx, top_n_instances=5)\n",
    "        output[layer_idx] = mean_top_n_vals\n",
    "    outputs[cnt] = output\n",
    "    cnt += 1"
   ]
  },
  {
   "cell_type": "code",
   "execution_count": null,
   "id": "ded7d5a8",
   "metadata": {},
   "outputs": [],
   "source": []
  },
  {
   "cell_type": "code",
   "execution_count": null,
   "id": "410b34e5",
   "metadata": {},
   "outputs": [],
   "source": []
  },
  {
   "cell_type": "code",
   "execution_count": null,
   "id": "2678d1ad",
   "metadata": {},
   "outputs": [],
   "source": []
  }
 ],
 "metadata": {
  "kernelspec": {
   "display_name": "Python 3",
   "language": "python",
   "name": "python3"
  },
  "language_info": {
   "codemirror_mode": {
    "name": "ipython",
    "version": 3
   },
   "file_extension": ".py",
   "mimetype": "text/x-python",
   "name": "python",
   "nbconvert_exporter": "python",
   "pygments_lexer": "ipython3",
   "version": "3.8.8"
  }
 },
 "nbformat": 4,
 "nbformat_minor": 5
}
