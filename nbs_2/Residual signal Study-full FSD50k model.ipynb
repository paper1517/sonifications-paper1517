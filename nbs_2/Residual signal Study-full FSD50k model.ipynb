{
 "cells": [
  {
   "cell_type": "code",
   "execution_count": 1,
   "id": "c3b00547",
   "metadata": {},
   "outputs": [
    {
     "name": "stderr",
     "output_type": "stream",
     "text": [
      "/home/user/miniconda3/envs/asr-env/lib/python3.8/site-packages/torchaudio/backend/utils.py:46: UserWarning: \"torchaudio.USE_SOUNDFILE_LEGACY_INTERFACE\" flag is deprecated and will be removed in 0.9.0. Please remove the use of flag.\n",
      "  warnings.warn(\n"
     ]
    }
   ],
   "source": [
    "import glob\n",
    "import matplotlib.pyplot as plt\n",
    "import torchvision\n",
    "import librosa\n",
    "import random\n",
    "import json\n",
    "import pickle\n",
    "import numpy as np\n",
    "import torch\n",
    "import os\n",
    "torch.multiprocessing.set_sharing_strategy('file_system')\n",
    "import tqdm\n",
    "import gc\n",
    "import sys\n",
    "sys.path.append(\"/home/user/Research/sonifications-paper1517/\")\n",
    "from src.utilities import fourier_analysis\n",
    "from src.utilities import interpretability_utils\n",
    "from src.models.contrastive_model import Model\n",
    "from src.utilities.config_parser import get_config\n",
    "from src.data.raw_transforms import get_raw_transforms_v2\n",
    "from src.data.raw_dataset import RawWaveformDataset\n",
    "from torch.utils.data import DataLoader\n",
    "from src.utilities.fourier_analysis import apply_notch_filter\n",
    "from src.data.utils import _collate_fn_raw, _collate_fn_raw_multiclass\n",
    "import IPython.display as ipd\n",
    "\n",
    "from src.models.cnn12_decoder import DeconvolutionalDecoder\n",
    "from src.utilities.fourier_analysis import compute_fft, get_top_n_frequency_peaks\n",
    "from sklearn.preprocessing import MinMaxScaler, minmax_scale\n",
    "import soundfile as sf\n",
    "import matplotlib.pyplot as plt\n",
    "# plt.rcParams[\"figure.figsize\"] = (30,40)\n",
    "import random\n",
    "import json\n",
    "import tqdm\n",
    "import numpy as np\n",
    "from src.data.utils import _collate_fn_raw, _collate_fn_raw_multiclass\n",
    "from src.data.raw_transforms import get_raw_transforms_v2, simple_supervised_transforms\n",
    "from src.data.raw_dataset import RawWaveformDataset\n",
    "from src.data.raw_transforms import get_raw_transforms_v2, simple_supervised_transforms, PadToSize, PeakNormalization, Compose\n",
    "from torch.utils.data import DataLoader\n",
    "cmaps = [(random.random(), random.random(), random.random()) for i in range(1, 9)]"
   ]
  },
  {
   "cell_type": "code",
   "execution_count": 2,
   "id": "def0195d",
   "metadata": {},
   "outputs": [],
   "source": [
    "def make_dataloader(meta_dir, audio_config, crop_size=5, csv_name=None, mode=\"multilabel\", delim=\";\"):\n",
    "    lbl_map_path = os.path.join(meta_dir, \"lbl_map.json\")\n",
    "    if csv_name:\n",
    "        eval_csv_path = os.path.join(meta_dir, csv_name)\n",
    "    else:\n",
    "        eval_csv_path = os.path.join(meta_dir, \"sonification_eval.csv\")\n",
    "\n",
    "    crop_size = int(crop_size * audio_config['sample_rate'])\n",
    "    # val_tfs = simple_supervised_transforms(False, crop_size,\n",
    "    #                                        sample_rate=audio_config['sample_rate'])\n",
    "    val_tfs = Compose([\n",
    "        PadToSize(crop_size, 'wrap'),\n",
    "        PeakNormalization(sr=audio_config['sample_rate'])\n",
    "    ])\n",
    "    val_set = RawWaveformDataset(eval_csv_path,\n",
    "                                 lbl_map_path,\n",
    "                                 audio_config, mode=mode,\n",
    "                                 transform=val_tfs, is_val=True, delimiter=delim\n",
    "                                 )\n",
    "    collater = _collate_fn_raw if mode == \"multilabel\" else _collate_fn_raw_multiclass\n",
    "    val_loader = DataLoader(val_set, sampler=None, num_workers=1,\n",
    "                            collate_fn=collater,\n",
    "                            shuffle=False, batch_size=1,\n",
    "                            pin_memory=False)\n",
    "    with open(lbl_map_path, \"r\") as fd:\n",
    "        lbl_map = json.load(fd)\n",
    "    inv_lbl_map = {v: k for k, v in lbl_map.items()}\n",
    "\n",
    "    return val_loader, val_set, lbl_map, inv_lbl_map"
   ]
  },
  {
   "cell_type": "code",
   "execution_count": 3,
   "id": "ac36f349",
   "metadata": {},
   "outputs": [],
   "source": [
    "def get_model_and_data(exp_dir, is_contrastive, num_random_maps=0.1, \n",
    "                       output_dir_name=\"featuremap_expection\", last_epoch=None):\n",
    "    EXP_DIR = exp_dir\n",
    "    if is_contrastive:\n",
    "        res = interpretability_utils.prep_contrastive_model_and_decoder(EXP_DIR)\n",
    "    else:\n",
    "        if last_epoch:\n",
    "            res = interpretability_utils.prep_finetuned_model_and_decoder(EXP_DIR, last_epoch=last_epoch)\n",
    "        else:\n",
    "            res = interpretability_utils.prep_finetuned_model_and_decoder(EXP_DIR, last_epoch=50)\n",
    "    model, net, deconv, hparams = res['full_model'], res['feature_extractor'], res['deconv_decoder'], res['hparams']\n",
    "\n",
    "    loader, dset, lbl_map, inv_lbl_map = make_dataloader(\"/media/user/nvme/datasets/fsd50k/fsd50k_8000/meta/\",\n",
    "                                                         hparams.cfg['audio_config'], csv_name=\"eval.csv\", delim=\",\")\n",
    "    results = {\n",
    "        \"model\": model,\n",
    "        \"net\": net,\n",
    "        \"deconv\": deconv,\n",
    "        \"hparams\": hparams,\n",
    "        \"loader\": loader,\n",
    "        \"dset\": dset,\n",
    "        \"lbl_map\": lbl_map\n",
    "    }\n",
    "    return results"
   ]
  },
  {
   "cell_type": "code",
   "execution_count": 4,
   "id": "c4c32ec4",
   "metadata": {},
   "outputs": [],
   "source": [
    "import math"
   ]
  },
  {
   "cell_type": "code",
   "execution_count": 5,
   "id": "ad3405ca",
   "metadata": {},
   "outputs": [],
   "source": [
    "def process_data_record(meta, x, y, layer_index, top_k_perc=0.01, gaussian_perturb=False, baseline=False):\n",
    "    x = x.unsqueeze(0)\n",
    "    signal_input = x.squeeze().cpu().numpy()\n",
    "    if baseline:\n",
    "        if gaussian_perturb:\n",
    "            x_super = noiser(x)\n",
    "            x_super = x_super.cuda()\n",
    "        else:\n",
    "            x_super = x.cuda()\n",
    "    x = x.cuda()\n",
    "    output_features, switch_indices = interpretability_utils.infer_model(meta['net'], x)\n",
    "    if baseline:\n",
    "        supervised_preds = interpretability_utils.get_supervised_predictions(meta['model'], x_super)\n",
    "    else:\n",
    "        supervised_preds = None\n",
    "    act_feats = output_features['act{}'.format(layer_index)]\n",
    "    top_k_num_maps = 1 #int(math.ceil(top_k_perc * act_feats.shape[1]))\n",
    "    # print(top_k_num_maps)\n",
    "    with torch.no_grad():\n",
    "        sonifications = meta['deconv'].visualize_top_k_maps(x, output_features, switch_indices, \n",
    "                                                            layer_index, top_k_num_maps)\n",
    "        # abs scale sonifications\n",
    "        sonifications = [interpretability_utils.process_vis(s, signal_input) for s in sonifications]\n",
    "        # take mean\n",
    "        sonifications = np.asarray(sonifications)\n",
    "        # print(sonifications.shape)\n",
    "        signal_deconved = sonifications.mean(0)\n",
    "        # print(signal_deconved.shape)\n",
    "        \n",
    "    residual_sig = signal_input - signal_deconved\n",
    "    \n",
    "    residual_supervised_preds = interpretability_utils.get_supervised_predictions(meta['model'],\n",
    "                                                                                 interpretability_utils.prep_input(residual_sig))\n",
    "        \n",
    "    return residual_sig, signal_deconved, residual_supervised_preds, supervised_preds"
   ]
  },
  {
   "cell_type": "code",
   "execution_count": 6,
   "id": "54588565",
   "metadata": {},
   "outputs": [],
   "source": [
    "# meta1 = get_model_and_data(\"/media/user/nvme/contrastive_experiments/experiments_fsd50k_v3/cnn12_1x_full_tr_1x64_Adam_1e-3_warmupcosine_wd0._fixed_lr_scaling_randomgain_gaussiannoise_timemask_bgnoise_nolineareval_ft_fullmodel/\", False)"
   ]
  },
  {
   "cell_type": "code",
   "execution_count": 7,
   "id": "d4933e66",
   "metadata": {},
   "outputs": [
    {
     "name": "stdout",
     "output_type": "stream",
     "text": [
      "Loading /media/user/nvme/contrastive_experiments/experiments_fsd50k_latest/cnn12_1x_full_tr_1x64_Adam_1e-3_warmupcosine_wd0._fixed_lr_scaling_randomgain_gaussiannoise_timemask_bgnoise_nolineareval_ft_fullmodel_rs8882/ckpts/epoch=095_tr_loss=0.031408_tr_acc=0.685658_val_acc=0.418466.pth\n"
     ]
    }
   ],
   "source": [
    "meta2 = get_model_and_data(\"/media/user/nvme/contrastive_experiments/experiments_fsd50k_latest/cnn12_1x_full_tr_1x64_Adam_1e-3_warmupcosine_wd0._fixed_lr_scaling_randomgain_gaussiannoise_timemask_bgnoise_nolineareval_ft_fullmodel_rs8882/\", False, last_epoch=95)"
   ]
  },
  {
   "cell_type": "code",
   "execution_count": 8,
   "id": "78e8d67d",
   "metadata": {},
   "outputs": [
    {
     "name": "stdout",
     "output_type": "stream",
     "text": [
      "Loading /media/user/nvme/contrastive_experiments/experiments_fsd50k_latest/cnn12_1x_full_tr_1x64_Adam_1e-3_warmupcosine_wd0._fixed_lr_scaling_randomgain_gaussiannoise_timemask_bgnoise_nolineareval_ft_fullmodel_rs8883/ckpts/epoch=098_tr_loss=0.031482_tr_acc=0.681768_val_acc=0.422190.pth\n"
     ]
    }
   ],
   "source": [
    "meta3 = get_model_and_data(\"/media/user/nvme/contrastive_experiments/experiments_fsd50k_latest/cnn12_1x_full_tr_1x64_Adam_1e-3_warmupcosine_wd0._fixed_lr_scaling_randomgain_gaussiannoise_timemask_bgnoise_nolineareval_ft_fullmodel_rs8883/\", False, last_epoch=98)"
   ]
  },
  {
   "cell_type": "code",
   "execution_count": 9,
   "id": "d9984285",
   "metadata": {},
   "outputs": [
    {
     "name": "stdout",
     "output_type": "stream",
     "text": [
      "Loading /media/user/nvme/contrastive_experiments/experiments_fsd50k_v3/cnn12_1x_full_tr_1x64_Adam_1e-3_warmupcosine_wd0._fixed_lr_scaling_randomgain_gaussiannoise_timemask_bgnoise_nolineareval_ft_fullmodel_r4/ckpts/epoch=098_tr_loss=0.031548_tr_acc=0.683315_val_acc=0.422022.pth\n"
     ]
    }
   ],
   "source": [
    "meta4 = get_model_and_data(\"/media/user/nvme/contrastive_experiments/experiments_fsd50k_v3/cnn12_1x_full_tr_1x64_Adam_1e-3_warmupcosine_wd0._fixed_lr_scaling_randomgain_gaussiannoise_timemask_bgnoise_nolineareval_ft_fullmodel_r4/\", False, last_epoch=98)"
   ]
  },
  {
   "cell_type": "code",
   "execution_count": 10,
   "id": "f6b0786a",
   "metadata": {},
   "outputs": [],
   "source": [
    "from sklearn.metrics import average_precision_score"
   ]
  },
  {
   "cell_type": "code",
   "execution_count": 11,
   "id": "5ffa99f1",
   "metadata": {},
   "outputs": [],
   "source": [
    "def calculate_mAP(preds, gts, mode=\"macro\"):\n",
    "    preds = torch.cat(preds, 0).cpu().numpy()\n",
    "    gts = torch.cat(gts, 0).cpu().numpy()\n",
    "    map_value = average_precision_score(gts, preds, average=mode)\n",
    "    return map_value"
   ]
  },
  {
   "cell_type": "code",
   "execution_count": 12,
   "id": "d24457b3",
   "metadata": {},
   "outputs": [],
   "source": [
    "from src.data.raw_transforms import AddGaussianNoise"
   ]
  },
  {
   "cell_type": "code",
   "execution_count": 13,
   "id": "f2afca2d",
   "metadata": {},
   "outputs": [],
   "source": [
    "noiser = AddGaussianNoise()"
   ]
  },
  {
   "cell_type": "code",
   "execution_count": 14,
   "id": "0f90f77a",
   "metadata": {},
   "outputs": [],
   "source": [
    "def process_layer(meta, layer_index, top_k_perc=0.1, gaussian=False, baseline=False):\n",
    "    dset = meta['dset']\n",
    "    gts = []\n",
    "    res_preds = []\n",
    "    inp_preds = []\n",
    "    # range(len(dset))\n",
    "    for ix in tqdm.notebook.tqdm_notebook(range(len(dset)), position=2):\n",
    "        x, y = dset[ix]\n",
    "        _, _, residual_preds, input_preds = process_data_record(meta, x, y, layer_index, top_k_perc, baseline=baseline, gaussian_perturb=gaussian)\n",
    "        gts.append(y.unsqueeze(0))\n",
    "        res_preds.append(residual_preds.detach().cpu())\n",
    "        inp_preds.append(input_preds)\n",
    "    if baseline:\n",
    "        \n",
    "        baseline_map = calculate_mAP(inp_preds, gts)\n",
    "    else:\n",
    "        baseline_map = None\n",
    "    residual_mAP = calculate_mAP(res_preds, gts)\n",
    "    print(residual_mAP, baseline_map)\n",
    "    return residual_mAP, baseline_map"
   ]
  },
  {
   "cell_type": "code",
   "execution_count": 15,
   "id": "d7414b5d",
   "metadata": {},
   "outputs": [],
   "source": [
    "from tqdm import notebook"
   ]
  },
  {
   "cell_type": "code",
   "execution_count": 16,
   "id": "9e6d4472",
   "metadata": {},
   "outputs": [],
   "source": [
    "# results = {}\n",
    "# for layer_idx in notebook.tqdm(range(1, 12), position=1):\n",
    "#     if layer_idx == 1:\n",
    "#         baseline = True\n",
    "#     else:\n",
    "#         baseline = False\n",
    "#     res_mAP, baseline_mAP = process_layer(meta, layer_idx, top_k_perc=1., baseline=baseline)\n",
    "#     results[layer_idx] = res_mAP"
   ]
  },
  {
   "cell_type": "code",
   "execution_count": null,
   "id": "bfdd41f5",
   "metadata": {},
   "outputs": [],
   "source": []
  },
  {
   "cell_type": "code",
   "execution_count": 17,
   "id": "13052a92",
   "metadata": {},
   "outputs": [],
   "source": [
    "# with new data transforms"
   ]
  },
  {
   "cell_type": "code",
   "execution_count": 18,
   "id": "013bb8d1",
   "metadata": {},
   "outputs": [],
   "source": [
    "# meta_results = {0: {1: 0.21898723119808686,\n",
    "#   2: 0.2075165284444755,\n",
    "#   3: 0.2169938626862424,\n",
    "#   4: 0.2232939336995754,\n",
    "#   5: 0.25147119901573556,\n",
    "#   6: 0.27084707045355466,\n",
    "#   7: 0.27310423734162564,\n",
    "#   8: 0.3126478078935492,\n",
    "#   9: 0.31253935617985484,\n",
    "#   10: 0.3534935464858034,\n",
    "#   11: 0.3164541589543721}}"
   ]
  },
  {
   "cell_type": "raw",
   "id": "4698c3ee",
   "metadata": {},
   "source": []
  },
  {
   "cell_type": "code",
   "execution_count": 19,
   "id": "e616ab9e",
   "metadata": {},
   "outputs": [
    {
     "data": {
      "application/vnd.jupyter.widget-view+json": {
       "model_id": "fba39fafd542438481044664cf991e38",
       "version_major": 2,
       "version_minor": 0
      },
      "text/plain": [
       "  0%|          | 0/11 [00:00<?, ?it/s]"
      ]
     },
     "metadata": {},
     "output_type": "display_data"
    },
    {
     "data": {
      "application/vnd.jupyter.widget-view+json": {
       "model_id": "18e6ae89caf948c1b482b7b4c7eb4c7f",
       "version_major": 2,
       "version_minor": 0
      },
      "text/plain": [
       "  0%|          | 0/10231 [00:00<?, ?it/s]"
      ]
     },
     "metadata": {},
     "output_type": "display_data"
    },
    {
     "name": "stdout",
     "output_type": "stream",
     "text": [
      "0.1837950956654363 0.4243540602566276\n"
     ]
    },
    {
     "data": {
      "application/vnd.jupyter.widget-view+json": {
       "model_id": "31e620dd5d414dec8bf899cda92b0f37",
       "version_major": 2,
       "version_minor": 0
      },
      "text/plain": [
       "  0%|          | 0/10231 [00:00<?, ?it/s]"
      ]
     },
     "metadata": {},
     "output_type": "display_data"
    },
    {
     "name": "stdout",
     "output_type": "stream",
     "text": [
      "0.19671473705687795 None\n"
     ]
    },
    {
     "data": {
      "application/vnd.jupyter.widget-view+json": {
       "model_id": "8d72d15eed694844b25b60461ceb5c73",
       "version_major": 2,
       "version_minor": 0
      },
      "text/plain": [
       "  0%|          | 0/10231 [00:00<?, ?it/s]"
      ]
     },
     "metadata": {},
     "output_type": "display_data"
    },
    {
     "name": "stdout",
     "output_type": "stream",
     "text": [
      "0.20108673916061362 None\n"
     ]
    },
    {
     "data": {
      "application/vnd.jupyter.widget-view+json": {
       "model_id": "492d7a5f754a41a5b9701f0b4bee8dbb",
       "version_major": 2,
       "version_minor": 0
      },
      "text/plain": [
       "  0%|          | 0/10231 [00:00<?, ?it/s]"
      ]
     },
     "metadata": {},
     "output_type": "display_data"
    },
    {
     "name": "stdout",
     "output_type": "stream",
     "text": [
      "0.22839356873791183 None\n"
     ]
    },
    {
     "data": {
      "application/vnd.jupyter.widget-view+json": {
       "model_id": "3149547629014eb2966d21eb30a7cbcb",
       "version_major": 2,
       "version_minor": 0
      },
      "text/plain": [
       "  0%|          | 0/10231 [00:00<?, ?it/s]"
      ]
     },
     "metadata": {},
     "output_type": "display_data"
    },
    {
     "name": "stdout",
     "output_type": "stream",
     "text": [
      "0.24803364962186142 None\n"
     ]
    },
    {
     "data": {
      "application/vnd.jupyter.widget-view+json": {
       "model_id": "4640d2f34d37409182b01a2255e21dbc",
       "version_major": 2,
       "version_minor": 0
      },
      "text/plain": [
       "  0%|          | 0/10231 [00:00<?, ?it/s]"
      ]
     },
     "metadata": {},
     "output_type": "display_data"
    },
    {
     "name": "stdout",
     "output_type": "stream",
     "text": [
      "0.2801172312563643 None\n"
     ]
    },
    {
     "data": {
      "application/vnd.jupyter.widget-view+json": {
       "model_id": "581a6cab1b714262b4e74d6ed984a1ae",
       "version_major": 2,
       "version_minor": 0
      },
      "text/plain": [
       "  0%|          | 0/10231 [00:00<?, ?it/s]"
      ]
     },
     "metadata": {},
     "output_type": "display_data"
    },
    {
     "name": "stdout",
     "output_type": "stream",
     "text": [
      "0.27110793890395973 None\n"
     ]
    },
    {
     "data": {
      "application/vnd.jupyter.widget-view+json": {
       "model_id": "b1796d16b119471895ee126f8b24a6c0",
       "version_major": 2,
       "version_minor": 0
      },
      "text/plain": [
       "  0%|          | 0/10231 [00:00<?, ?it/s]"
      ]
     },
     "metadata": {},
     "output_type": "display_data"
    },
    {
     "name": "stdout",
     "output_type": "stream",
     "text": [
      "0.3110693194328128 None\n"
     ]
    },
    {
     "data": {
      "application/vnd.jupyter.widget-view+json": {
       "model_id": "3ea0ea89bfb24b2189b0db59ceef2da9",
       "version_major": 2,
       "version_minor": 0
      },
      "text/plain": [
       "  0%|          | 0/10231 [00:00<?, ?it/s]"
      ]
     },
     "metadata": {},
     "output_type": "display_data"
    },
    {
     "name": "stdout",
     "output_type": "stream",
     "text": [
      "0.316840358987352 None\n"
     ]
    },
    {
     "data": {
      "application/vnd.jupyter.widget-view+json": {
       "model_id": "546983d9a85c4077b16080026ece89ec",
       "version_major": 2,
       "version_minor": 0
      },
      "text/plain": [
       "  0%|          | 0/10231 [00:00<?, ?it/s]"
      ]
     },
     "metadata": {},
     "output_type": "display_data"
    },
    {
     "name": "stdout",
     "output_type": "stream",
     "text": [
      "0.3215811625128609 None\n"
     ]
    },
    {
     "data": {
      "application/vnd.jupyter.widget-view+json": {
       "model_id": "ac55e402012845f9839bb552d4f8f711",
       "version_major": 2,
       "version_minor": 0
      },
      "text/plain": [
       "  0%|          | 0/10231 [00:00<?, ?it/s]"
      ]
     },
     "metadata": {},
     "output_type": "display_data"
    },
    {
     "name": "stdout",
     "output_type": "stream",
     "text": [
      "0.3271420230040678 None\n"
     ]
    },
    {
     "data": {
      "application/vnd.jupyter.widget-view+json": {
       "model_id": "066333ca4b234d69a3147982a469d112",
       "version_major": 2,
       "version_minor": 0
      },
      "text/plain": [
       "  0%|          | 0/11 [00:00<?, ?it/s]"
      ]
     },
     "metadata": {},
     "output_type": "display_data"
    },
    {
     "data": {
      "application/vnd.jupyter.widget-view+json": {
       "model_id": "207ccaecf69e4586a7870ec67ba70f18",
       "version_major": 2,
       "version_minor": 0
      },
      "text/plain": [
       "  0%|          | 0/10231 [00:00<?, ?it/s]"
      ]
     },
     "metadata": {},
     "output_type": "display_data"
    },
    {
     "name": "stdout",
     "output_type": "stream",
     "text": [
      "0.22985252242840487 0.4274145287715402\n"
     ]
    },
    {
     "data": {
      "application/vnd.jupyter.widget-view+json": {
       "model_id": "2e26ff11d5cf4ec58d3d779dba8856a5",
       "version_major": 2,
       "version_minor": 0
      },
      "text/plain": [
       "  0%|          | 0/10231 [00:00<?, ?it/s]"
      ]
     },
     "metadata": {},
     "output_type": "display_data"
    },
    {
     "name": "stdout",
     "output_type": "stream",
     "text": [
      "0.19597478469046467 None\n"
     ]
    },
    {
     "data": {
      "application/vnd.jupyter.widget-view+json": {
       "model_id": "1eb0b72c61f44abc93a9b2f565c149b5",
       "version_major": 2,
       "version_minor": 0
      },
      "text/plain": [
       "  0%|          | 0/10231 [00:00<?, ?it/s]"
      ]
     },
     "metadata": {},
     "output_type": "display_data"
    },
    {
     "name": "stdout",
     "output_type": "stream",
     "text": [
      "0.21783907609314937 None\n"
     ]
    },
    {
     "data": {
      "application/vnd.jupyter.widget-view+json": {
       "model_id": "534334fd47e448f6a4a620dd2028944b",
       "version_major": 2,
       "version_minor": 0
      },
      "text/plain": [
       "  0%|          | 0/10231 [00:00<?, ?it/s]"
      ]
     },
     "metadata": {},
     "output_type": "display_data"
    },
    {
     "name": "stdout",
     "output_type": "stream",
     "text": [
      "0.23930789814136008 None\n"
     ]
    },
    {
     "data": {
      "application/vnd.jupyter.widget-view+json": {
       "model_id": "2375783443e648068b8d72b20dcb43ea",
       "version_major": 2,
       "version_minor": 0
      },
      "text/plain": [
       "  0%|          | 0/10231 [00:00<?, ?it/s]"
      ]
     },
     "metadata": {},
     "output_type": "display_data"
    },
    {
     "name": "stdout",
     "output_type": "stream",
     "text": [
      "0.26865411317923715 None\n"
     ]
    },
    {
     "data": {
      "application/vnd.jupyter.widget-view+json": {
       "model_id": "90077e8b17114c48b707a8533473b46a",
       "version_major": 2,
       "version_minor": 0
      },
      "text/plain": [
       "  0%|          | 0/10231 [00:00<?, ?it/s]"
      ]
     },
     "metadata": {},
     "output_type": "display_data"
    },
    {
     "name": "stdout",
     "output_type": "stream",
     "text": [
      "0.28090549465691333 None\n"
     ]
    },
    {
     "data": {
      "application/vnd.jupyter.widget-view+json": {
       "model_id": "1328f5a6935a4cfdbce8d52524f90eb6",
       "version_major": 2,
       "version_minor": 0
      },
      "text/plain": [
       "  0%|          | 0/10231 [00:00<?, ?it/s]"
      ]
     },
     "metadata": {},
     "output_type": "display_data"
    },
    {
     "name": "stdout",
     "output_type": "stream",
     "text": [
      "0.288099491039961 None\n"
     ]
    },
    {
     "data": {
      "application/vnd.jupyter.widget-view+json": {
       "model_id": "ccfedaa8e3aa469b8eb405f45e83c6ce",
       "version_major": 2,
       "version_minor": 0
      },
      "text/plain": [
       "  0%|          | 0/10231 [00:00<?, ?it/s]"
      ]
     },
     "metadata": {},
     "output_type": "display_data"
    },
    {
     "name": "stdout",
     "output_type": "stream",
     "text": [
      "0.29758997141753923 None\n"
     ]
    },
    {
     "data": {
      "application/vnd.jupyter.widget-view+json": {
       "model_id": "fc941ad64b614a5db038969a74108159",
       "version_major": 2,
       "version_minor": 0
      },
      "text/plain": [
       "  0%|          | 0/10231 [00:00<?, ?it/s]"
      ]
     },
     "metadata": {},
     "output_type": "display_data"
    },
    {
     "name": "stdout",
     "output_type": "stream",
     "text": [
      "0.31679773694370217 None\n"
     ]
    },
    {
     "data": {
      "application/vnd.jupyter.widget-view+json": {
       "model_id": "84bedbb6764548d89fee15487239519c",
       "version_major": 2,
       "version_minor": 0
      },
      "text/plain": [
       "  0%|          | 0/10231 [00:00<?, ?it/s]"
      ]
     },
     "metadata": {},
     "output_type": "display_data"
    },
    {
     "name": "stdout",
     "output_type": "stream",
     "text": [
      "0.35268393548779886 None\n"
     ]
    },
    {
     "data": {
      "application/vnd.jupyter.widget-view+json": {
       "model_id": "1b24a099fefa49eb910fccda90ec8c2b",
       "version_major": 2,
       "version_minor": 0
      },
      "text/plain": [
       "  0%|          | 0/10231 [00:00<?, ?it/s]"
      ]
     },
     "metadata": {},
     "output_type": "display_data"
    },
    {
     "name": "stdout",
     "output_type": "stream",
     "text": [
      "0.3378161897150029 None\n"
     ]
    },
    {
     "data": {
      "application/vnd.jupyter.widget-view+json": {
       "model_id": "dcf2f623158042af902e164fecb949c2",
       "version_major": 2,
       "version_minor": 0
      },
      "text/plain": [
       "  0%|          | 0/11 [00:00<?, ?it/s]"
      ]
     },
     "metadata": {},
     "output_type": "display_data"
    },
    {
     "data": {
      "application/vnd.jupyter.widget-view+json": {
       "model_id": "545afbd0b51640c1b7fa7f0313870565",
       "version_major": 2,
       "version_minor": 0
      },
      "text/plain": [
       "  0%|          | 0/10231 [00:00<?, ?it/s]"
      ]
     },
     "metadata": {},
     "output_type": "display_data"
    },
    {
     "name": "stdout",
     "output_type": "stream",
     "text": [
      "0.20279004818311505 0.42345384894634636\n"
     ]
    },
    {
     "data": {
      "application/vnd.jupyter.widget-view+json": {
       "model_id": "fb32d16e1b06491bbf2b409bdcf4725e",
       "version_major": 2,
       "version_minor": 0
      },
      "text/plain": [
       "  0%|          | 0/10231 [00:00<?, ?it/s]"
      ]
     },
     "metadata": {},
     "output_type": "display_data"
    },
    {
     "name": "stdout",
     "output_type": "stream",
     "text": [
      "0.1887408070434549 None\n"
     ]
    },
    {
     "data": {
      "application/vnd.jupyter.widget-view+json": {
       "model_id": "c852c082ef584986abcb9e2523efa22b",
       "version_major": 2,
       "version_minor": 0
      },
      "text/plain": [
       "  0%|          | 0/10231 [00:00<?, ?it/s]"
      ]
     },
     "metadata": {},
     "output_type": "display_data"
    },
    {
     "name": "stdout",
     "output_type": "stream",
     "text": [
      "0.21838904490771974 None\n"
     ]
    },
    {
     "data": {
      "application/vnd.jupyter.widget-view+json": {
       "model_id": "6a7bab75776e4d92b9359bb0ef772ed7",
       "version_major": 2,
       "version_minor": 0
      },
      "text/plain": [
       "  0%|          | 0/10231 [00:00<?, ?it/s]"
      ]
     },
     "metadata": {},
     "output_type": "display_data"
    },
    {
     "name": "stdout",
     "output_type": "stream",
     "text": [
      "0.2158818242469624 None\n"
     ]
    },
    {
     "data": {
      "application/vnd.jupyter.widget-view+json": {
       "model_id": "8bd000653b564dc786d3f441fd39aa66",
       "version_major": 2,
       "version_minor": 0
      },
      "text/plain": [
       "  0%|          | 0/10231 [00:00<?, ?it/s]"
      ]
     },
     "metadata": {},
     "output_type": "display_data"
    },
    {
     "name": "stdout",
     "output_type": "stream",
     "text": [
      "0.27319212312492397 None\n"
     ]
    },
    {
     "data": {
      "application/vnd.jupyter.widget-view+json": {
       "model_id": "33c991521efa494183638988d7ef4a86",
       "version_major": 2,
       "version_minor": 0
      },
      "text/plain": [
       "  0%|          | 0/10231 [00:00<?, ?it/s]"
      ]
     },
     "metadata": {},
     "output_type": "display_data"
    },
    {
     "name": "stdout",
     "output_type": "stream",
     "text": [
      "0.28078952116189515 None\n"
     ]
    },
    {
     "data": {
      "application/vnd.jupyter.widget-view+json": {
       "model_id": "53055c7b37564cfd92bed82012e23317",
       "version_major": 2,
       "version_minor": 0
      },
      "text/plain": [
       "  0%|          | 0/10231 [00:00<?, ?it/s]"
      ]
     },
     "metadata": {},
     "output_type": "display_data"
    },
    {
     "name": "stdout",
     "output_type": "stream",
     "text": [
      "0.28692273536359414 None\n"
     ]
    },
    {
     "data": {
      "application/vnd.jupyter.widget-view+json": {
       "model_id": "abcee8d53b0d4750a14cd144900616ca",
       "version_major": 2,
       "version_minor": 0
      },
      "text/plain": [
       "  0%|          | 0/10231 [00:00<?, ?it/s]"
      ]
     },
     "metadata": {},
     "output_type": "display_data"
    },
    {
     "name": "stdout",
     "output_type": "stream",
     "text": [
      "0.3179243595785271 None\n"
     ]
    },
    {
     "data": {
      "application/vnd.jupyter.widget-view+json": {
       "model_id": "809958d215bb4db8adcb670cc6a26ac3",
       "version_major": 2,
       "version_minor": 0
      },
      "text/plain": [
       "  0%|          | 0/10231 [00:00<?, ?it/s]"
      ]
     },
     "metadata": {},
     "output_type": "display_data"
    },
    {
     "name": "stdout",
     "output_type": "stream",
     "text": [
      "0.3185604812317797 None\n"
     ]
    },
    {
     "data": {
      "application/vnd.jupyter.widget-view+json": {
       "model_id": "6d2987e0547147a790f076c4c599a1e1",
       "version_major": 2,
       "version_minor": 0
      },
      "text/plain": [
       "  0%|          | 0/10231 [00:00<?, ?it/s]"
      ]
     },
     "metadata": {},
     "output_type": "display_data"
    },
    {
     "name": "stdout",
     "output_type": "stream",
     "text": [
      "0.3533927597841378 None\n"
     ]
    },
    {
     "data": {
      "application/vnd.jupyter.widget-view+json": {
       "model_id": "0e5eda7a877442ecb2ed6fc8c0465a0c",
       "version_major": 2,
       "version_minor": 0
      },
      "text/plain": [
       "  0%|          | 0/10231 [00:00<?, ?it/s]"
      ]
     },
     "metadata": {},
     "output_type": "display_data"
    },
    {
     "name": "stdout",
     "output_type": "stream",
     "text": [
      "0.3262227478317309 None\n"
     ]
    }
   ],
   "source": [
    "meta_results = {}\n",
    "meta_count = 0\n",
    "for meta in [meta2, meta3, meta4]:\n",
    "    results = {}\n",
    "    for layer_idx in notebook.tqdm(range(1, 12), position=1):\n",
    "        if layer_idx == 1:\n",
    "            baseline = True\n",
    "        else:\n",
    "            baseline = False\n",
    "        res_mAP, baseline_mAP = process_layer(meta, layer_idx, top_k_perc=1., baseline=baseline)\n",
    "        results[layer_idx] = res_mAP\n",
    "    meta_results[meta_count] = results\n",
    "    meta_count += 1"
   ]
  },
  {
   "cell_type": "code",
   "execution_count": null,
   "id": "35542205",
   "metadata": {},
   "outputs": [],
   "source": []
  },
  {
   "cell_type": "code",
   "execution_count": 20,
   "id": "1bf86187",
   "metadata": {},
   "outputs": [],
   "source": [
    "baselines = [0.4243540602566276, 0.4274145287715402, 0.42345384894634636]"
   ]
  },
  {
   "cell_type": "code",
   "execution_count": null,
   "id": "42ce0bc1",
   "metadata": {},
   "outputs": [],
   "source": []
  },
  {
   "cell_type": "code",
   "execution_count": 22,
   "id": "2ce1eef1",
   "metadata": {},
   "outputs": [
    {
     "data": {
      "text/plain": [
       "{0: {1: 0.1837950956654363,\n",
       "  2: 0.19671473705687795,\n",
       "  3: 0.20108673916061362,\n",
       "  4: 0.22839356873791183,\n",
       "  5: 0.24803364962186142,\n",
       "  6: 0.2801172312563643,\n",
       "  7: 0.27110793890395973,\n",
       "  8: 0.3110693194328128,\n",
       "  9: 0.316840358987352,\n",
       "  10: 0.3215811625128609,\n",
       "  11: 0.3271420230040678},\n",
       " 1: {1: 0.22985252242840487,\n",
       "  2: 0.19597478469046467,\n",
       "  3: 0.21783907609314937,\n",
       "  4: 0.23930789814136008,\n",
       "  5: 0.26865411317923715,\n",
       "  6: 0.28090549465691333,\n",
       "  7: 0.288099491039961,\n",
       "  8: 0.29758997141753923,\n",
       "  9: 0.31679773694370217,\n",
       "  10: 0.35268393548779886,\n",
       "  11: 0.3378161897150029},\n",
       " 2: {1: 0.20279004818311505,\n",
       "  2: 0.1887408070434549,\n",
       "  3: 0.21838904490771974,\n",
       "  4: 0.2158818242469624,\n",
       "  5: 0.27319212312492397,\n",
       "  6: 0.28078952116189515,\n",
       "  7: 0.28692273536359414,\n",
       "  8: 0.3179243595785271,\n",
       "  9: 0.3185604812317797,\n",
       "  10: 0.3533927597841378,\n",
       "  11: 0.3262227478317309}}"
      ]
     },
     "execution_count": 22,
     "metadata": {},
     "output_type": "execute_result"
    }
   ],
   "source": [
    "meta_results"
   ]
  },
  {
   "cell_type": "code",
   "execution_count": null,
   "id": "99e71ff1",
   "metadata": {},
   "outputs": [],
   "source": []
  },
  {
   "cell_type": "code",
   "execution_count": null,
   "id": "6e8e0360",
   "metadata": {},
   "outputs": [],
   "source": []
  },
  {
   "cell_type": "code",
   "execution_count": 28,
   "id": "b34c6928",
   "metadata": {},
   "outputs": [],
   "source": [
    "# baseline: 0.42486969684209214"
   ]
  },
  {
   "cell_type": "code",
   "execution_count": null,
   "id": "e1f948f5",
   "metadata": {},
   "outputs": [],
   "source": []
  },
  {
   "cell_type": "code",
   "execution_count": null,
   "id": "2512d5cc",
   "metadata": {},
   "outputs": [],
   "source": []
  },
  {
   "cell_type": "code",
   "execution_count": 2,
   "id": "8c052235",
   "metadata": {},
   "outputs": [],
   "source": [
    "import pygal"
   ]
  },
  {
   "cell_type": "code",
   "execution_count": 4,
   "id": "f60f1e68",
   "metadata": {},
   "outputs": [],
   "source": [
    "from pygal.style import Style\n",
    "custom_style = Style(\n",
    "  background='transparent',\n",
    "  plot_background='transparent')"
   ]
  },
  {
   "cell_type": "code",
   "execution_count": null,
   "id": "a0251980",
   "metadata": {},
   "outputs": [],
   "source": []
  },
  {
   "cell_type": "code",
   "execution_count": null,
   "id": "c288952b",
   "metadata": {},
   "outputs": [],
   "source": [
    "line_chart = pygal.Bar(style=custom_style)\n",
    "# line_chart.title = 'Mean Top-5 magnitude-squared coherence'\n",
    "line_chart.x_labels = [\"{}\".format(i) for i in range(1, 12)]\n",
    "line_chart.x_title = \"Layer\"\n",
    "# line_chart.y_title = \"Coherence coefficient\"\n",
    "line_chart.add('Contrastive', contrastive_mean)\n",
    "line_chart.add('Supervised',  supervised_mean)\n",
    "line_chart.render_to_png(\"/home/user/Desktop/sonifications_stimulate.png\")"
   ]
  }
 ],
 "metadata": {
  "kernelspec": {
   "display_name": "Python 3",
   "language": "python",
   "name": "python3"
  },
  "language_info": {
   "codemirror_mode": {
    "name": "ipython",
    "version": 3
   },
   "file_extension": ".py",
   "mimetype": "text/x-python",
   "name": "python",
   "nbconvert_exporter": "python",
   "pygments_lexer": "ipython3",
   "version": "3.8.8"
  }
 },
 "nbformat": 4,
 "nbformat_minor": 5
}
