{
 "cells": [
  {
   "cell_type": "code",
   "execution_count": 1,
   "id": "c3b00547",
   "metadata": {},
   "outputs": [
    {
     "name": "stderr",
     "output_type": "stream",
     "text": [
      "/home/user/miniconda3/envs/asr-env/lib/python3.8/site-packages/torchaudio/backend/utils.py:46: UserWarning: \"torchaudio.USE_SOUNDFILE_LEGACY_INTERFACE\" flag is deprecated and will be removed in 0.9.0. Please remove the use of flag.\n",
      "  warnings.warn(\n"
     ]
    }
   ],
   "source": [
    "import glob\n",
    "import matplotlib.pyplot as plt\n",
    "import torchvision\n",
    "import librosa\n",
    "import random\n",
    "import json\n",
    "import pickle\n",
    "import numpy as np\n",
    "import torch\n",
    "import os\n",
    "torch.multiprocessing.set_sharing_strategy('file_system')\n",
    "import tqdm\n",
    "import gc\n",
    "import sys\n",
    "sys.path.append(\"/home/user/Research/sonifications-paper1517/\")\n",
    "from src.utilities import fourier_analysis\n",
    "from src.utilities import interpretability_utils\n",
    "from src.models.contrastive_model import Model\n",
    "from src.utilities.config_parser import get_config\n",
    "from src.data.raw_transforms import get_raw_transforms_v2\n",
    "from src.data.raw_dataset import RawWaveformDataset\n",
    "from torch.utils.data import DataLoader\n",
    "from src.utilities.fourier_analysis import apply_notch_filter\n",
    "from src.data.utils import _collate_fn_raw, _collate_fn_raw_multiclass\n",
    "import IPython.display as ipd\n",
    "\n",
    "from src.models.cnn12_decoder import DeconvolutionalDecoder\n",
    "from src.utilities.fourier_analysis import compute_fft, get_top_n_frequency_peaks\n",
    "from sklearn.preprocessing import MinMaxScaler, minmax_scale\n",
    "import soundfile as sf\n",
    "import matplotlib.pyplot as plt\n",
    "# plt.rcParams[\"figure.figsize\"] = (30,40)\n",
    "import random\n",
    "import json\n",
    "import tqdm\n",
    "import numpy as np\n",
    "from src.data.utils import _collate_fn_raw, _collate_fn_raw_multiclass\n",
    "from src.data.raw_transforms import get_raw_transforms_v2, simple_supervised_transforms\n",
    "from src.data.raw_transforms import get_raw_transforms_v2, simple_supervised_transforms, PadToSize, PeakNormalization, Compose\n",
    "from src.data.raw_dataset import RawWaveformDataset\n",
    "from torch.utils.data import DataLoader\n",
    "cmaps = [(random.random(), random.random(), random.random()) for i in range(1, 9)]"
   ]
  },
  {
   "cell_type": "code",
   "execution_count": 2,
   "id": "def0195d",
   "metadata": {},
   "outputs": [],
   "source": [
    "def make_dataloader(meta_dir, audio_config, crop_size=5, csv_name=None, mode=\"multilabel\", delim=\";\"):\n",
    "    lbl_map_path = os.path.join(meta_dir, \"lbl_map.json\")\n",
    "    if csv_name:\n",
    "        eval_csv_path = os.path.join(meta_dir, csv_name)\n",
    "    else:\n",
    "        eval_csv_path = os.path.join(meta_dir, \"sonification_eval.csv\")\n",
    "\n",
    "    crop_size = int(crop_size * audio_config['sample_rate'])\n",
    "    # val_tfs = simple_supervised_transforms(False, crop_size,\n",
    "    #                                        sample_rate=audio_config['sample_rate'])\n",
    "    val_tfs = Compose([\n",
    "        PadToSize(crop_size, 'wrap'),\n",
    "        PeakNormalization(sr=audio_config['sample_rate'])\n",
    "    ])\n",
    "    val_set = RawWaveformDataset(eval_csv_path,\n",
    "                                 lbl_map_path,\n",
    "                                 audio_config, mode=mode,\n",
    "                                 transform=val_tfs, is_val=True, delimiter=delim\n",
    "                                 )\n",
    "    collater = _collate_fn_raw if mode == \"multilabel\" else _collate_fn_raw_multiclass\n",
    "    val_loader = DataLoader(val_set, sampler=None, num_workers=1,\n",
    "                            collate_fn=collater,\n",
    "                            shuffle=False, batch_size=1,\n",
    "                            pin_memory=False)\n",
    "    with open(lbl_map_path, \"r\") as fd:\n",
    "        lbl_map = json.load(fd)\n",
    "    inv_lbl_map = {v: k for k, v in lbl_map.items()}\n",
    "\n",
    "    return val_loader, val_set, lbl_map, inv_lbl_map"
   ]
  },
  {
   "cell_type": "code",
   "execution_count": 3,
   "id": "ac36f349",
   "metadata": {},
   "outputs": [],
   "source": [
    "def get_model_and_data(exp_dir, is_contrastive, num_random_maps=0.1, \n",
    "                       output_dir_name=\"featuremap_expection\", last_epoch=None):\n",
    "    EXP_DIR = exp_dir\n",
    "    if is_contrastive:\n",
    "        res = interpretability_utils.prep_contrastive_model_and_decoder(EXP_DIR)\n",
    "    else:\n",
    "        if last_epoch:\n",
    "            res = interpretability_utils.prep_finetuned_model_and_decoder(EXP_DIR, last_epoch=last_epoch)\n",
    "        else:\n",
    "            res = interpretability_utils.prep_finetuned_model_and_decoder(EXP_DIR, last_epoch=50)\n",
    "    model, net, deconv, hparams = res['full_model'], res['feature_extractor'], res['deconv_decoder'], res['hparams']\n",
    "\n",
    "    loader, dset, lbl_map, inv_lbl_map = make_dataloader(\"/media/user/nvme/datasets/fsd50k/fsd50k_8000/meta/\",\n",
    "                                                         hparams.cfg['audio_config'], csv_name=\"eval.csv\", delim=\",\")\n",
    "    results = {\n",
    "        \"model\": model,\n",
    "        \"net\": net,\n",
    "        \"deconv\": deconv,\n",
    "        \"hparams\": hparams,\n",
    "        \"loader\": loader,\n",
    "        \"dset\": dset,\n",
    "        \"lbl_map\": lbl_map\n",
    "    }\n",
    "    return results"
   ]
  },
  {
   "cell_type": "code",
   "execution_count": 4,
   "id": "c4c32ec4",
   "metadata": {},
   "outputs": [],
   "source": [
    "import math"
   ]
  },
  {
   "cell_type": "code",
   "execution_count": 5,
   "id": "ad3405ca",
   "metadata": {},
   "outputs": [],
   "source": [
    "def process_data_record(meta, x, y, layer_index, top_k_perc=0.01, gaussian_perturb=False, baseline=False):\n",
    "    x = x.unsqueeze(0)\n",
    "    signal_input = x.squeeze().cpu().numpy()\n",
    "    if baseline:\n",
    "        if gaussian_perturb:\n",
    "            x_super = noiser(x)\n",
    "            x_super = x_super.cuda()\n",
    "        else:\n",
    "            x_super = x.cuda()\n",
    "    x = x.cuda()\n",
    "    output_features, switch_indices = interpretability_utils.infer_model(meta['net'], x)\n",
    "    if baseline:\n",
    "        supervised_preds = interpretability_utils.get_supervised_predictions(meta['model'], x_super)\n",
    "    else:\n",
    "        supervised_preds = None\n",
    "    act_feats = output_features['act{}'.format(layer_index)]\n",
    "    top_k_num_maps = 1 #int(math.ceil(top_k_perc * act_feats.shape[1]))\n",
    "    # print(top_k_num_maps)\n",
    "    with torch.no_grad():\n",
    "        sonifications = meta['deconv'].visualize_top_k_maps(x, output_features, switch_indices, \n",
    "                                                            layer_index, top_k_num_maps)\n",
    "        # abs scale sonifications\n",
    "        sonifications = [interpretability_utils.process_vis(s, signal_input) for s in sonifications]\n",
    "        # take mean\n",
    "        sonifications = np.asarray(sonifications)\n",
    "        # print(sonifications.shape)\n",
    "        signal_deconved = sonifications.mean(0)\n",
    "        # print(signal_deconved.shape)\n",
    "        \n",
    "    residual_sig = signal_input - signal_deconved\n",
    "    \n",
    "    residual_supervised_preds = interpretability_utils.get_supervised_predictions(meta['model'],\n",
    "                                                                                 interpretability_utils.prep_input(residual_sig))\n",
    "        \n",
    "    return residual_sig, signal_deconved, residual_supervised_preds, supervised_preds"
   ]
  },
  {
   "cell_type": "code",
   "execution_count": null,
   "id": "c93c53e9",
   "metadata": {},
   "outputs": [],
   "source": []
  },
  {
   "cell_type": "code",
   "execution_count": null,
   "id": "d412a5aa",
   "metadata": {},
   "outputs": [],
   "source": []
  },
  {
   "cell_type": "code",
   "execution_count": 6,
   "id": "54588565",
   "metadata": {},
   "outputs": [],
   "source": [
    "# meta1 = get_model_and_data(\"/media/user/nvme/contrastive_experiments/experiments_fsd50k_v3/cnn12_1x_full_tr_1x64_Adam_1e-3_warmupcosine_wd0._fixed_lr_scaling_randomgain_gaussiannoise_timemask_bgnoise_nolineareval_ft_fconly/\", False)"
   ]
  },
  {
   "cell_type": "code",
   "execution_count": 7,
   "id": "a9b7d799",
   "metadata": {},
   "outputs": [
    {
     "name": "stdout",
     "output_type": "stream",
     "text": [
      "Loading /media/user/nvme/contrastive_experiments/experiments_fsd50k_latest/cnn12_1x_full_tr_1x64_Adam_1e-3_warmupcosine_wd0._fixed_lr_scaling_randomgain_gaussiannoise_timemask_bgnoise_nolineareval_ft_fconly_rs8882/ckpts/epoch=096_tr_loss=0.042350_tr_acc=0.475538_val_acc=0.315252.pth\n"
     ]
    }
   ],
   "source": [
    "meta2 = get_model_and_data(\"/media/user/nvme/contrastive_experiments/experiments_fsd50k_latest/cnn12_1x_full_tr_1x64_Adam_1e-3_warmupcosine_wd0._fixed_lr_scaling_randomgain_gaussiannoise_timemask_bgnoise_nolineareval_ft_fconly_rs8882\", False, last_epoch=96)"
   ]
  },
  {
   "cell_type": "code",
   "execution_count": 8,
   "id": "4c4e2d74",
   "metadata": {},
   "outputs": [
    {
     "name": "stdout",
     "output_type": "stream",
     "text": [
      "Loading /media/user/nvme/contrastive_experiments/experiments_fsd50k_latest/cnn12_1x_full_tr_1x64_Adam_1e-3_warmupcosine_wd0._fixed_lr_scaling_randomgain_gaussiannoise_timemask_bgnoise_nolineareval_ft_fconly_rs8883/ckpts/epoch=097_tr_loss=0.042332_tr_acc=0.473105_val_acc=0.320551.pth\n"
     ]
    }
   ],
   "source": [
    "meta3 = get_model_and_data(\"/media/user/nvme/contrastive_experiments/experiments_fsd50k_latest/cnn12_1x_full_tr_1x64_Adam_1e-3_warmupcosine_wd0._fixed_lr_scaling_randomgain_gaussiannoise_timemask_bgnoise_nolineareval_ft_fconly_rs8883\", False, last_epoch=97)"
   ]
  },
  {
   "cell_type": "code",
   "execution_count": 9,
   "id": "6604bcd7",
   "metadata": {},
   "outputs": [
    {
     "name": "stdout",
     "output_type": "stream",
     "text": [
      "Loading /media/user/nvme/contrastive_experiments/experiments_fsd50k_v3/cnn12_1x_full_tr_1x64_Adam_1e-3_warmupcosine_wd0._fixed_lr_scaling_randomgain_gaussiannoise_timemask_bgnoise_nolineareval_ft_fconly_r4/ckpts/epoch=100_tr_loss=0.042172_tr_acc=0.478655_val_acc=0.325465.pth\n"
     ]
    }
   ],
   "source": [
    "meta4 = get_model_and_data(\"/media/user/nvme/contrastive_experiments/experiments_fsd50k_v3/cnn12_1x_full_tr_1x64_Adam_1e-3_warmupcosine_wd0._fixed_lr_scaling_randomgain_gaussiannoise_timemask_bgnoise_nolineareval_ft_fconly_r4/\", False, last_epoch=100)"
   ]
  },
  {
   "cell_type": "code",
   "execution_count": 10,
   "id": "f6b0786a",
   "metadata": {},
   "outputs": [],
   "source": [
    "from sklearn.metrics import average_precision_score"
   ]
  },
  {
   "cell_type": "code",
   "execution_count": 11,
   "id": "5ffa99f1",
   "metadata": {},
   "outputs": [],
   "source": [
    "def calculate_mAP(preds, gts, mode=\"macro\"):\n",
    "    preds = torch.cat(preds, 0).cpu().numpy()\n",
    "    gts = torch.cat(gts, 0).cpu().numpy()\n",
    "    map_value = average_precision_score(gts, preds, average=mode)\n",
    "    return map_value"
   ]
  },
  {
   "cell_type": "code",
   "execution_count": 12,
   "id": "d24457b3",
   "metadata": {},
   "outputs": [],
   "source": [
    "from src.data.raw_transforms import AddGaussianNoise"
   ]
  },
  {
   "cell_type": "code",
   "execution_count": 13,
   "id": "f2afca2d",
   "metadata": {},
   "outputs": [],
   "source": [
    "noiser = AddGaussianNoise()"
   ]
  },
  {
   "cell_type": "code",
   "execution_count": null,
   "id": "f6e7fa52",
   "metadata": {},
   "outputs": [],
   "source": []
  },
  {
   "cell_type": "code",
   "execution_count": null,
   "id": "56184428",
   "metadata": {},
   "outputs": [],
   "source": []
  },
  {
   "cell_type": "code",
   "execution_count": 14,
   "id": "0f90f77a",
   "metadata": {},
   "outputs": [],
   "source": [
    "def process_layer(meta, layer_index, top_k_perc=0.1, gaussian=False, baseline=False):\n",
    "    dset = meta['dset']\n",
    "    gts = []\n",
    "    res_preds = []\n",
    "    inp_preds = []\n",
    "    # range(len(dset))\n",
    "    for ix in tqdm.notebook.tqdm_notebook(range(len(dset)), position=2):\n",
    "        x, y = dset[ix]\n",
    "        _, _, residual_preds, input_preds = process_data_record(meta, x, y, layer_index, top_k_perc, baseline=baseline, gaussian_perturb=gaussian)\n",
    "        gts.append(y.unsqueeze(0))\n",
    "        res_preds.append(residual_preds.detach().cpu())\n",
    "        inp_preds.append(input_preds)\n",
    "    if baseline:\n",
    "        \n",
    "        baseline_map = calculate_mAP(inp_preds, gts)\n",
    "    else:\n",
    "        baseline_map = None\n",
    "    residual_mAP = calculate_mAP(res_preds, gts)\n",
    "    print(residual_mAP, baseline_map)\n",
    "    return residual_mAP, baseline_map"
   ]
  },
  {
   "cell_type": "code",
   "execution_count": 15,
   "id": "235f1185",
   "metadata": {},
   "outputs": [],
   "source": [
    "\n",
    "# orig map: 0.28305179\n",
    "# gaussian noise (0.15 max): 0.26651813197676033"
   ]
  },
  {
   "cell_type": "code",
   "execution_count": 16,
   "id": "d7414b5d",
   "metadata": {},
   "outputs": [],
   "source": [
    "from tqdm import notebook"
   ]
  },
  {
   "cell_type": "code",
   "execution_count": 17,
   "id": "ba26f962",
   "metadata": {},
   "outputs": [],
   "source": [
    "# meta_results = {0: {1: 0.112363904929497,\n",
    "#   2: 0.16124149684864902,\n",
    "#   3: 0.17087513362364473,\n",
    "#   4: 0.13637552450176288,\n",
    "#   5: 0.1516938459454982,\n",
    "#   6: 0.13516237455953947,\n",
    "#   7: 0.13348355100642734,\n",
    "#   8: 0.15114770606482256,\n",
    "#   9: 0.16080071509563712,\n",
    "#   10: 0.16559746885370352,\n",
    "#   11: 0.18547917782726564},}"
   ]
  },
  {
   "cell_type": "code",
   "execution_count": 18,
   "id": "78054e43",
   "metadata": {},
   "outputs": [
    {
     "data": {
      "application/vnd.jupyter.widget-view+json": {
       "model_id": "df05754f6aa24281a2517d55c232c2ad",
       "version_major": 2,
       "version_minor": 0
      },
      "text/plain": [
       "  0%|          | 0/11 [00:00<?, ?it/s]"
      ]
     },
     "metadata": {},
     "output_type": "display_data"
    },
    {
     "data": {
      "application/vnd.jupyter.widget-view+json": {
       "model_id": "88511f57e063435d91a0761ad7c6a5ca",
       "version_major": 2,
       "version_minor": 0
      },
      "text/plain": [
       "  0%|          | 0/10231 [00:00<?, ?it/s]"
      ]
     },
     "metadata": {},
     "output_type": "display_data"
    },
    {
     "name": "stdout",
     "output_type": "stream",
     "text": [
      "0.12566471177609206 0.303938489322368\n"
     ]
    },
    {
     "data": {
      "application/vnd.jupyter.widget-view+json": {
       "model_id": "d9b835213eed40aea2f131caf659c950",
       "version_major": 2,
       "version_minor": 0
      },
      "text/plain": [
       "  0%|          | 0/10231 [00:00<?, ?it/s]"
      ]
     },
     "metadata": {},
     "output_type": "display_data"
    },
    {
     "name": "stdout",
     "output_type": "stream",
     "text": [
      "0.1647873842473217 None\n"
     ]
    },
    {
     "data": {
      "application/vnd.jupyter.widget-view+json": {
       "model_id": "59fbe34c481a4d87aece273b1dd454f6",
       "version_major": 2,
       "version_minor": 0
      },
      "text/plain": [
       "  0%|          | 0/10231 [00:00<?, ?it/s]"
      ]
     },
     "metadata": {},
     "output_type": "display_data"
    },
    {
     "name": "stdout",
     "output_type": "stream",
     "text": [
      "0.16019018325134254 None\n"
     ]
    },
    {
     "data": {
      "application/vnd.jupyter.widget-view+json": {
       "model_id": "868087a8cb8646b19fc2372c1b452bbc",
       "version_major": 2,
       "version_minor": 0
      },
      "text/plain": [
       "  0%|          | 0/10231 [00:00<?, ?it/s]"
      ]
     },
     "metadata": {},
     "output_type": "display_data"
    },
    {
     "name": "stdout",
     "output_type": "stream",
     "text": [
      "0.15784904774401828 None\n"
     ]
    },
    {
     "data": {
      "application/vnd.jupyter.widget-view+json": {
       "model_id": "f8be53a4275c4ba6a0c3eb4876b99913",
       "version_major": 2,
       "version_minor": 0
      },
      "text/plain": [
       "  0%|          | 0/10231 [00:00<?, ?it/s]"
      ]
     },
     "metadata": {},
     "output_type": "display_data"
    },
    {
     "name": "stdout",
     "output_type": "stream",
     "text": [
      "0.14319607804204895 None\n"
     ]
    },
    {
     "data": {
      "application/vnd.jupyter.widget-view+json": {
       "model_id": "429096a981c44af5b97e6eeeb6a721a0",
       "version_major": 2,
       "version_minor": 0
      },
      "text/plain": [
       "  0%|          | 0/10231 [00:00<?, ?it/s]"
      ]
     },
     "metadata": {},
     "output_type": "display_data"
    },
    {
     "name": "stdout",
     "output_type": "stream",
     "text": [
      "0.16323147087577017 None\n"
     ]
    },
    {
     "data": {
      "application/vnd.jupyter.widget-view+json": {
       "model_id": "b535222d485a4737a6cb0a6c64a838c6",
       "version_major": 2,
       "version_minor": 0
      },
      "text/plain": [
       "  0%|          | 0/10231 [00:00<?, ?it/s]"
      ]
     },
     "metadata": {},
     "output_type": "display_data"
    },
    {
     "name": "stdout",
     "output_type": "stream",
     "text": [
      "0.13900931630018876 None\n"
     ]
    },
    {
     "data": {
      "application/vnd.jupyter.widget-view+json": {
       "model_id": "2f7d866e40fb46d48e3637eee03967fe",
       "version_major": 2,
       "version_minor": 0
      },
      "text/plain": [
       "  0%|          | 0/10231 [00:00<?, ?it/s]"
      ]
     },
     "metadata": {},
     "output_type": "display_data"
    },
    {
     "name": "stdout",
     "output_type": "stream",
     "text": [
      "0.1666123977618358 None\n"
     ]
    },
    {
     "data": {
      "application/vnd.jupyter.widget-view+json": {
       "model_id": "081d2daa08084469bf9a07b0656e5307",
       "version_major": 2,
       "version_minor": 0
      },
      "text/plain": [
       "  0%|          | 0/10231 [00:00<?, ?it/s]"
      ]
     },
     "metadata": {},
     "output_type": "display_data"
    },
    {
     "name": "stdout",
     "output_type": "stream",
     "text": [
      "0.17142070211346172 None\n"
     ]
    },
    {
     "data": {
      "application/vnd.jupyter.widget-view+json": {
       "model_id": "e92df4f15f734221afc8734356bba1d3",
       "version_major": 2,
       "version_minor": 0
      },
      "text/plain": [
       "  0%|          | 0/10231 [00:00<?, ?it/s]"
      ]
     },
     "metadata": {},
     "output_type": "display_data"
    },
    {
     "name": "stdout",
     "output_type": "stream",
     "text": [
      "0.17521368748782357 None\n"
     ]
    },
    {
     "data": {
      "application/vnd.jupyter.widget-view+json": {
       "model_id": "756140ed7369491999855563eb904f6c",
       "version_major": 2,
       "version_minor": 0
      },
      "text/plain": [
       "  0%|          | 0/10231 [00:00<?, ?it/s]"
      ]
     },
     "metadata": {},
     "output_type": "display_data"
    },
    {
     "name": "stdout",
     "output_type": "stream",
     "text": [
      "0.1897644526447548 None\n"
     ]
    },
    {
     "data": {
      "application/vnd.jupyter.widget-view+json": {
       "model_id": "a98894130d6547fbb71c7976610a0021",
       "version_major": 2,
       "version_minor": 0
      },
      "text/plain": [
       "  0%|          | 0/11 [00:00<?, ?it/s]"
      ]
     },
     "metadata": {},
     "output_type": "display_data"
    },
    {
     "data": {
      "application/vnd.jupyter.widget-view+json": {
       "model_id": "6371a0acd6f4402386a8626811b01586",
       "version_major": 2,
       "version_minor": 0
      },
      "text/plain": [
       "  0%|          | 0/10231 [00:00<?, ?it/s]"
      ]
     },
     "metadata": {},
     "output_type": "display_data"
    },
    {
     "name": "stdout",
     "output_type": "stream",
     "text": [
      "0.128077341496854 0.3093833789899899\n"
     ]
    },
    {
     "data": {
      "application/vnd.jupyter.widget-view+json": {
       "model_id": "27738531130c41b4a4fcde6da7897604",
       "version_major": 2,
       "version_minor": 0
      },
      "text/plain": [
       "  0%|          | 0/10231 [00:00<?, ?it/s]"
      ]
     },
     "metadata": {},
     "output_type": "display_data"
    },
    {
     "name": "stdout",
     "output_type": "stream",
     "text": [
      "0.1563530354432886 None\n"
     ]
    },
    {
     "data": {
      "application/vnd.jupyter.widget-view+json": {
       "model_id": "89689a1fbeba4b2aab53fcdf92806418",
       "version_major": 2,
       "version_minor": 0
      },
      "text/plain": [
       "  0%|          | 0/10231 [00:00<?, ?it/s]"
      ]
     },
     "metadata": {},
     "output_type": "display_data"
    },
    {
     "name": "stdout",
     "output_type": "stream",
     "text": [
      "0.15620128503875821 None\n"
     ]
    },
    {
     "data": {
      "application/vnd.jupyter.widget-view+json": {
       "model_id": "ed9eca6265a242c7ae8da4a1364eb16f",
       "version_major": 2,
       "version_minor": 0
      },
      "text/plain": [
       "  0%|          | 0/10231 [00:00<?, ?it/s]"
      ]
     },
     "metadata": {},
     "output_type": "display_data"
    },
    {
     "name": "stdout",
     "output_type": "stream",
     "text": [
      "0.14879247434643703 None\n"
     ]
    },
    {
     "data": {
      "application/vnd.jupyter.widget-view+json": {
       "model_id": "2a60408621574a9e94f15d1b27aa630b",
       "version_major": 2,
       "version_minor": 0
      },
      "text/plain": [
       "  0%|          | 0/10231 [00:00<?, ?it/s]"
      ]
     },
     "metadata": {},
     "output_type": "display_data"
    },
    {
     "name": "stdout",
     "output_type": "stream",
     "text": [
      "0.1393481996769682 None\n"
     ]
    },
    {
     "data": {
      "application/vnd.jupyter.widget-view+json": {
       "model_id": "1a8b66c8cb2c4e0cb825b61174fd4b58",
       "version_major": 2,
       "version_minor": 0
      },
      "text/plain": [
       "  0%|          | 0/10231 [00:00<?, ?it/s]"
      ]
     },
     "metadata": {},
     "output_type": "display_data"
    },
    {
     "name": "stdout",
     "output_type": "stream",
     "text": [
      "0.14218285483776774 None\n"
     ]
    },
    {
     "data": {
      "application/vnd.jupyter.widget-view+json": {
       "model_id": "a52d281abc7a4bc790940734c9154f85",
       "version_major": 2,
       "version_minor": 0
      },
      "text/plain": [
       "  0%|          | 0/10231 [00:00<?, ?it/s]"
      ]
     },
     "metadata": {},
     "output_type": "display_data"
    },
    {
     "name": "stdout",
     "output_type": "stream",
     "text": [
      "0.13139365072408943 None\n"
     ]
    },
    {
     "data": {
      "application/vnd.jupyter.widget-view+json": {
       "model_id": "fd907c2c12a249ee9d7c6533f26bab4c",
       "version_major": 2,
       "version_minor": 0
      },
      "text/plain": [
       "  0%|          | 0/10231 [00:00<?, ?it/s]"
      ]
     },
     "metadata": {},
     "output_type": "display_data"
    },
    {
     "name": "stdout",
     "output_type": "stream",
     "text": [
      "0.15342667145954111 None\n"
     ]
    },
    {
     "data": {
      "application/vnd.jupyter.widget-view+json": {
       "model_id": "9e68d81973594f3caee36d5fb8780951",
       "version_major": 2,
       "version_minor": 0
      },
      "text/plain": [
       "  0%|          | 0/10231 [00:00<?, ?it/s]"
      ]
     },
     "metadata": {},
     "output_type": "display_data"
    },
    {
     "name": "stdout",
     "output_type": "stream",
     "text": [
      "0.1572712177826516 None\n"
     ]
    },
    {
     "data": {
      "application/vnd.jupyter.widget-view+json": {
       "model_id": "dd506681890e4d07ad7dbbab947ef7b6",
       "version_major": 2,
       "version_minor": 0
      },
      "text/plain": [
       "  0%|          | 0/10231 [00:00<?, ?it/s]"
      ]
     },
     "metadata": {},
     "output_type": "display_data"
    },
    {
     "name": "stdout",
     "output_type": "stream",
     "text": [
      "0.17504515113215752 None\n"
     ]
    },
    {
     "data": {
      "application/vnd.jupyter.widget-view+json": {
       "model_id": "ba3fafa73dea4d49850234e0e1dbbaf2",
       "version_major": 2,
       "version_minor": 0
      },
      "text/plain": [
       "  0%|          | 0/10231 [00:00<?, ?it/s]"
      ]
     },
     "metadata": {},
     "output_type": "display_data"
    },
    {
     "name": "stdout",
     "output_type": "stream",
     "text": [
      "0.17780279074768604 None\n"
     ]
    },
    {
     "data": {
      "application/vnd.jupyter.widget-view+json": {
       "model_id": "73153acf53fe4f7c972e73db8c978334",
       "version_major": 2,
       "version_minor": 0
      },
      "text/plain": [
       "  0%|          | 0/11 [00:00<?, ?it/s]"
      ]
     },
     "metadata": {},
     "output_type": "display_data"
    },
    {
     "data": {
      "application/vnd.jupyter.widget-view+json": {
       "model_id": "5b3c90d0584e4f8c8d69eea0287a5d63",
       "version_major": 2,
       "version_minor": 0
      },
      "text/plain": [
       "  0%|          | 0/10231 [00:00<?, ?it/s]"
      ]
     },
     "metadata": {},
     "output_type": "display_data"
    },
    {
     "name": "stdout",
     "output_type": "stream",
     "text": [
      "0.1137792364142563 0.30591501256690773\n"
     ]
    },
    {
     "data": {
      "application/vnd.jupyter.widget-view+json": {
       "model_id": "083a27957dd54cc59d66f55ca51c3daa",
       "version_major": 2,
       "version_minor": 0
      },
      "text/plain": [
       "  0%|          | 0/10231 [00:00<?, ?it/s]"
      ]
     },
     "metadata": {},
     "output_type": "display_data"
    },
    {
     "name": "stdout",
     "output_type": "stream",
     "text": [
      "0.1663257130724236 None\n"
     ]
    },
    {
     "data": {
      "application/vnd.jupyter.widget-view+json": {
       "model_id": "4c8df696935646b59dbcd2658d7e4be2",
       "version_major": 2,
       "version_minor": 0
      },
      "text/plain": [
       "  0%|          | 0/10231 [00:00<?, ?it/s]"
      ]
     },
     "metadata": {},
     "output_type": "display_data"
    },
    {
     "name": "stdout",
     "output_type": "stream",
     "text": [
      "0.17699919104957346 None\n"
     ]
    },
    {
     "data": {
      "application/vnd.jupyter.widget-view+json": {
       "model_id": "2b93ba362b044e8d8fd8edb93cca1767",
       "version_major": 2,
       "version_minor": 0
      },
      "text/plain": [
       "  0%|          | 0/10231 [00:00<?, ?it/s]"
      ]
     },
     "metadata": {},
     "output_type": "display_data"
    },
    {
     "name": "stdout",
     "output_type": "stream",
     "text": [
      "0.14259340262057157 None\n"
     ]
    },
    {
     "data": {
      "application/vnd.jupyter.widget-view+json": {
       "model_id": "7e59a346991144e7b55f1732dabc18df",
       "version_major": 2,
       "version_minor": 0
      },
      "text/plain": [
       "  0%|          | 0/10231 [00:00<?, ?it/s]"
      ]
     },
     "metadata": {},
     "output_type": "display_data"
    },
    {
     "name": "stdout",
     "output_type": "stream",
     "text": [
      "0.1587097415129478 None\n"
     ]
    },
    {
     "data": {
      "application/vnd.jupyter.widget-view+json": {
       "model_id": "ce649ddd4180416e9c811aee2aa1e63c",
       "version_major": 2,
       "version_minor": 0
      },
      "text/plain": [
       "  0%|          | 0/10231 [00:00<?, ?it/s]"
      ]
     },
     "metadata": {},
     "output_type": "display_data"
    },
    {
     "name": "stdout",
     "output_type": "stream",
     "text": [
      "0.1404819869242055 None\n"
     ]
    },
    {
     "data": {
      "application/vnd.jupyter.widget-view+json": {
       "model_id": "c9405df8642b44b3a867942135f5769d",
       "version_major": 2,
       "version_minor": 0
      },
      "text/plain": [
       "  0%|          | 0/10231 [00:00<?, ?it/s]"
      ]
     },
     "metadata": {},
     "output_type": "display_data"
    },
    {
     "name": "stdout",
     "output_type": "stream",
     "text": [
      "0.13896763261105718 None\n"
     ]
    },
    {
     "data": {
      "application/vnd.jupyter.widget-view+json": {
       "model_id": "2d9a062bcfbf4fa3bbbf4bab81a2c651",
       "version_major": 2,
       "version_minor": 0
      },
      "text/plain": [
       "  0%|          | 0/10231 [00:00<?, ?it/s]"
      ]
     },
     "metadata": {},
     "output_type": "display_data"
    },
    {
     "name": "stdout",
     "output_type": "stream",
     "text": [
      "0.15722643945899098 None\n"
     ]
    },
    {
     "data": {
      "application/vnd.jupyter.widget-view+json": {
       "model_id": "88cc2b7e27504d8d9e4a63c19c1dba1b",
       "version_major": 2,
       "version_minor": 0
      },
      "text/plain": [
       "  0%|          | 0/10231 [00:00<?, ?it/s]"
      ]
     },
     "metadata": {},
     "output_type": "display_data"
    },
    {
     "name": "stdout",
     "output_type": "stream",
     "text": [
      "0.16610890440179626 None\n"
     ]
    },
    {
     "data": {
      "application/vnd.jupyter.widget-view+json": {
       "model_id": "d3bdbf172a89480b948153eae80f90c7",
       "version_major": 2,
       "version_minor": 0
      },
      "text/plain": [
       "  0%|          | 0/10231 [00:00<?, ?it/s]"
      ]
     },
     "metadata": {},
     "output_type": "display_data"
    },
    {
     "name": "stdout",
     "output_type": "stream",
     "text": [
      "0.17226367902502862 None\n"
     ]
    },
    {
     "data": {
      "application/vnd.jupyter.widget-view+json": {
       "model_id": "b312132fa8a24e2db46eb8d3e4d14bd2",
       "version_major": 2,
       "version_minor": 0
      },
      "text/plain": [
       "  0%|          | 0/10231 [00:00<?, ?it/s]"
      ]
     },
     "metadata": {},
     "output_type": "display_data"
    },
    {
     "name": "stdout",
     "output_type": "stream",
     "text": [
      "0.19119348947204767 None\n"
     ]
    }
   ],
   "source": [
    "meta_results = {}\n",
    "meta_count = 0\n",
    "for meta in [meta2, meta3, meta4]:\n",
    "    results = {}\n",
    "    for layer_idx in notebook.tqdm(range(1, 12), position=1):\n",
    "        if layer_idx == 1:\n",
    "            baseline = True\n",
    "        else:\n",
    "            baseline = False\n",
    "        res_mAP, baseline_mAP = process_layer(meta, layer_idx, top_k_perc=1., baseline=baseline)\n",
    "        results[layer_idx] = res_mAP\n",
    "    meta_results[meta_count] = results\n",
    "    meta_count += 1"
   ]
  },
  {
   "cell_type": "code",
   "execution_count": 19,
   "id": "235265c7",
   "metadata": {},
   "outputs": [],
   "source": [
    "baselines = [0.303938489322368, 0.3093833789899899, 0.30591501256690773]"
   ]
  },
  {
   "cell_type": "code",
   "execution_count": null,
   "id": "c50d2d6d",
   "metadata": {},
   "outputs": [],
   "source": []
  },
  {
   "cell_type": "code",
   "execution_count": 21,
   "id": "5e7e577e",
   "metadata": {},
   "outputs": [
    {
     "data": {
      "text/plain": [
       "{0: {1: 0.12566471177609206,\n",
       "  2: 0.1647873842473217,\n",
       "  3: 0.16019018325134254,\n",
       "  4: 0.15784904774401828,\n",
       "  5: 0.14319607804204895,\n",
       "  6: 0.16323147087577017,\n",
       "  7: 0.13900931630018876,\n",
       "  8: 0.1666123977618358,\n",
       "  9: 0.17142070211346172,\n",
       "  10: 0.17521368748782357,\n",
       "  11: 0.1897644526447548},\n",
       " 1: {1: 0.128077341496854,\n",
       "  2: 0.1563530354432886,\n",
       "  3: 0.15620128503875821,\n",
       "  4: 0.14879247434643703,\n",
       "  5: 0.1393481996769682,\n",
       "  6: 0.14218285483776774,\n",
       "  7: 0.13139365072408943,\n",
       "  8: 0.15342667145954111,\n",
       "  9: 0.1572712177826516,\n",
       "  10: 0.17504515113215752,\n",
       "  11: 0.17780279074768604},\n",
       " 2: {1: 0.1137792364142563,\n",
       "  2: 0.1663257130724236,\n",
       "  3: 0.17699919104957346,\n",
       "  4: 0.14259340262057157,\n",
       "  5: 0.1587097415129478,\n",
       "  6: 0.1404819869242055,\n",
       "  7: 0.13896763261105718,\n",
       "  8: 0.15722643945899098,\n",
       "  9: 0.16610890440179626,\n",
       "  10: 0.17226367902502862,\n",
       "  11: 0.19119348947204767}}"
      ]
     },
     "execution_count": 21,
     "metadata": {},
     "output_type": "execute_result"
    }
   ],
   "source": [
    "meta_results"
   ]
  },
  {
   "cell_type": "code",
   "execution_count": null,
   "id": "51c8f276",
   "metadata": {},
   "outputs": [],
   "source": []
  }
 ],
 "metadata": {
  "kernelspec": {
   "display_name": "Python 3",
   "language": "python",
   "name": "python3"
  },
  "language_info": {
   "codemirror_mode": {
    "name": "ipython",
    "version": 3
   },
   "file_extension": ".py",
   "mimetype": "text/x-python",
   "name": "python",
   "nbconvert_exporter": "python",
   "pygments_lexer": "ipython3",
   "version": "3.8.8"
  }
 },
 "nbformat": 4,
 "nbformat_minor": 5
}
