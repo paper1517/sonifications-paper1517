{
 "cells": [
  {
   "cell_type": "code",
   "execution_count": 1,
   "id": "e2f3f374",
   "metadata": {},
   "outputs": [
    {
     "name": "stderr",
     "output_type": "stream",
     "text": [
      "/home/user/miniconda3/envs/asr-env/lib/python3.8/site-packages/torchaudio/backend/utils.py:46: UserWarning: \"torchaudio.USE_SOUNDFILE_LEGACY_INTERFACE\" flag is deprecated and will be removed in 0.9.0. Please remove the use of flag.\n",
      "  warnings.warn(\n"
     ]
    }
   ],
   "source": [
    "import glob\n",
    "import matplotlib.pyplot as plt\n",
    "import torchvision\n",
    "import librosa\n",
    "import random\n",
    "import json\n",
    "import pickle\n",
    "import numpy as np\n",
    "import torch\n",
    "import os\n",
    "torch.multiprocessing.set_sharing_strategy('file_system')\n",
    "import tqdm\n",
    "import gc\n",
    "import sys\n",
    "sys.path.append(\"/home/user/Research/sonifications-paper1517/\")\n",
    "from src.utilities import fourier_analysis\n",
    "from src.utilities import interpretability_utils\n",
    "from src.utilities import feature_evolution_helper\n",
    "import IPython.display as ipd\n",
    "import soundfile as sf\n",
    "import matplotlib.pyplot as plt\n",
    "# plt.rcParams[\"figure.figsize\"] = (30,40)\n",
    "import random\n",
    "import json\n",
    "import tqdm\n",
    "import numpy as np"
   ]
  },
  {
   "cell_type": "code",
   "execution_count": 2,
   "id": "f985a5c3",
   "metadata": {},
   "outputs": [],
   "source": [
    "exp_dir = \"/media/user/nvme/contrastive_experiments/experiments_contrastive_v5/cnn12_1x_full_tr_8x256_Adam_1e-3_warmupcosine_0.5_wd1e-5_fixed_lr_scaling_randomgain_gaussiannoise_timemasking_bgnoise_nolineareval/\""
   ]
  },
  {
   "cell_type": "code",
   "execution_count": 3,
   "id": "0df1c193",
   "metadata": {},
   "outputs": [
    {
     "name": "stdout",
     "output_type": "stream",
     "text": [
      "Loading /media/user/nvme/contrastive_experiments/experiments_contrastive_v5/cnn12_1x_full_tr_8x256_Adam_1e-3_warmupcosine_0.5_wd1e-5_fixed_lr_scaling_randomgain_gaussiannoise_timemasking_bgnoise_nolineareval/ckpts/epoch=100_tr_loss=1.124386_tr_acc=0.854235.pth\n"
     ]
    }
   ],
   "source": [
    "model, net, deconv, hparams = interpretability_utils.model_helper(exp_dir, True)\n",
    "with open(\"/media/user/nvme/contrastive_experiments/contrastive_select_inputs_evolution.pkl\", \"rb\") as fd:\n",
    "    selected_inputs = pickle.load(fd)\n",
    "with open(\"/media/user/nvme/contrastive_experiments/contrastive_select_maps.pkl\", \"rb\") as fd:\n",
    "    selected_maps = pickle.load(fd)"
   ]
  },
  {
   "cell_type": "code",
   "execution_count": 7,
   "id": "a15da66c",
   "metadata": {},
   "outputs": [
    {
     "data": {
      "text/plain": [
       "{953: [11286], 803: [16663]}"
      ]
     },
     "execution_count": 7,
     "metadata": {},
     "output_type": "execute_result"
    }
   ],
   "source": [
    "selected_inputs[10]['indices']"
   ]
  },
  {
   "cell_type": "code",
   "execution_count": null,
   "id": "aa5cc5b5",
   "metadata": {},
   "outputs": [],
   "source": []
  },
  {
   "cell_type": "code",
   "execution_count": 8,
   "id": "2206b184",
   "metadata": {},
   "outputs": [],
   "source": [
    "val_loader, val_set, lbl_map, inv_lbl_map = interpretability_utils.make_dataloader(\"/media/user/nvme/datasets/audioset/meta_8000/\", hparams.cfg['audio_config'], csv_name=\"eval.csv\")"
   ]
  },
  {
   "cell_type": "code",
   "execution_count": 9,
   "id": "190a3c74",
   "metadata": {},
   "outputs": [],
   "source": [
    "ckpt_idxs = feature_evolution_helper.get_ckpt_indices(is_contrastive=True)"
   ]
  },
  {
   "cell_type": "code",
   "execution_count": 10,
   "id": "76b10f00",
   "metadata": {},
   "outputs": [],
   "source": [
    "from tqdm import notebook"
   ]
  },
  {
   "cell_type": "code",
   "execution_count": 11,
   "id": "25af178e",
   "metadata": {},
   "outputs": [
    {
     "data": {
      "text/plain": [
       "[100, 80, 60, 40, 20, 1]"
      ]
     },
     "execution_count": 11,
     "metadata": {},
     "output_type": "execute_result"
    }
   ],
   "source": [
    "ckpt_idxs"
   ]
  },
  {
   "cell_type": "code",
   "execution_count": null,
   "id": "231dd3ba",
   "metadata": {},
   "outputs": [],
   "source": []
  },
  {
   "cell_type": "code",
   "execution_count": 12,
   "id": "0bec883c",
   "metadata": {},
   "outputs": [],
   "source": [
    "import matplotlib.pyplot as plt"
   ]
  },
  {
   "cell_type": "code",
   "execution_count": 13,
   "id": "fa119f19",
   "metadata": {},
   "outputs": [],
   "source": [
    "from torchvision.utils import make_grid\n",
    "from torchvision.utils import save_image"
   ]
  },
  {
   "cell_type": "code",
   "execution_count": 14,
   "id": "01e02836",
   "metadata": {},
   "outputs": [],
   "source": [
    "out_dir = os.path.join(exp_dir, \"contrastive_feature_evolution_vis\")"
   ]
  },
  {
   "cell_type": "code",
   "execution_count": 15,
   "id": "3c60aeb9",
   "metadata": {},
   "outputs": [],
   "source": [
    "import cv2"
   ]
  },
  {
   "cell_type": "code",
   "execution_count": null,
   "id": "d4f5111d",
   "metadata": {},
   "outputs": [],
   "source": []
  },
  {
   "cell_type": "code",
   "execution_count": 16,
   "id": "c7d39a23",
   "metadata": {},
   "outputs": [
    {
     "data": {
      "application/vnd.jupyter.widget-view+json": {
       "model_id": "d90438ecea9c4b93a690e0c4bbcd2399",
       "version_major": 2,
       "version_minor": 0
      },
      "text/plain": [
       "  0%|          | 0/3 [00:00<?, ?it/s]"
      ]
     },
     "metadata": {},
     "output_type": "display_data"
    },
    {
     "name": "stdout",
     "output_type": "stream",
     "text": [
      "{398: [5434], 119: [7839]}\n"
     ]
    },
    {
     "data": {
      "application/vnd.jupyter.widget-view+json": {
       "model_id": "66ceb006567a44c3a62a15f43be5acdf",
       "version_major": 2,
       "version_minor": 0
      },
      "text/plain": [
       "  0%|          | 0/6 [00:00<?, ?it/s]"
      ]
     },
     "metadata": {},
     "output_type": "display_data"
    },
    {
     "name": "stdout",
     "output_type": "stream",
     "text": [
      "Loading /media/user/nvme/contrastive_experiments/experiments_contrastive_v5/cnn12_1x_full_tr_8x256_Adam_1e-3_warmupcosine_0.5_wd1e-5_fixed_lr_scaling_randomgain_gaussiannoise_timemasking_bgnoise_nolineareval/ckpts/epoch=100_tr_loss=1.124386_tr_acc=0.854235.pth\n",
      "Loading /media/user/nvme/contrastive_experiments/experiments_contrastive_v5/cnn12_1x_full_tr_8x256_Adam_1e-3_warmupcosine_0.5_wd1e-5_fixed_lr_scaling_randomgain_gaussiannoise_timemasking_bgnoise_nolineareval/ckpts/epoch=080_tr_loss=1.166729_tr_acc=0.846442.pth\n",
      "Loading /media/user/nvme/contrastive_experiments/experiments_contrastive_v5/cnn12_1x_full_tr_8x256_Adam_1e-3_warmupcosine_0.5_wd1e-5_fixed_lr_scaling_randomgain_gaussiannoise_timemasking_bgnoise_nolineareval/ckpts/epoch=060_tr_loss=1.260719_tr_acc=0.829634.pth\n",
      "Loading /media/user/nvme/contrastive_experiments/experiments_contrastive_v5/cnn12_1x_full_tr_8x256_Adam_1e-3_warmupcosine_0.5_wd1e-5_fixed_lr_scaling_randomgain_gaussiannoise_timemasking_bgnoise_nolineareval/ckpts/epoch=040_tr_loss=1.366614_tr_acc=0.810499.pth\n",
      "Loading /media/user/nvme/contrastive_experiments/experiments_contrastive_v5/cnn12_1x_full_tr_8x256_Adam_1e-3_warmupcosine_0.5_wd1e-5_fixed_lr_scaling_randomgain_gaussiannoise_timemasking_bgnoise_nolineareval/ckpts/epoch=020_tr_loss=1.518555_tr_acc=0.782105.pth\n",
      "Loading /media/user/nvme/contrastive_experiments/experiments_contrastive_v5/cnn12_1x_full_tr_8x256_Adam_1e-3_warmupcosine_0.5_wd1e-5_fixed_lr_scaling_randomgain_gaussiannoise_timemasking_bgnoise_nolineareval/ckpts/epoch=001_tr_loss=4.164655_tr_acc=0.288292.pth\n",
      "398\n",
      "119\n",
      "{471: [11286], 8: [8525]}\n"
     ]
    },
    {
     "data": {
      "application/vnd.jupyter.widget-view+json": {
       "model_id": "e61792fc68a44fbf93ec7276ca8b9e87",
       "version_major": 2,
       "version_minor": 0
      },
      "text/plain": [
       "  0%|          | 0/6 [00:00<?, ?it/s]"
      ]
     },
     "metadata": {},
     "output_type": "display_data"
    },
    {
     "name": "stdout",
     "output_type": "stream",
     "text": [
      "Loading /media/user/nvme/contrastive_experiments/experiments_contrastive_v5/cnn12_1x_full_tr_8x256_Adam_1e-3_warmupcosine_0.5_wd1e-5_fixed_lr_scaling_randomgain_gaussiannoise_timemasking_bgnoise_nolineareval/ckpts/epoch=100_tr_loss=1.124386_tr_acc=0.854235.pth\n",
      "Loading /media/user/nvme/contrastive_experiments/experiments_contrastive_v5/cnn12_1x_full_tr_8x256_Adam_1e-3_warmupcosine_0.5_wd1e-5_fixed_lr_scaling_randomgain_gaussiannoise_timemasking_bgnoise_nolineareval/ckpts/epoch=080_tr_loss=1.166729_tr_acc=0.846442.pth\n",
      "Loading /media/user/nvme/contrastive_experiments/experiments_contrastive_v5/cnn12_1x_full_tr_8x256_Adam_1e-3_warmupcosine_0.5_wd1e-5_fixed_lr_scaling_randomgain_gaussiannoise_timemasking_bgnoise_nolineareval/ckpts/epoch=060_tr_loss=1.260719_tr_acc=0.829634.pth\n",
      "Loading /media/user/nvme/contrastive_experiments/experiments_contrastive_v5/cnn12_1x_full_tr_8x256_Adam_1e-3_warmupcosine_0.5_wd1e-5_fixed_lr_scaling_randomgain_gaussiannoise_timemasking_bgnoise_nolineareval/ckpts/epoch=040_tr_loss=1.366614_tr_acc=0.810499.pth\n",
      "Loading /media/user/nvme/contrastive_experiments/experiments_contrastive_v5/cnn12_1x_full_tr_8x256_Adam_1e-3_warmupcosine_0.5_wd1e-5_fixed_lr_scaling_randomgain_gaussiannoise_timemasking_bgnoise_nolineareval/ckpts/epoch=020_tr_loss=1.518555_tr_acc=0.782105.pth\n",
      "Loading /media/user/nvme/contrastive_experiments/experiments_contrastive_v5/cnn12_1x_full_tr_8x256_Adam_1e-3_warmupcosine_0.5_wd1e-5_fixed_lr_scaling_randomgain_gaussiannoise_timemasking_bgnoise_nolineareval/ckpts/epoch=001_tr_loss=4.164655_tr_acc=0.288292.pth\n",
      "471\n",
      "8\n",
      "{953: [11286], 803: [16663]}\n"
     ]
    },
    {
     "data": {
      "application/vnd.jupyter.widget-view+json": {
       "model_id": "6ceed74d7b1e4e09aed336708e86ebe1",
       "version_major": 2,
       "version_minor": 0
      },
      "text/plain": [
       "  0%|          | 0/6 [00:00<?, ?it/s]"
      ]
     },
     "metadata": {},
     "output_type": "display_data"
    },
    {
     "name": "stdout",
     "output_type": "stream",
     "text": [
      "Loading /media/user/nvme/contrastive_experiments/experiments_contrastive_v5/cnn12_1x_full_tr_8x256_Adam_1e-3_warmupcosine_0.5_wd1e-5_fixed_lr_scaling_randomgain_gaussiannoise_timemasking_bgnoise_nolineareval/ckpts/epoch=100_tr_loss=1.124386_tr_acc=0.854235.pth\n",
      "Loading /media/user/nvme/contrastive_experiments/experiments_contrastive_v5/cnn12_1x_full_tr_8x256_Adam_1e-3_warmupcosine_0.5_wd1e-5_fixed_lr_scaling_randomgain_gaussiannoise_timemasking_bgnoise_nolineareval/ckpts/epoch=080_tr_loss=1.166729_tr_acc=0.846442.pth\n",
      "Loading /media/user/nvme/contrastive_experiments/experiments_contrastive_v5/cnn12_1x_full_tr_8x256_Adam_1e-3_warmupcosine_0.5_wd1e-5_fixed_lr_scaling_randomgain_gaussiannoise_timemasking_bgnoise_nolineareval/ckpts/epoch=060_tr_loss=1.260719_tr_acc=0.829634.pth\n",
      "Loading /media/user/nvme/contrastive_experiments/experiments_contrastive_v5/cnn12_1x_full_tr_8x256_Adam_1e-3_warmupcosine_0.5_wd1e-5_fixed_lr_scaling_randomgain_gaussiannoise_timemasking_bgnoise_nolineareval/ckpts/epoch=040_tr_loss=1.366614_tr_acc=0.810499.pth\n",
      "Loading /media/user/nvme/contrastive_experiments/experiments_contrastive_v5/cnn12_1x_full_tr_8x256_Adam_1e-3_warmupcosine_0.5_wd1e-5_fixed_lr_scaling_randomgain_gaussiannoise_timemasking_bgnoise_nolineareval/ckpts/epoch=020_tr_loss=1.518555_tr_acc=0.782105.pth\n",
      "Loading /media/user/nvme/contrastive_experiments/experiments_contrastive_v5/cnn12_1x_full_tr_8x256_Adam_1e-3_warmupcosine_0.5_wd1e-5_fixed_lr_scaling_randomgain_gaussiannoise_timemasking_bgnoise_nolineareval/ckpts/epoch=001_tr_loss=4.164655_tr_acc=0.288292.pth\n",
      "953\n",
      "803\n"
     ]
    }
   ],
   "source": [
    "layer_grids = []\n",
    "# for layer_idx in notebook.tqdm(range(1, 12)):\n",
    "for layer_idx in notebook.tqdm([8,9,10]):\n",
    "    results = feature_evolution_helper.process_features_over_training(exp_dir, ckpt_idxs, layer_idx, selected_inputs, val_set, inv_lbl_map, is_contrastive=True)\n",
    "    res = feature_evolution_helper.plot_evo_spectrograms_noplot(results, layer_idx, ckpt_idxs)\n",
    "    all_specs = feature_evolution_helper.tile_spectrograms(res)\n",
    "    layer_grid = make_grid(all_specs, nrow=6, padding=5, normalize=True)\n",
    "    # plt.imshow(layer_grid[0])\n",
    "    # plt.show()\n",
    "    out_fld = os.path.join(out_dir, \"layer_{:02d}\".format(layer_idx))\n",
    "    if not os.path.exists(out_fld):\n",
    "        os.makedirs(out_fld)\n",
    "    save_image(layer_grid, os.path.join(out_fld, \"output.png\"))\n",
    "    dec_grid_np = cv2.imread(os.path.join(out_fld, \"output.png\"))\n",
    "    dec_grid_np = cv2.applyColorMap(dec_grid_np, cv2.COLORMAP_VIRIDIS)\n",
    "    cv2.imwrite(os.path.join(out_fld, \"output.bmp\"), dec_grid_np)\n",
    "    os.remove(os.path.join(out_fld, \"output.png\"))\n",
    "    \n",
    "    layer_grids.append(layer_grid)"
   ]
  },
  {
   "cell_type": "code",
   "execution_count": null,
   "id": "8419156f",
   "metadata": {},
   "outputs": [],
   "source": []
  }
 ],
 "metadata": {
  "kernelspec": {
   "display_name": "Python 3",
   "language": "python",
   "name": "python3"
  },
  "language_info": {
   "codemirror_mode": {
    "name": "ipython",
    "version": 3
   },
   "file_extension": ".py",
   "mimetype": "text/x-python",
   "name": "python",
   "nbconvert_exporter": "python",
   "pygments_lexer": "ipython3",
   "version": "3.8.8"
  }
 },
 "nbformat": 4,
 "nbformat_minor": 5
}
