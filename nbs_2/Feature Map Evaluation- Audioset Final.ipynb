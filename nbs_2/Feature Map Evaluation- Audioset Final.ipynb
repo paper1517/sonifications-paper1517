{
 "cells": [
  {
   "cell_type": "markdown",
   "id": "24b41923",
   "metadata": {},
   "source": [
    "## This notebooks is used for extracting sonifications for audioset models"
   ]
  },
  {
   "cell_type": "code",
   "execution_count": 1,
   "id": "107b6123",
   "metadata": {},
   "outputs": [
    {
     "name": "stderr",
     "output_type": "stream",
     "text": [
      "/home/user/miniconda3/envs/asr-env/lib/python3.8/site-packages/torchaudio/backend/utils.py:46: UserWarning: \"torchaudio.USE_SOUNDFILE_LEGACY_INTERFACE\" flag is deprecated and will be removed in 0.9.0. Please remove the use of flag.\n",
      "  warnings.warn(\n"
     ]
    }
   ],
   "source": [
    "import glob\n",
    "import matplotlib.pyplot as plt\n",
    "import torchvision\n",
    "import librosa\n",
    "import random\n",
    "import json\n",
    "import pickle\n",
    "import numpy as np\n",
    "import torch\n",
    "import os\n",
    "torch.multiprocessing.set_sharing_strategy('file_system')\n",
    "import tqdm\n",
    "import gc\n",
    "import sys\n",
    "sys.path.append(\"/home/user/Research/sonifications-paper1517/\")\n",
    "from src.utilities import fourier_analysis\n",
    "from src.utilities import interpretability_utils\n",
    "from src.models.contrastive_model import Model\n",
    "from src.utilities.config_parser import get_config\n",
    "from src.data.raw_transforms import get_raw_transforms_v2\n",
    "from src.data.raw_dataset import RawWaveformDataset\n",
    "from torch.utils.data import DataLoader\n",
    "from src.utilities.fourier_analysis import apply_notch_filter\n",
    "from src.data.utils import _collate_fn_raw, _collate_fn_raw_multiclass\n",
    "import IPython.display as ipd\n",
    "\n",
    "from src.models.cnn12_decoder import DeconvolutionalDecoder\n",
    "from src.utilities.fourier_analysis import compute_fft, get_top_n_frequency_peaks\n",
    "from sklearn.preprocessing import MinMaxScaler, minmax_scale\n",
    "import soundfile as sf\n",
    "import matplotlib.pyplot as plt\n",
    "# plt.rcParams[\"figure.figsize\"] = (30,40)\n",
    "import random\n",
    "import json\n",
    "import tqdm\n",
    "import numpy as np\n",
    "from src.data.utils import _collate_fn_raw, _collate_fn_raw_multiclass\n",
    "from src.data.raw_transforms import get_raw_transforms_v2, simple_supervised_transforms\n",
    "from src.data.raw_dataset import RawWaveformDataset\n",
    "from torch.utils.data import DataLoader\n",
    "cmaps = [(random.random(), random.random(), random.random()) for i in range(1, 9)]"
   ]
  },
  {
   "cell_type": "code",
   "execution_count": 2,
   "id": "45f55338",
   "metadata": {},
   "outputs": [],
   "source": [
    "def get_spec(x):\n",
    "    _, _, data_spec, _ = fourier_analysis.perform_stft(x, noverlap_ms=0.01, nfft=512, boundary=\"zeros\")\n",
    "    spec = np.abs(data_spec) ** 2\n",
    "    spec = librosa.amplitude_to_db(spec)\n",
    "    return spec"
   ]
  },
  {
   "cell_type": "code",
   "execution_count": 3,
   "id": "4f996f4c",
   "metadata": {},
   "outputs": [],
   "source": [
    "def make_dataloader(meta_dir, audio_config, crop_size=5, csv_name=None, mode=\"multilabel\", delim=\";\"):\n",
    "    lbl_map_path = os.path.join(meta_dir, \"lbl_map.json\")\n",
    "    if csv_name:\n",
    "        eval_csv_path = os.path.join(meta_dir, csv_name)\n",
    "    else:\n",
    "        eval_csv_path = os.path.join(meta_dir, \"sonification_eval.csv\")\n",
    "\n",
    "    crop_size = int(crop_size * audio_config['sample_rate'])\n",
    "    val_tfs = simple_supervised_transforms(False, crop_size,\n",
    "                                           sample_rate=audio_config['sample_rate'])\n",
    "    val_set = RawWaveformDataset(eval_csv_path,\n",
    "                                 lbl_map_path,\n",
    "                                 audio_config, mode=mode,\n",
    "                                 transform=val_tfs, is_val=True, delimiter=delim\n",
    "                                 )\n",
    "    collater = _collate_fn_raw if mode == \"multilabel\" else _collate_fn_raw_multiclass\n",
    "    val_loader = DataLoader(val_set, sampler=None, num_workers=1,\n",
    "                            collate_fn=collater,\n",
    "                            shuffle=False, batch_size=1,\n",
    "                            pin_memory=False)\n",
    "    with open(lbl_map_path, \"r\") as fd:\n",
    "        lbl_map = json.load(fd)\n",
    "    inv_lbl_map = {v: k for k, v in lbl_map.items()}\n",
    "\n",
    "    return val_loader, val_set, lbl_map, inv_lbl_map\n",
    "\n",
    "\n",
    "def analyze_random_maps(layer_index, loader, dataset, inv_lbl_map,\n",
    "                        net, deconv,\n",
    "                        num_random_maps=0.1, top_per_map=9, to_exclude=[]):\n",
    "    assert layer_index >= 1 and layer_index <= 11\n",
    "    features_of_interest = {}\n",
    "    random_maps = None\n",
    "    # data = []\n",
    "    # gts = []\n",
    "    used_data_points = []\n",
    "    cnt = 0\n",
    "    skipped = 0\n",
    "    # for batch in tqdm.notebook.tqdm_notebook(loader, position=1):\n",
    "    for ix in tqdm.notebook.tqdm_notebook(range(len(dataset)), position=1):\n",
    "        x, y = dataset[ix]\n",
    "        # print(x.shape, y.shape)\n",
    "        # x, _, y = batch\n",
    "        x = x.unsqueeze(0)\n",
    "        min_ = x.min()\n",
    "        max_ = x.max()\n",
    "        if min_ < -1 and max_ > 1:\n",
    "            print(\"IN ANALYZIE RANDOM MAX, INPUT MIN, MAX:\", x.min(), x.max())\n",
    "        idxs = torch.where(y == 1)[0].tolist()\n",
    "        skip_flag = False\n",
    "        for idx in idxs:\n",
    "            if idx in to_exclude:\n",
    "                skip_flag = True\n",
    "                break\n",
    "        if skip_flag:\n",
    "            skipped += 1\n",
    "            continue\n",
    "        lbls = \";\".join([inv_lbl_map[lbl_idx] for lbl_idx in idxs])\n",
    "        # data.append(x)\n",
    "        # gts.append(lbls)\n",
    "        x = x.cuda()\n",
    "        output_features, switch_indices = interpretability_utils.infer_model(net, x)\n",
    "        act_feats = output_features['act{}'.format(layer_index)]\n",
    "        if random_maps is None:\n",
    "            num_maps = int(num_random_maps * act_feats.shape[1])\n",
    "            random_maps = np.random.permutation(act_feats.shape[1])[:num_maps]\n",
    "            for ix in random_maps:\n",
    "                features_of_interest[ix] = []\n",
    "        for m in random_maps:\n",
    "\n",
    "            features_of_interest[m].append(act_feats[0, m, :].detach().cpu().mean())\n",
    "        cnt += 1\n",
    "        used_data_points.append(ix)\n",
    "\n",
    "    print(\"Skipped:\", skipped)\n",
    "    indices = {}\n",
    "    for k, values in features_of_interest.items():\n",
    "        mean_activations = torch.tensor(values)\n",
    "        idxs = torch.argsort(mean_activations, descending=True)[:top_per_map]\n",
    "        indices[k] = idxs\n",
    "\n",
    "    outputs = {}\n",
    "    for k in indices.keys():\n",
    "        outputs[k] = []\n",
    "\n",
    "    for k, idxs in indices.items():\n",
    "        for idx in idxs:\n",
    "            # inp = data[idx].cuda()\n",
    "            inp, y = dataset[used_data_points[idx]]\n",
    "            label_indicators = torch.where(y == 1)[0].tolist()\n",
    "            gt = \";\".join([inv_lbl_map[lbl_idx] for lbl_idx in label_indicators])\n",
    "            inp = inp.unsqueeze(0).cuda()\n",
    "            with torch.no_grad():\n",
    "                pred, output_features, switch_indices = net(inp, True)\n",
    "                vis = deconv.visualize_specific_map(inp, output_features, switch_indices, layer_index, k)\n",
    "            outputs[k].append({\n",
    "                # \"data\": data[idx].squeeze().cpu().numpy(),\n",
    "                \"data_idx\": used_data_points[idx],\n",
    "                \"vis\": interpretability_utils.process_vis(vis.squeeze(), inp.squeeze().cpu().numpy()),\n",
    "                \"gt\": gt\n",
    "            })\n",
    "\n",
    "    return indices, outputs\n",
    "\n",
    "\n",
    "def process_top_n(data, dataset, inv_lbl_map, save_dir, save_plots=False):\n",
    "    name1 = os.path.join(save_dir, \"waveforms.png\")\n",
    "    name2 = os.path.join(save_dir, \"input_spectrograms.png\")\n",
    "    name3 = os.path.join(save_dir, \"sonified_spectrograms.png\")\n",
    "    \n",
    "    def save_specs_and_audio():\n",
    "        input_spec_dir = os.path.join(save_dir, \"input_spectrograms\")\n",
    "        deconv_spec_dir = os.path.join(save_dir, \"deconv_spectrograms\")\n",
    "        \n",
    "        input_audio_dir = os.path.join(save_dir, \"input_audio\")\n",
    "        deconv_audio_dir = os.path.join(save_dir, \"deconv_audio\")\n",
    "        \n",
    "        flds = [input_spec_dir, input_audio_dir, deconv_spec_dir, deconv_audio_dir]\n",
    "        for fld in flds:\n",
    "            if not os.path.exists(fld):\n",
    "                os.makedirs(fld)\n",
    "        \n",
    "        for i in range(len(data)):\n",
    "            d_i = data[i]\n",
    "            gt = d_i['gt']\n",
    "            x, y = dataset[d_i['data_idx']]\n",
    "            # print(\"in save specs and audio, input min max:\", x.min(), x.max())\n",
    "            input_spec = get_spec(x.squeeze().numpy())\n",
    "            vis_spec = get_spec(d_i['vis'])\n",
    "            np.save(os.path.join(input_spec_dir, \"input_{:02d}.npy\".format(i)), input_spec)\n",
    "            np.save(os.path.join(deconv_spec_dir, \"deconv_{:02d}.npy\".format(i)), vis_spec)\n",
    "            \n",
    "            x_data = x.squeeze().numpy()\n",
    "            sf.write(os.path.join(input_audio_dir, \"input_{:02d}.wav\".format(i)), x_data,\n",
    "                     samplerate=8000)\n",
    "            # np.save(os.path.join(input_audio_dir, \"input_{:02d}.npy\".format(i)), x_data)\n",
    "            vis_data = d_i['vis']\n",
    "            sf.write(os.path.join(deconv_audio_dir, \"deconv_{:02d}.wav\".format(i)), vis_data,\n",
    "                     samplerate=8000)\n",
    "            # np.save(os.path.join(deconv_audio_dir, \"deconv_{:02d}.npy\".format(i)), vis_data)\n",
    "    \n",
    "    def plot_waves():\n",
    "        fig1 = plt.figure(figsize=(20, 20))\n",
    "        # fig1.title(title)\n",
    "        rows = 3\n",
    "        cols = 3\n",
    "        for i in range(9):\n",
    "            d_i = data[i]\n",
    "            gt = d_i['gt']\n",
    "            x, y = dataset[d_i['data_idx']]\n",
    "            # label_indicators = torch.where(y == 1)[0].tolist()\n",
    "            # lbls = \";\".join([inv_lbl_map[lbl_idx] for lbl_idx in label_indicators])\n",
    "            # print(lbls, gt)\n",
    "            # assert lbls == gt\n",
    "            fig1.add_subplot(rows, cols, i + 1)\n",
    "            plt.plot(x.squeeze().numpy())\n",
    "            plt.plot(d_i['vis'])\n",
    "            plt.axis(\"off\")\n",
    "        plt.tight_layout()\n",
    "        plt.savefig(name1)\n",
    "        plt.close()\n",
    "        fig1.clf()\n",
    "        plt.close(fig1)\n",
    "        plt.clf()\n",
    "        del fig1\n",
    "        gc.collect()\n",
    "    \n",
    "    \n",
    "    def plot_input_specs():\n",
    "        cnt = 0\n",
    "        specs_data = []\n",
    "        for i in range(3):\n",
    "            for j in range(3):\n",
    "                d_i = data[cnt]\n",
    "                gt = d_i['gt']\n",
    "                x, y = dataset[d_i['data_idx']]\n",
    "                cnt += 1\n",
    "                _, _, data_spec, _ = fourier_analysis.perform_stft(x.squeeze().numpy(), noverlap_ms=0.01, nfft=512)\n",
    "                # print(data_spec.shape)\n",
    "                spec = np.abs(data_spec) ** 2\n",
    "                spec = librosa.amplitude_to_db(spec)\n",
    "                spec = torch.from_numpy(spec).unsqueeze(0).unsqueeze(0)\n",
    "                specs_data.append(spec)\n",
    "        specs = torch.cat(specs_data)\n",
    "        e = torchvision.utils.make_grid(specs, 3, 3)\n",
    "        gt = e.permute(1, 2, 0)[:, :, 0].numpy()\n",
    "        plt.imshow(gt)\n",
    "        plt.title(\"Input\")\n",
    "        plt.axis(\"off\")\n",
    "        plt.tight_layout()\n",
    "        plt.savefig(name2, dpi=150)\n",
    "        plt.close()\n",
    "        plt.clf()\n",
    "        gc.collect()\n",
    "    \n",
    "    def plot_vis_specs():\n",
    "        cnt = 0\n",
    "        specs_data = []\n",
    "        for i in range(3):\n",
    "            for j in range(3):\n",
    "                d_i = data[cnt]\n",
    "                cnt += 1\n",
    "                _, _, data_spec, _ = fourier_analysis.perform_stft(d_i['vis'], noverlap_ms=0.01, nfft=512)\n",
    "                # print(data_spec.shape)\n",
    "                spec = np.abs(data_spec) ** 2\n",
    "                spec = librosa.amplitude_to_db(spec)\n",
    "                spec = torch.from_numpy(spec).unsqueeze(0).unsqueeze(0)\n",
    "                specs_data.append(spec)\n",
    "        specs = torch.cat(specs_data)\n",
    "        e = torchvision.utils.make_grid(specs, 3, 3)\n",
    "        dec = e.permute(1, 2, 0)[:, :, 0].numpy()\n",
    "        # fig2.add_subplot(rows, cols, 2)\n",
    "        plt.imshow(dec)\n",
    "        plt.axis(\"off\")\n",
    "        plt.title(\"Sonified\")\n",
    "        plt.tight_layout()\n",
    "        plt.savefig(name3, dpi=150)\n",
    "        plt.close()\n",
    "        plt.clf()\n",
    "        gc.collect()\n",
    "    \n",
    "    if save_plots:\n",
    "        plot_waves()\n",
    "        plot_input_specs()\n",
    "        plot_vis_specs()\n",
    "    \n",
    "        plt.clf()\n",
    "        plt.close(\"all\")\n",
    "        gc.collect()\n",
    "    \n",
    "    save_specs_and_audio()\n",
    "    \n",
    "    label_lines = []\n",
    "    for i in range(9):\n",
    "        label_lines.append(\"{}\\n\".format(data[i]['gt']))\n",
    "\n",
    "    with open(os.path.join(save_dir, \"gt.txt\"), \"w\") as fd:\n",
    "        fd.writelines(label_lines)"
   ]
  },
  {
   "cell_type": "code",
   "execution_count": 4,
   "id": "af95c6b2",
   "metadata": {},
   "outputs": [],
   "source": [
    "def evaluate(exp_dir, is_contrastive, num_random_maps=0.1, \n",
    "             output_dir_name=\"featuremap_expection\", start_layer=1, \n",
    "             save_plots=False, last_epoch=None):\n",
    "    EXP_DIR = exp_dir\n",
    "    if is_contrastive:\n",
    "        res = interpretability_utils.prep_contrastive_model_and_decoder(EXP_DIR)\n",
    "    else:\n",
    "        if last_epoch is None:\n",
    "            last_epoch = 50\n",
    "        res = interpretability_utils.prep_finetuned_model_and_decoder(EXP_DIR, last_epoch=last_epoch)\n",
    "        \n",
    "    model, net, deconv, hparams = res['full_model'], res['feature_extractor'], res['deconv_decoder'], res['hparams']\n",
    "\n",
    "    loader, dset, lbl_map, inv_lbl_map = make_dataloader(\"/media/user/nvme/datasets/audioset/meta_8000/\",\n",
    "                                                         hparams.cfg['audio_config'], csv_name=\"eval.csv\")\n",
    "    to_exclude = ['Sine wave', 'Static']\n",
    "    for k in lbl_map.keys():\n",
    "        if \"noise\" in k.lower():\n",
    "            to_exclude.append(k)\n",
    "    to_exclude = [lbl_map[ex] for ex in to_exclude]\n",
    "    base_output_dir = os.path.join(EXP_DIR, output_dir_name)\n",
    "    if not os.path.exists(base_output_dir):\n",
    "        os.makedirs(base_output_dir)\n",
    "    for layer in tqdm.notebook.tqdm_notebook(range(start_layer, 12), position=0):\n",
    "        _, results = analyze_random_maps(layer, loader, dset, inv_lbl_map,\n",
    "                                         net, deconv, num_random_maps, to_exclude=to_exclude)\n",
    "        for k, v in tqdm.notebook.tqdm_notebook(results.items(), position=2):\n",
    "            tgt_dir = os.path.join(base_output_dir, \"{:02d}\".format(layer), \"{:04d}\".format(k))\n",
    "            if not os.path.exists(tgt_dir):\n",
    "                os.makedirs(tgt_dir)\n",
    "            process_top_n(v, dset, inv_lbl_map, tgt_dir, save_plots=save_plots)"
   ]
  },
  {
   "cell_type": "code",
   "execution_count": 5,
   "id": "4b200d1a",
   "metadata": {},
   "outputs": [],
   "source": [
    "# evaluate(\"/media/user/nvme/contrastive_experiments/experiments_audioset_v5_full/cnn12_1x_full_tr_8x128_Adam_1e-3_warmupcosine_wd0._fixed_lr_scaling_randomgain_gaussiannoise_timemask_bgnoise_nolineareval_full_ft_fullmodel_r2\",\n",
    "#          False, output_dir_name=\"inspection_all_maps_f\", num_random_maps=1., start_layer=1)"
   ]
  },
  {
   "cell_type": "code",
   "execution_count": null,
   "id": "97fdfc63",
   "metadata": {},
   "outputs": [],
   "source": []
  },
  {
   "cell_type": "code",
   "execution_count": null,
   "id": "a412fb5e",
   "metadata": {},
   "outputs": [],
   "source": []
  },
  {
   "cell_type": "code",
   "execution_count": null,
   "id": "fce8b5a4",
   "metadata": {},
   "outputs": [],
   "source": []
  },
  {
   "cell_type": "code",
   "execution_count": 13,
   "id": "e96dbf27",
   "metadata": {},
   "outputs": [
    {
     "name": "stdout",
     "output_type": "stream",
     "text": [
      "Loading /media/user/nvme/contrastive_experiments/experiments_contrastive_v5/cnn12_1x_full_tr_8x256_Adam_1e-3_warmupcosine_0.5_wd1e-5_fixed_lr_scaling_randomgain_gaussiannoise_timemasking_bgnoise_nolineareval_rs8882/ckpts/epoch=100_tr_loss=1.122735_tr_acc=0.854891.pth\n"
     ]
    },
    {
     "data": {
      "application/vnd.jupyter.widget-view+json": {
       "model_id": "318361bea1de4cd5a79c4fa7fcc9470d",
       "version_major": 2,
       "version_minor": 0
      },
      "text/plain": [
       "  0%|          | 0/11 [00:00<?, ?it/s]"
      ]
     },
     "metadata": {},
     "output_type": "display_data"
    },
    {
     "data": {
      "application/vnd.jupyter.widget-view+json": {
       "model_id": "dd7a43f6f9be4c8286b82763a9dca777",
       "version_major": 2,
       "version_minor": 0
      },
      "text/plain": [
       "  0%|          | 0/17498 [00:00<?, ?it/s]"
      ]
     },
     "metadata": {},
     "output_type": "display_data"
    },
    {
     "name": "stdout",
     "output_type": "stream",
     "text": [
      "Skipped: 564\n"
     ]
    },
    {
     "data": {
      "application/vnd.jupyter.widget-view+json": {
       "model_id": "3c3511aef7994ae7a35d236a9159e79c",
       "version_major": 2,
       "version_minor": 0
      },
      "text/plain": [
       "  0%|          | 0/64 [00:00<?, ?it/s]"
      ]
     },
     "metadata": {},
     "output_type": "display_data"
    },
    {
     "data": {
      "application/vnd.jupyter.widget-view+json": {
       "model_id": "7896619933f640a1bf73a52beeaf2b8a",
       "version_major": 2,
       "version_minor": 0
      },
      "text/plain": [
       "  0%|          | 0/17498 [00:00<?, ?it/s]"
      ]
     },
     "metadata": {},
     "output_type": "display_data"
    },
    {
     "name": "stdout",
     "output_type": "stream",
     "text": [
      "Skipped: 564\n"
     ]
    },
    {
     "data": {
      "application/vnd.jupyter.widget-view+json": {
       "model_id": "d6f66d52e18440498255fdf0168a039b",
       "version_major": 2,
       "version_minor": 0
      },
      "text/plain": [
       "  0%|          | 0/64 [00:00<?, ?it/s]"
      ]
     },
     "metadata": {},
     "output_type": "display_data"
    },
    {
     "data": {
      "application/vnd.jupyter.widget-view+json": {
       "model_id": "ad8b99e664bc4372820ba65fa868b1ea",
       "version_major": 2,
       "version_minor": 0
      },
      "text/plain": [
       "  0%|          | 0/17498 [00:00<?, ?it/s]"
      ]
     },
     "metadata": {},
     "output_type": "display_data"
    },
    {
     "name": "stdout",
     "output_type": "stream",
     "text": [
      "Skipped: 564\n"
     ]
    },
    {
     "data": {
      "application/vnd.jupyter.widget-view+json": {
       "model_id": "d0f3294c2b2349b3a680a558f1e08a3b",
       "version_major": 2,
       "version_minor": 0
      },
      "text/plain": [
       "  0%|          | 0/128 [00:00<?, ?it/s]"
      ]
     },
     "metadata": {},
     "output_type": "display_data"
    },
    {
     "data": {
      "application/vnd.jupyter.widget-view+json": {
       "model_id": "2e22eef495aa482998678f560e32d292",
       "version_major": 2,
       "version_minor": 0
      },
      "text/plain": [
       "  0%|          | 0/17498 [00:00<?, ?it/s]"
      ]
     },
     "metadata": {},
     "output_type": "display_data"
    },
    {
     "name": "stdout",
     "output_type": "stream",
     "text": [
      "Skipped: 564\n"
     ]
    },
    {
     "data": {
      "application/vnd.jupyter.widget-view+json": {
       "model_id": "d7ea17b4b46f4156a4280655b36132d7",
       "version_major": 2,
       "version_minor": 0
      },
      "text/plain": [
       "  0%|          | 0/128 [00:00<?, ?it/s]"
      ]
     },
     "metadata": {},
     "output_type": "display_data"
    },
    {
     "data": {
      "application/vnd.jupyter.widget-view+json": {
       "model_id": "c78b703c075e46d69874fe03f74c0841",
       "version_major": 2,
       "version_minor": 0
      },
      "text/plain": [
       "  0%|          | 0/17498 [00:00<?, ?it/s]"
      ]
     },
     "metadata": {},
     "output_type": "display_data"
    },
    {
     "name": "stdout",
     "output_type": "stream",
     "text": [
      "Skipped: 564\n"
     ]
    },
    {
     "data": {
      "application/vnd.jupyter.widget-view+json": {
       "model_id": "51db4cdcc8de43bab19cd53d906180c4",
       "version_major": 2,
       "version_minor": 0
      },
      "text/plain": [
       "  0%|          | 0/256 [00:00<?, ?it/s]"
      ]
     },
     "metadata": {},
     "output_type": "display_data"
    },
    {
     "data": {
      "application/vnd.jupyter.widget-view+json": {
       "model_id": "24d99d181d3a47068618ff22d0a56fc6",
       "version_major": 2,
       "version_minor": 0
      },
      "text/plain": [
       "  0%|          | 0/17498 [00:00<?, ?it/s]"
      ]
     },
     "metadata": {},
     "output_type": "display_data"
    },
    {
     "name": "stdout",
     "output_type": "stream",
     "text": [
      "Skipped: 564\n"
     ]
    },
    {
     "data": {
      "application/vnd.jupyter.widget-view+json": {
       "model_id": "be40fe0062654241b603cac5282d439d",
       "version_major": 2,
       "version_minor": 0
      },
      "text/plain": [
       "  0%|          | 0/256 [00:00<?, ?it/s]"
      ]
     },
     "metadata": {},
     "output_type": "display_data"
    },
    {
     "data": {
      "application/vnd.jupyter.widget-view+json": {
       "model_id": "ba6efac32af748858b3503d33214fbff",
       "version_major": 2,
       "version_minor": 0
      },
      "text/plain": [
       "  0%|          | 0/17498 [00:00<?, ?it/s]"
      ]
     },
     "metadata": {},
     "output_type": "display_data"
    },
    {
     "name": "stdout",
     "output_type": "stream",
     "text": [
      "Skipped: 564\n"
     ]
    },
    {
     "data": {
      "application/vnd.jupyter.widget-view+json": {
       "model_id": "132078f18c5141b69844f2223a90d9c7",
       "version_major": 2,
       "version_minor": 0
      },
      "text/plain": [
       "  0%|          | 0/512 [00:00<?, ?it/s]"
      ]
     },
     "metadata": {},
     "output_type": "display_data"
    },
    {
     "data": {
      "application/vnd.jupyter.widget-view+json": {
       "model_id": "349865bb5c1d4b5882b95d39fbb15680",
       "version_major": 2,
       "version_minor": 0
      },
      "text/plain": [
       "  0%|          | 0/17498 [00:00<?, ?it/s]"
      ]
     },
     "metadata": {},
     "output_type": "display_data"
    },
    {
     "name": "stdout",
     "output_type": "stream",
     "text": [
      "Skipped: 564\n"
     ]
    },
    {
     "data": {
      "application/vnd.jupyter.widget-view+json": {
       "model_id": "642ac8dae9a1454c97bda0f26a88e179",
       "version_major": 2,
       "version_minor": 0
      },
      "text/plain": [
       "  0%|          | 0/512 [00:00<?, ?it/s]"
      ]
     },
     "metadata": {},
     "output_type": "display_data"
    },
    {
     "data": {
      "application/vnd.jupyter.widget-view+json": {
       "model_id": "bea5b6b76dda4ce9a241d9daa50ced01",
       "version_major": 2,
       "version_minor": 0
      },
      "text/plain": [
       "  0%|          | 0/17498 [00:00<?, ?it/s]"
      ]
     },
     "metadata": {},
     "output_type": "display_data"
    },
    {
     "name": "stdout",
     "output_type": "stream",
     "text": [
      "Skipped: 564\n"
     ]
    },
    {
     "data": {
      "application/vnd.jupyter.widget-view+json": {
       "model_id": "0a90ee394ec64b849c3de9a2c99445c2",
       "version_major": 2,
       "version_minor": 0
      },
      "text/plain": [
       "  0%|          | 0/1024 [00:00<?, ?it/s]"
      ]
     },
     "metadata": {},
     "output_type": "display_data"
    },
    {
     "data": {
      "application/vnd.jupyter.widget-view+json": {
       "model_id": "aa112f71536d4f94be6f4641ede1bfab",
       "version_major": 2,
       "version_minor": 0
      },
      "text/plain": [
       "  0%|          | 0/17498 [00:00<?, ?it/s]"
      ]
     },
     "metadata": {},
     "output_type": "display_data"
    },
    {
     "name": "stdout",
     "output_type": "stream",
     "text": [
      "Skipped: 564\n"
     ]
    },
    {
     "data": {
      "application/vnd.jupyter.widget-view+json": {
       "model_id": "d301abe367314de5945de187948910f5",
       "version_major": 2,
       "version_minor": 0
      },
      "text/plain": [
       "  0%|          | 0/1024 [00:00<?, ?it/s]"
      ]
     },
     "metadata": {},
     "output_type": "display_data"
    },
    {
     "data": {
      "application/vnd.jupyter.widget-view+json": {
       "model_id": "111ce4ebe3324d1eaad83b8bee7b1570",
       "version_major": 2,
       "version_minor": 0
      },
      "text/plain": [
       "  0%|          | 0/17498 [00:00<?, ?it/s]"
      ]
     },
     "metadata": {},
     "output_type": "display_data"
    },
    {
     "name": "stdout",
     "output_type": "stream",
     "text": [
      "Skipped: 564\n"
     ]
    },
    {
     "data": {
      "application/vnd.jupyter.widget-view+json": {
       "model_id": "c645269d063e41ec967f9252da8a4aa3",
       "version_major": 2,
       "version_minor": 0
      },
      "text/plain": [
       "  0%|          | 0/2048 [00:00<?, ?it/s]"
      ]
     },
     "metadata": {},
     "output_type": "display_data"
    }
   ],
   "source": [
    "evaluate(\"/media/user/nvme/contrastive_experiments/experiments_contrastive_v5/cnn12_1x_full_tr_8x256_Adam_1e-3_warmupcosine_0.5_wd1e-5_fixed_lr_scaling_randomgain_gaussiannoise_timemasking_bgnoise_nolineareval_rs8882\",\n",
    "         True, output_dir_name=\"inspection_all_maps_f\", num_random_maps=1., start_layer=1)"
   ]
  },
  {
   "cell_type": "code",
   "execution_count": null,
   "id": "0fba1123",
   "metadata": {},
   "outputs": [],
   "source": []
  },
  {
   "cell_type": "code",
   "execution_count": 14,
   "id": "ea50899f",
   "metadata": {},
   "outputs": [
    {
     "name": "stdout",
     "output_type": "stream",
     "text": [
      "Loading /media/user/nvme/contrastive_experiments/experiments_contrastive_v5/cnn12_1x_full_tr_8x256_Adam_1e-3_warmupcosine_0.5_wd1e-5_fixed_lr_scaling_randomgain_gaussiannoise_timemasking_bgnoise_nolineareval_rs8883/ckpts/epoch=100_tr_loss=1.120546_tr_acc=0.854796.pth\n"
     ]
    },
    {
     "data": {
      "application/vnd.jupyter.widget-view+json": {
       "model_id": "afc856b3348840969299c02c1d63bcb9",
       "version_major": 2,
       "version_minor": 0
      },
      "text/plain": [
       "  0%|          | 0/11 [00:00<?, ?it/s]"
      ]
     },
     "metadata": {},
     "output_type": "display_data"
    },
    {
     "data": {
      "application/vnd.jupyter.widget-view+json": {
       "model_id": "582c1344ee774e64a0a02ee5a858efb3",
       "version_major": 2,
       "version_minor": 0
      },
      "text/plain": [
       "  0%|          | 0/17498 [00:00<?, ?it/s]"
      ]
     },
     "metadata": {},
     "output_type": "display_data"
    },
    {
     "name": "stdout",
     "output_type": "stream",
     "text": [
      "Skipped: 564\n"
     ]
    },
    {
     "data": {
      "application/vnd.jupyter.widget-view+json": {
       "model_id": "24cb4e53f629429fa4359caaf5912877",
       "version_major": 2,
       "version_minor": 0
      },
      "text/plain": [
       "  0%|          | 0/64 [00:00<?, ?it/s]"
      ]
     },
     "metadata": {},
     "output_type": "display_data"
    },
    {
     "data": {
      "application/vnd.jupyter.widget-view+json": {
       "model_id": "833d251f7239439aa55574ce215e5229",
       "version_major": 2,
       "version_minor": 0
      },
      "text/plain": [
       "  0%|          | 0/17498 [00:00<?, ?it/s]"
      ]
     },
     "metadata": {},
     "output_type": "display_data"
    },
    {
     "name": "stdout",
     "output_type": "stream",
     "text": [
      "Skipped: 564\n"
     ]
    },
    {
     "data": {
      "application/vnd.jupyter.widget-view+json": {
       "model_id": "d3137e63111948a793ada63babe5c784",
       "version_major": 2,
       "version_minor": 0
      },
      "text/plain": [
       "  0%|          | 0/64 [00:00<?, ?it/s]"
      ]
     },
     "metadata": {},
     "output_type": "display_data"
    },
    {
     "data": {
      "application/vnd.jupyter.widget-view+json": {
       "model_id": "79cd167864d24e5e8578cc426c3baaaa",
       "version_major": 2,
       "version_minor": 0
      },
      "text/plain": [
       "  0%|          | 0/17498 [00:00<?, ?it/s]"
      ]
     },
     "metadata": {},
     "output_type": "display_data"
    },
    {
     "name": "stdout",
     "output_type": "stream",
     "text": [
      "Skipped: 564\n"
     ]
    },
    {
     "data": {
      "application/vnd.jupyter.widget-view+json": {
       "model_id": "68c83bc2b42646feb582417ee5b4d6e5",
       "version_major": 2,
       "version_minor": 0
      },
      "text/plain": [
       "  0%|          | 0/128 [00:00<?, ?it/s]"
      ]
     },
     "metadata": {},
     "output_type": "display_data"
    },
    {
     "data": {
      "application/vnd.jupyter.widget-view+json": {
       "model_id": "35eb19647bc14e07adb493ef334317ec",
       "version_major": 2,
       "version_minor": 0
      },
      "text/plain": [
       "  0%|          | 0/17498 [00:00<?, ?it/s]"
      ]
     },
     "metadata": {},
     "output_type": "display_data"
    },
    {
     "name": "stdout",
     "output_type": "stream",
     "text": [
      "Skipped: 564\n"
     ]
    },
    {
     "data": {
      "application/vnd.jupyter.widget-view+json": {
       "model_id": "737c9b401f084a75b489880bf791ccca",
       "version_major": 2,
       "version_minor": 0
      },
      "text/plain": [
       "  0%|          | 0/128 [00:00<?, ?it/s]"
      ]
     },
     "metadata": {},
     "output_type": "display_data"
    },
    {
     "data": {
      "application/vnd.jupyter.widget-view+json": {
       "model_id": "a588032938a84bad998aea94f0bb4b53",
       "version_major": 2,
       "version_minor": 0
      },
      "text/plain": [
       "  0%|          | 0/17498 [00:00<?, ?it/s]"
      ]
     },
     "metadata": {},
     "output_type": "display_data"
    },
    {
     "name": "stdout",
     "output_type": "stream",
     "text": [
      "Skipped: 564\n"
     ]
    },
    {
     "data": {
      "application/vnd.jupyter.widget-view+json": {
       "model_id": "ebb61a00b111442d9bcc66d359375681",
       "version_major": 2,
       "version_minor": 0
      },
      "text/plain": [
       "  0%|          | 0/256 [00:00<?, ?it/s]"
      ]
     },
     "metadata": {},
     "output_type": "display_data"
    },
    {
     "data": {
      "application/vnd.jupyter.widget-view+json": {
       "model_id": "e0ff98dfa12a4fd5851d021fa3af9ea1",
       "version_major": 2,
       "version_minor": 0
      },
      "text/plain": [
       "  0%|          | 0/17498 [00:00<?, ?it/s]"
      ]
     },
     "metadata": {},
     "output_type": "display_data"
    },
    {
     "name": "stdout",
     "output_type": "stream",
     "text": [
      "Skipped: 564\n"
     ]
    },
    {
     "data": {
      "application/vnd.jupyter.widget-view+json": {
       "model_id": "65740a9fd5e940e38ca65219c4886872",
       "version_major": 2,
       "version_minor": 0
      },
      "text/plain": [
       "  0%|          | 0/256 [00:00<?, ?it/s]"
      ]
     },
     "metadata": {},
     "output_type": "display_data"
    },
    {
     "data": {
      "application/vnd.jupyter.widget-view+json": {
       "model_id": "45a80b3ea7ae4c5eae51723eb9eede45",
       "version_major": 2,
       "version_minor": 0
      },
      "text/plain": [
       "  0%|          | 0/17498 [00:00<?, ?it/s]"
      ]
     },
     "metadata": {},
     "output_type": "display_data"
    },
    {
     "name": "stdout",
     "output_type": "stream",
     "text": [
      "Skipped: 564\n"
     ]
    },
    {
     "data": {
      "application/vnd.jupyter.widget-view+json": {
       "model_id": "69f4094ced484d639bd04ea0880c2976",
       "version_major": 2,
       "version_minor": 0
      },
      "text/plain": [
       "  0%|          | 0/512 [00:00<?, ?it/s]"
      ]
     },
     "metadata": {},
     "output_type": "display_data"
    },
    {
     "data": {
      "application/vnd.jupyter.widget-view+json": {
       "model_id": "840bf47a9f8b4bfda41a1b76f96f96da",
       "version_major": 2,
       "version_minor": 0
      },
      "text/plain": [
       "  0%|          | 0/17498 [00:00<?, ?it/s]"
      ]
     },
     "metadata": {},
     "output_type": "display_data"
    },
    {
     "name": "stdout",
     "output_type": "stream",
     "text": [
      "Skipped: 564\n"
     ]
    },
    {
     "data": {
      "application/vnd.jupyter.widget-view+json": {
       "model_id": "8f94277685704c338db3fb9f165017b3",
       "version_major": 2,
       "version_minor": 0
      },
      "text/plain": [
       "  0%|          | 0/512 [00:00<?, ?it/s]"
      ]
     },
     "metadata": {},
     "output_type": "display_data"
    },
    {
     "data": {
      "application/vnd.jupyter.widget-view+json": {
       "model_id": "f97606fd20ee4eb3abbb3705d726a5e5",
       "version_major": 2,
       "version_minor": 0
      },
      "text/plain": [
       "  0%|          | 0/17498 [00:00<?, ?it/s]"
      ]
     },
     "metadata": {},
     "output_type": "display_data"
    },
    {
     "name": "stdout",
     "output_type": "stream",
     "text": [
      "Skipped: 564\n"
     ]
    },
    {
     "data": {
      "application/vnd.jupyter.widget-view+json": {
       "model_id": "9798385cd1954475b205d19f82b90e2d",
       "version_major": 2,
       "version_minor": 0
      },
      "text/plain": [
       "  0%|          | 0/1024 [00:00<?, ?it/s]"
      ]
     },
     "metadata": {},
     "output_type": "display_data"
    },
    {
     "data": {
      "application/vnd.jupyter.widget-view+json": {
       "model_id": "c4f1488fc3fd47f8923a3348985e3c34",
       "version_major": 2,
       "version_minor": 0
      },
      "text/plain": [
       "  0%|          | 0/17498 [00:00<?, ?it/s]"
      ]
     },
     "metadata": {},
     "output_type": "display_data"
    },
    {
     "name": "stdout",
     "output_type": "stream",
     "text": [
      "Skipped: 564\n"
     ]
    },
    {
     "data": {
      "application/vnd.jupyter.widget-view+json": {
       "model_id": "2d03bf2ad3be497dbcbcbbfe5e548517",
       "version_major": 2,
       "version_minor": 0
      },
      "text/plain": [
       "  0%|          | 0/1024 [00:00<?, ?it/s]"
      ]
     },
     "metadata": {},
     "output_type": "display_data"
    },
    {
     "data": {
      "application/vnd.jupyter.widget-view+json": {
       "model_id": "9f8038a30d384284aca25153033ee757",
       "version_major": 2,
       "version_minor": 0
      },
      "text/plain": [
       "  0%|          | 0/17498 [00:00<?, ?it/s]"
      ]
     },
     "metadata": {},
     "output_type": "display_data"
    },
    {
     "name": "stdout",
     "output_type": "stream",
     "text": [
      "Skipped: 564\n"
     ]
    },
    {
     "data": {
      "application/vnd.jupyter.widget-view+json": {
       "model_id": "3b90c54caf7d424fa8339a7ec0f9a5f0",
       "version_major": 2,
       "version_minor": 0
      },
      "text/plain": [
       "  0%|          | 0/2048 [00:00<?, ?it/s]"
      ]
     },
     "metadata": {},
     "output_type": "display_data"
    }
   ],
   "source": [
    "evaluate(\"/media/user/nvme/contrastive_experiments/experiments_contrastive_v5/cnn12_1x_full_tr_8x256_Adam_1e-3_warmupcosine_0.5_wd1e-5_fixed_lr_scaling_randomgain_gaussiannoise_timemasking_bgnoise_nolineareval_rs8883\",\n",
    "         True, output_dir_name=\"inspection_all_maps_f\", num_random_maps=1., start_layer=1)"
   ]
  },
  {
   "cell_type": "code",
   "execution_count": null,
   "id": "576f0789",
   "metadata": {},
   "outputs": [],
   "source": []
  },
  {
   "cell_type": "code",
   "execution_count": null,
   "id": "8ceadc3d",
   "metadata": {},
   "outputs": [],
   "source": []
  },
  {
   "cell_type": "code",
   "execution_count": null,
   "id": "9b86b3b6",
   "metadata": {},
   "outputs": [],
   "source": []
  },
  {
   "cell_type": "code",
   "execution_count": 15,
   "id": "7e03f791",
   "metadata": {},
   "outputs": [
    {
     "name": "stdout",
     "output_type": "stream",
     "text": [
      "Loading /media/user/nvme/contrastive_experiments/experiments_audioset_full_latest/cnn12_1x_full_tr_8x128_Adam_1e-3_warmupcosine_wd0._baseline_rs8881/ckpts/epoch=100_tr_loss=0.010972_tr_acc=0.516805_val_acc=0.298665.pth\n"
     ]
    },
    {
     "data": {
      "application/vnd.jupyter.widget-view+json": {
       "model_id": "5f6215449e9a465893020dd424febd90",
       "version_major": 2,
       "version_minor": 0
      },
      "text/plain": [
       "  0%|          | 0/11 [00:00<?, ?it/s]"
      ]
     },
     "metadata": {},
     "output_type": "display_data"
    },
    {
     "data": {
      "application/vnd.jupyter.widget-view+json": {
       "model_id": "96f104f9ab094745a61db4b853e8601c",
       "version_major": 2,
       "version_minor": 0
      },
      "text/plain": [
       "  0%|          | 0/17498 [00:00<?, ?it/s]"
      ]
     },
     "metadata": {},
     "output_type": "display_data"
    },
    {
     "name": "stdout",
     "output_type": "stream",
     "text": [
      "Skipped: 564\n"
     ]
    },
    {
     "data": {
      "application/vnd.jupyter.widget-view+json": {
       "model_id": "a017c173539043959c08adfd9398b8a6",
       "version_major": 2,
       "version_minor": 0
      },
      "text/plain": [
       "  0%|          | 0/64 [00:00<?, ?it/s]"
      ]
     },
     "metadata": {},
     "output_type": "display_data"
    },
    {
     "data": {
      "application/vnd.jupyter.widget-view+json": {
       "model_id": "576d136fab0e49bf9874c67d979e11d9",
       "version_major": 2,
       "version_minor": 0
      },
      "text/plain": [
       "  0%|          | 0/17498 [00:00<?, ?it/s]"
      ]
     },
     "metadata": {},
     "output_type": "display_data"
    },
    {
     "name": "stdout",
     "output_type": "stream",
     "text": [
      "Skipped: 564\n"
     ]
    },
    {
     "data": {
      "application/vnd.jupyter.widget-view+json": {
       "model_id": "ae09da0e508f472483a9731af73c6517",
       "version_major": 2,
       "version_minor": 0
      },
      "text/plain": [
       "  0%|          | 0/64 [00:00<?, ?it/s]"
      ]
     },
     "metadata": {},
     "output_type": "display_data"
    },
    {
     "data": {
      "application/vnd.jupyter.widget-view+json": {
       "model_id": "6337c7510e8d410b90bb4304a75085ac",
       "version_major": 2,
       "version_minor": 0
      },
      "text/plain": [
       "  0%|          | 0/17498 [00:00<?, ?it/s]"
      ]
     },
     "metadata": {},
     "output_type": "display_data"
    },
    {
     "name": "stdout",
     "output_type": "stream",
     "text": [
      "Skipped: 564\n"
     ]
    },
    {
     "data": {
      "application/vnd.jupyter.widget-view+json": {
       "model_id": "f38815b6362249cf837d54efc9bd9ee6",
       "version_major": 2,
       "version_minor": 0
      },
      "text/plain": [
       "  0%|          | 0/128 [00:00<?, ?it/s]"
      ]
     },
     "metadata": {},
     "output_type": "display_data"
    },
    {
     "data": {
      "application/vnd.jupyter.widget-view+json": {
       "model_id": "8d691fdebfc44d01825737bbe550a9b8",
       "version_major": 2,
       "version_minor": 0
      },
      "text/plain": [
       "  0%|          | 0/17498 [00:00<?, ?it/s]"
      ]
     },
     "metadata": {},
     "output_type": "display_data"
    },
    {
     "name": "stdout",
     "output_type": "stream",
     "text": [
      "Skipped: 564\n"
     ]
    },
    {
     "data": {
      "application/vnd.jupyter.widget-view+json": {
       "model_id": "e7a157bcf6254dd0ba6102c282b19144",
       "version_major": 2,
       "version_minor": 0
      },
      "text/plain": [
       "  0%|          | 0/128 [00:00<?, ?it/s]"
      ]
     },
     "metadata": {},
     "output_type": "display_data"
    },
    {
     "data": {
      "application/vnd.jupyter.widget-view+json": {
       "model_id": "d45c5dec0799489799bec3585b859fb0",
       "version_major": 2,
       "version_minor": 0
      },
      "text/plain": [
       "  0%|          | 0/17498 [00:00<?, ?it/s]"
      ]
     },
     "metadata": {},
     "output_type": "display_data"
    },
    {
     "name": "stdout",
     "output_type": "stream",
     "text": [
      "Skipped: 564\n"
     ]
    },
    {
     "data": {
      "application/vnd.jupyter.widget-view+json": {
       "model_id": "a67aa8f090244040a93acfee741a89ea",
       "version_major": 2,
       "version_minor": 0
      },
      "text/plain": [
       "  0%|          | 0/256 [00:00<?, ?it/s]"
      ]
     },
     "metadata": {},
     "output_type": "display_data"
    },
    {
     "data": {
      "application/vnd.jupyter.widget-view+json": {
       "model_id": "f77d5ce01fe6496bbb81bacd647608bf",
       "version_major": 2,
       "version_minor": 0
      },
      "text/plain": [
       "  0%|          | 0/17498 [00:00<?, ?it/s]"
      ]
     },
     "metadata": {},
     "output_type": "display_data"
    },
    {
     "name": "stdout",
     "output_type": "stream",
     "text": [
      "Skipped: 564\n"
     ]
    },
    {
     "data": {
      "application/vnd.jupyter.widget-view+json": {
       "model_id": "84143c01e0f74b8fa7599d3c033ae515",
       "version_major": 2,
       "version_minor": 0
      },
      "text/plain": [
       "  0%|          | 0/256 [00:00<?, ?it/s]"
      ]
     },
     "metadata": {},
     "output_type": "display_data"
    },
    {
     "data": {
      "application/vnd.jupyter.widget-view+json": {
       "model_id": "8c991af273f7403f920415a75e7bb088",
       "version_major": 2,
       "version_minor": 0
      },
      "text/plain": [
       "  0%|          | 0/17498 [00:00<?, ?it/s]"
      ]
     },
     "metadata": {},
     "output_type": "display_data"
    },
    {
     "name": "stdout",
     "output_type": "stream",
     "text": [
      "Skipped: 564\n"
     ]
    },
    {
     "data": {
      "application/vnd.jupyter.widget-view+json": {
       "model_id": "a711830b93984af1aeffd1244839a283",
       "version_major": 2,
       "version_minor": 0
      },
      "text/plain": [
       "  0%|          | 0/512 [00:00<?, ?it/s]"
      ]
     },
     "metadata": {},
     "output_type": "display_data"
    },
    {
     "data": {
      "application/vnd.jupyter.widget-view+json": {
       "model_id": "5dbc80f3fb004cf6a7f7b77a839b2ce8",
       "version_major": 2,
       "version_minor": 0
      },
      "text/plain": [
       "  0%|          | 0/17498 [00:00<?, ?it/s]"
      ]
     },
     "metadata": {},
     "output_type": "display_data"
    },
    {
     "name": "stdout",
     "output_type": "stream",
     "text": [
      "Skipped: 564\n"
     ]
    },
    {
     "data": {
      "application/vnd.jupyter.widget-view+json": {
       "model_id": "855f571e666d4049b64807a28ef30bf8",
       "version_major": 2,
       "version_minor": 0
      },
      "text/plain": [
       "  0%|          | 0/512 [00:00<?, ?it/s]"
      ]
     },
     "metadata": {},
     "output_type": "display_data"
    },
    {
     "data": {
      "application/vnd.jupyter.widget-view+json": {
       "model_id": "c25ea0dc3686453ea41907a8911b7a20",
       "version_major": 2,
       "version_minor": 0
      },
      "text/plain": [
       "  0%|          | 0/17498 [00:00<?, ?it/s]"
      ]
     },
     "metadata": {},
     "output_type": "display_data"
    },
    {
     "name": "stdout",
     "output_type": "stream",
     "text": [
      "Skipped: 564\n"
     ]
    },
    {
     "data": {
      "application/vnd.jupyter.widget-view+json": {
       "model_id": "0637459b377043c88fd40a30d3f3964c",
       "version_major": 2,
       "version_minor": 0
      },
      "text/plain": [
       "  0%|          | 0/1024 [00:00<?, ?it/s]"
      ]
     },
     "metadata": {},
     "output_type": "display_data"
    },
    {
     "data": {
      "application/vnd.jupyter.widget-view+json": {
       "model_id": "f23d060fadfd47debddea5470299a091",
       "version_major": 2,
       "version_minor": 0
      },
      "text/plain": [
       "  0%|          | 0/17498 [00:00<?, ?it/s]"
      ]
     },
     "metadata": {},
     "output_type": "display_data"
    },
    {
     "name": "stdout",
     "output_type": "stream",
     "text": [
      "Skipped: 564\n"
     ]
    },
    {
     "data": {
      "application/vnd.jupyter.widget-view+json": {
       "model_id": "ea5d90733a6f4f7f987f1d3d47f3bc89",
       "version_major": 2,
       "version_minor": 0
      },
      "text/plain": [
       "  0%|          | 0/1024 [00:00<?, ?it/s]"
      ]
     },
     "metadata": {},
     "output_type": "display_data"
    },
    {
     "data": {
      "application/vnd.jupyter.widget-view+json": {
       "model_id": "76b3b606f02448418affccabac1c08ca",
       "version_major": 2,
       "version_minor": 0
      },
      "text/plain": [
       "  0%|          | 0/17498 [00:00<?, ?it/s]"
      ]
     },
     "metadata": {},
     "output_type": "display_data"
    },
    {
     "name": "stdout",
     "output_type": "stream",
     "text": [
      "Skipped: 564\n"
     ]
    },
    {
     "data": {
      "application/vnd.jupyter.widget-view+json": {
       "model_id": "0e99df878e874d4588b639ea50a327e1",
       "version_major": 2,
       "version_minor": 0
      },
      "text/plain": [
       "  0%|          | 0/2048 [00:00<?, ?it/s]"
      ]
     },
     "metadata": {},
     "output_type": "display_data"
    }
   ],
   "source": [
    "s = \"/media/user/nvme/contrastive_experiments/experiments_audioset_full_latest/cnn12_1x_full_tr_8x128_Adam_1e-3_warmupcosine_wd0._baseline_rs8881\"\n",
    "evaluate(s, False, output_dir_name=\"inspection_all_maps_f\", \n",
    "         num_random_maps=1., start_layer=1, last_epoch=100)"
   ]
  },
  {
   "cell_type": "code",
   "execution_count": 16,
   "id": "9230fad1",
   "metadata": {},
   "outputs": [
    {
     "name": "stdout",
     "output_type": "stream",
     "text": [
      "Loading /media/user/nvme/contrastive_experiments/experiments_audioset_full_latest/cnn12_1x_full_tr_8x128_Adam_1e-3_warmupcosine_wd0._baseline_rs8882_noagc/ckpts/epoch=100_tr_loss=0.010980_tr_acc=0.515919_val_acc=0.298523.pth\n"
     ]
    },
    {
     "data": {
      "application/vnd.jupyter.widget-view+json": {
       "model_id": "6138d1fbb90b4519b8eba19139fc859c",
       "version_major": 2,
       "version_minor": 0
      },
      "text/plain": [
       "  0%|          | 0/11 [00:00<?, ?it/s]"
      ]
     },
     "metadata": {},
     "output_type": "display_data"
    },
    {
     "data": {
      "application/vnd.jupyter.widget-view+json": {
       "model_id": "ce9aeedcc7874a12830c0836839eaf64",
       "version_major": 2,
       "version_minor": 0
      },
      "text/plain": [
       "  0%|          | 0/17498 [00:00<?, ?it/s]"
      ]
     },
     "metadata": {},
     "output_type": "display_data"
    },
    {
     "name": "stdout",
     "output_type": "stream",
     "text": [
      "Skipped: 564\n"
     ]
    },
    {
     "data": {
      "application/vnd.jupyter.widget-view+json": {
       "model_id": "92ce30b0f78942ab837408a36005b77b",
       "version_major": 2,
       "version_minor": 0
      },
      "text/plain": [
       "  0%|          | 0/64 [00:00<?, ?it/s]"
      ]
     },
     "metadata": {},
     "output_type": "display_data"
    },
    {
     "data": {
      "application/vnd.jupyter.widget-view+json": {
       "model_id": "2bc5b7c7dc93472f8ce7651e8cf339b7",
       "version_major": 2,
       "version_minor": 0
      },
      "text/plain": [
       "  0%|          | 0/17498 [00:00<?, ?it/s]"
      ]
     },
     "metadata": {},
     "output_type": "display_data"
    },
    {
     "name": "stdout",
     "output_type": "stream",
     "text": [
      "Skipped: 564\n"
     ]
    },
    {
     "data": {
      "application/vnd.jupyter.widget-view+json": {
       "model_id": "71f035d72edf48b9a3c65f1d9093ce82",
       "version_major": 2,
       "version_minor": 0
      },
      "text/plain": [
       "  0%|          | 0/64 [00:00<?, ?it/s]"
      ]
     },
     "metadata": {},
     "output_type": "display_data"
    },
    {
     "data": {
      "application/vnd.jupyter.widget-view+json": {
       "model_id": "4653d09cec744418850364b21a2a3978",
       "version_major": 2,
       "version_minor": 0
      },
      "text/plain": [
       "  0%|          | 0/17498 [00:00<?, ?it/s]"
      ]
     },
     "metadata": {},
     "output_type": "display_data"
    },
    {
     "name": "stdout",
     "output_type": "stream",
     "text": [
      "Skipped: 564\n"
     ]
    },
    {
     "data": {
      "application/vnd.jupyter.widget-view+json": {
       "model_id": "b96a58f3c00741fcaa76409777f52785",
       "version_major": 2,
       "version_minor": 0
      },
      "text/plain": [
       "  0%|          | 0/128 [00:00<?, ?it/s]"
      ]
     },
     "metadata": {},
     "output_type": "display_data"
    },
    {
     "data": {
      "application/vnd.jupyter.widget-view+json": {
       "model_id": "a38840e869b84473a4e4c752d66cc82f",
       "version_major": 2,
       "version_minor": 0
      },
      "text/plain": [
       "  0%|          | 0/17498 [00:00<?, ?it/s]"
      ]
     },
     "metadata": {},
     "output_type": "display_data"
    },
    {
     "name": "stdout",
     "output_type": "stream",
     "text": [
      "Skipped: 564\n"
     ]
    },
    {
     "data": {
      "application/vnd.jupyter.widget-view+json": {
       "model_id": "4f0e75fa92464a5daa68dc05d3471266",
       "version_major": 2,
       "version_minor": 0
      },
      "text/plain": [
       "  0%|          | 0/128 [00:00<?, ?it/s]"
      ]
     },
     "metadata": {},
     "output_type": "display_data"
    },
    {
     "data": {
      "application/vnd.jupyter.widget-view+json": {
       "model_id": "3f1b5b8c4fa243f497ef8a0372a168ba",
       "version_major": 2,
       "version_minor": 0
      },
      "text/plain": [
       "  0%|          | 0/17498 [00:00<?, ?it/s]"
      ]
     },
     "metadata": {},
     "output_type": "display_data"
    },
    {
     "name": "stdout",
     "output_type": "stream",
     "text": [
      "Skipped: 564\n"
     ]
    },
    {
     "data": {
      "application/vnd.jupyter.widget-view+json": {
       "model_id": "4ff78f08c1a6423eaccbf7a0d3fb3bb9",
       "version_major": 2,
       "version_minor": 0
      },
      "text/plain": [
       "  0%|          | 0/256 [00:00<?, ?it/s]"
      ]
     },
     "metadata": {},
     "output_type": "display_data"
    },
    {
     "data": {
      "application/vnd.jupyter.widget-view+json": {
       "model_id": "0315cb2082284372b6ed86ad7fc15df4",
       "version_major": 2,
       "version_minor": 0
      },
      "text/plain": [
       "  0%|          | 0/17498 [00:00<?, ?it/s]"
      ]
     },
     "metadata": {},
     "output_type": "display_data"
    },
    {
     "name": "stdout",
     "output_type": "stream",
     "text": [
      "Skipped: 564\n"
     ]
    },
    {
     "data": {
      "application/vnd.jupyter.widget-view+json": {
       "model_id": "718e4235f1dc491a9b20c9eb261f8a41",
       "version_major": 2,
       "version_minor": 0
      },
      "text/plain": [
       "  0%|          | 0/256 [00:00<?, ?it/s]"
      ]
     },
     "metadata": {},
     "output_type": "display_data"
    },
    {
     "data": {
      "application/vnd.jupyter.widget-view+json": {
       "model_id": "498de05b12864a9fbd7d9ce003326c64",
       "version_major": 2,
       "version_minor": 0
      },
      "text/plain": [
       "  0%|          | 0/17498 [00:00<?, ?it/s]"
      ]
     },
     "metadata": {},
     "output_type": "display_data"
    },
    {
     "name": "stdout",
     "output_type": "stream",
     "text": [
      "Skipped: 564\n"
     ]
    },
    {
     "data": {
      "application/vnd.jupyter.widget-view+json": {
       "model_id": "82aedd7caa5f4e58a7f72a25eb21b2b9",
       "version_major": 2,
       "version_minor": 0
      },
      "text/plain": [
       "  0%|          | 0/512 [00:00<?, ?it/s]"
      ]
     },
     "metadata": {},
     "output_type": "display_data"
    },
    {
     "data": {
      "application/vnd.jupyter.widget-view+json": {
       "model_id": "2152086b431443fc8941886fb789a491",
       "version_major": 2,
       "version_minor": 0
      },
      "text/plain": [
       "  0%|          | 0/17498 [00:00<?, ?it/s]"
      ]
     },
     "metadata": {},
     "output_type": "display_data"
    },
    {
     "name": "stdout",
     "output_type": "stream",
     "text": [
      "Skipped: 564\n"
     ]
    },
    {
     "data": {
      "application/vnd.jupyter.widget-view+json": {
       "model_id": "843e003d6d0a41a6acdf0039dcca4904",
       "version_major": 2,
       "version_minor": 0
      },
      "text/plain": [
       "  0%|          | 0/512 [00:00<?, ?it/s]"
      ]
     },
     "metadata": {},
     "output_type": "display_data"
    },
    {
     "data": {
      "application/vnd.jupyter.widget-view+json": {
       "model_id": "2a7b7576491e448fbfd77b42da54b10d",
       "version_major": 2,
       "version_minor": 0
      },
      "text/plain": [
       "  0%|          | 0/17498 [00:00<?, ?it/s]"
      ]
     },
     "metadata": {},
     "output_type": "display_data"
    },
    {
     "name": "stdout",
     "output_type": "stream",
     "text": [
      "Skipped: 564\n"
     ]
    },
    {
     "data": {
      "application/vnd.jupyter.widget-view+json": {
       "model_id": "bbca87b4c6924553abcf3eb70707e25d",
       "version_major": 2,
       "version_minor": 0
      },
      "text/plain": [
       "  0%|          | 0/1024 [00:00<?, ?it/s]"
      ]
     },
     "metadata": {},
     "output_type": "display_data"
    },
    {
     "data": {
      "application/vnd.jupyter.widget-view+json": {
       "model_id": "98409f2025e74283981d5506633ef11f",
       "version_major": 2,
       "version_minor": 0
      },
      "text/plain": [
       "  0%|          | 0/17498 [00:00<?, ?it/s]"
      ]
     },
     "metadata": {},
     "output_type": "display_data"
    },
    {
     "name": "stdout",
     "output_type": "stream",
     "text": [
      "Skipped: 564\n"
     ]
    },
    {
     "data": {
      "application/vnd.jupyter.widget-view+json": {
       "model_id": "babb87df716341148f0a797898b8a225",
       "version_major": 2,
       "version_minor": 0
      },
      "text/plain": [
       "  0%|          | 0/1024 [00:00<?, ?it/s]"
      ]
     },
     "metadata": {},
     "output_type": "display_data"
    },
    {
     "data": {
      "application/vnd.jupyter.widget-view+json": {
       "model_id": "bea4d78961ef46c5ac4d9dfa22f97869",
       "version_major": 2,
       "version_minor": 0
      },
      "text/plain": [
       "  0%|          | 0/17498 [00:00<?, ?it/s]"
      ]
     },
     "metadata": {},
     "output_type": "display_data"
    },
    {
     "name": "stdout",
     "output_type": "stream",
     "text": [
      "Skipped: 564\n"
     ]
    },
    {
     "data": {
      "application/vnd.jupyter.widget-view+json": {
       "model_id": "7fe51b2a56984f63b1e0e27b21483bd8",
       "version_major": 2,
       "version_minor": 0
      },
      "text/plain": [
       "  0%|          | 0/2048 [00:00<?, ?it/s]"
      ]
     },
     "metadata": {},
     "output_type": "display_data"
    }
   ],
   "source": [
    "s = \"/media/user/nvme/contrastive_experiments/experiments_audioset_full_latest/cnn12_1x_full_tr_8x128_Adam_1e-3_warmupcosine_wd0._baseline_rs8882_noagc\"\n",
    "evaluate(s, False, output_dir_name=\"inspection_all_maps_f\", \n",
    "         num_random_maps=1., start_layer=1, last_epoch=100)"
   ]
  },
  {
   "cell_type": "code",
   "execution_count": 6,
   "id": "b338ac11",
   "metadata": {},
   "outputs": [
    {
     "name": "stdout",
     "output_type": "stream",
     "text": [
      "Loading /media/user/nvme/contrastive_experiments/experiments_audioset_full_latest/cnn12_1x_full_tr_8x128_Adam_1e-3_warmupcosine_wd0._baseline_rs8883_noagc/ckpts/epoch=100_tr_loss=0.010980_tr_acc=0.515930_val_acc=0.299477.pth\n"
     ]
    },
    {
     "data": {
      "application/vnd.jupyter.widget-view+json": {
       "model_id": "109df745e91f4247b010fcf07608c857",
       "version_major": 2,
       "version_minor": 0
      },
      "text/plain": [
       "  0%|          | 0/1 [00:00<?, ?it/s]"
      ]
     },
     "metadata": {},
     "output_type": "display_data"
    },
    {
     "data": {
      "application/vnd.jupyter.widget-view+json": {
       "model_id": "171e6d9fdbb847ef9e76f22daeef7453",
       "version_major": 2,
       "version_minor": 0
      },
      "text/plain": [
       "  0%|          | 0/17498 [00:00<?, ?it/s]"
      ]
     },
     "metadata": {},
     "output_type": "display_data"
    },
    {
     "name": "stdout",
     "output_type": "stream",
     "text": [
      "Skipped: 564\n"
     ]
    },
    {
     "data": {
      "application/vnd.jupyter.widget-view+json": {
       "model_id": "c66fd0828a334487bf9cb603c329bbd3",
       "version_major": 2,
       "version_minor": 0
      },
      "text/plain": [
       "  0%|          | 0/2048 [00:00<?, ?it/s]"
      ]
     },
     "metadata": {},
     "output_type": "display_data"
    }
   ],
   "source": [
    "s = \"/media/user/nvme/contrastive_experiments/experiments_audioset_full_latest/cnn12_1x_full_tr_8x128_Adam_1e-3_warmupcosine_wd0._baseline_rs8883_noagc\"\n",
    "evaluate(s, False, output_dir_name=\"inspection_all_maps_f\", \n",
    "         num_random_maps=1., start_layer=11, last_epoch=100)"
   ]
  },
  {
   "cell_type": "code",
   "execution_count": null,
   "id": "f4d84784",
   "metadata": {},
   "outputs": [],
   "source": []
  },
  {
   "cell_type": "code",
   "execution_count": null,
   "id": "198f1818",
   "metadata": {},
   "outputs": [],
   "source": []
  },
  {
   "cell_type": "code",
   "execution_count": 12,
   "id": "40c41941",
   "metadata": {},
   "outputs": [],
   "source": [
    "# evaluate(\"/media/user/nvme/contrastive_experiments/experiments_audioset_v5_full/cnn12_1x_full_tr_8x128_Adam_1e-3_warmupcosine_wd0._baseline/\",\n",
    "#          False, output_dir_name=\"inspection_all_maps_f\", num_random_maps=1., start_layer=1)"
   ]
  },
  {
   "cell_type": "code",
   "execution_count": null,
   "id": "62904708",
   "metadata": {},
   "outputs": [],
   "source": []
  }
 ],
 "metadata": {
  "kernelspec": {
   "display_name": "Python 3",
   "language": "python",
   "name": "python3"
  },
  "language_info": {
   "codemirror_mode": {
    "name": "ipython",
    "version": 3
   },
   "file_extension": ".py",
   "mimetype": "text/x-python",
   "name": "python",
   "nbconvert_exporter": "python",
   "pygments_lexer": "ipython3",
   "version": "3.8.8"
  }
 },
 "nbformat": 4,
 "nbformat_minor": 5
}
