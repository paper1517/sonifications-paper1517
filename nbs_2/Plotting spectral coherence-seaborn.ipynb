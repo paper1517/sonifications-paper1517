{
 "cells": [
  {
   "cell_type": "code",
   "execution_count": 2,
   "id": "d2186f6d",
   "metadata": {},
   "outputs": [],
   "source": [
    "import matplotlib.pyplot as plt\n",
    "from numpy import array\n",
    "import pygal"
   ]
  },
  {
   "cell_type": "code",
   "execution_count": 3,
   "id": "80a5c2f5",
   "metadata": {},
   "outputs": [],
   "source": [
    "contrastive_coherence = {0: {1: array([0.92263865, 0.79945772, 0.71929479, 0.63758123, 0.55833202]),\n",
    "  2: array([0.91159728, 0.74292416, 0.66090482, 0.59774651, 0.55161599]),\n",
    "  3: array([0.87524018, 0.69783781, 0.61989269, 0.56602202, 0.53212074]),\n",
    "  4: array([0.82280851, 0.66191976, 0.60252246, 0.5673638 , 0.53682827]),\n",
    "  5: array([0.77382132, 0.65609714, 0.60718934, 0.57280958, 0.54485202]),\n",
    "  6: array([0.74964975, 0.66407185, 0.61844668, 0.58893475, 0.56645465]),\n",
    "  7: array([0.71663391, 0.64030285, 0.60185039, 0.57279137, 0.55186902]),\n",
    "  8: array([0.66961381, 0.60017548, 0.56188354, 0.53390624, 0.51467875]),\n",
    "  9: array([0.65427236, 0.58336575, 0.54296612, 0.51514584, 0.4952546 ]),\n",
    "  10: array([0.62428936, 0.5535242 , 0.5153572 , 0.48981266, 0.47133343]),\n",
    "  11: array([0.59361051, 0.51273592, 0.47145291, 0.44491413, 0.42545924])},\n",
    " 1: {1: array([0.93012395, 0.82005438, 0.74219949, 0.66755081, 0.58933233]),\n",
    "  2: array([0.90707868, 0.72416879, 0.65014625, 0.59049969, 0.54001614]),\n",
    "  3: array([0.86248466, 0.65968656, 0.5937862 , 0.53773779, 0.49801366]),\n",
    "  4: array([0.82591252, 0.64582105, 0.59009746, 0.55129719, 0.52030375]),\n",
    "  5: array([0.76426907, 0.64248338, 0.59352223, 0.56037651, 0.53250456]),\n",
    "  6: array([0.74607543, 0.65113485, 0.60838416, 0.5794348 , 0.55566094]),\n",
    "  7: array([0.71690304, 0.64056037, 0.59943389, 0.56901534, 0.5479447 ]),\n",
    "  8: array([0.67774275, 0.6017693 , 0.56385206, 0.53508144, 0.51472369]),\n",
    "  9: array([0.65943297, 0.58735796, 0.54715542, 0.51788505, 0.49709615]),\n",
    "  10: array([0.62595262, 0.55314487, 0.51435672, 0.48768809, 0.46737711]),\n",
    "  11: array([0.59924559, 0.52098543, 0.48096983, 0.4540809 , 0.43456282])},\n",
    " 2: {1: array([0.93000476, 0.81343482, 0.73595395, 0.65272869, 0.56183788]),\n",
    "  2: array([0.89285995, 0.72558989, 0.64984978, 0.58888097, 0.54062683]),\n",
    "  3: array([0.8801284 , 0.68435882, 0.61300026, 0.55967594, 0.5212934 ]),\n",
    "  4: array([0.8138033 , 0.65826334, 0.603178  , 0.56593216, 0.53571262]),\n",
    "  5: array([0.75944013, 0.64359013, 0.60045194, 0.56951421, 0.54250191]),\n",
    "  6: array([0.74845106, 0.65253141, 0.610221  , 0.58322131, 0.56094065]),\n",
    "  7: array([0.71909153, 0.64445816, 0.60597546, 0.57750956, 0.55709625]),\n",
    "  8: array([0.68096353, 0.61184388, 0.57596581, 0.55223054, 0.53491018]),\n",
    "  9: array([0.6635374 , 0.59560506, 0.55881722, 0.53461484, 0.51685865]),\n",
    "  10: array([0.62592406, 0.55660065, 0.51947206, 0.49344444, 0.47410851]),\n",
    "  11: array([0.61376627, 0.54214168, 0.50585263, 0.48097811, 0.46231532])}}"
   ]
  },
  {
   "cell_type": "code",
   "execution_count": null,
   "id": "c22ceec0",
   "metadata": {},
   "outputs": [],
   "source": []
  },
  {
   "cell_type": "code",
   "execution_count": 7,
   "id": "26d237d1",
   "metadata": {},
   "outputs": [],
   "source": [
    "supervised ={0: {1: array([0.90754257, 0.80551544, 0.72927715, 0.65966038, 0.58362748]),\n",
    "  2: array([0.75514711, 0.61687109, 0.54018241, 0.47887503, 0.4390339 ]),\n",
    "  3: array([0.54681714, 0.31500335, 0.22526438, 0.17240895, 0.1436597 ]),\n",
    "  4: array([0.47915489, 0.29061767, 0.22469357, 0.18588154, 0.15859618]),\n",
    "  5: array([0.27254415, 0.15134505, 0.11870221, 0.09528324, 0.07876001]),\n",
    "  6: array([0.27061939, 0.1732094 , 0.12956386, 0.10310914, 0.08469274]),\n",
    "  7: array([0.23020188, 0.14975835, 0.11402837, 0.09214736, 0.07729175]),\n",
    "  8: array([0.15956658, 0.1105595 , 0.08819866, 0.07416596, 0.06410608]),\n",
    "  9: array([0.15862477, 0.11296504, 0.09133237, 0.07715106, 0.06677837]),\n",
    "  10: array([0.11307917, 0.08009574, 0.06476545, 0.0546051 , 0.04761119]),\n",
    "  11: array([0.1238636 , 0.08869003, 0.07223332, 0.06116735, 0.05322688])},\n",
    " 1: {1: array([0.86404752, 0.77075558, 0.69471897, 0.6392135 , 0.57159233]),\n",
    "  2: array([0.84402887, 0.64119833, 0.5420919 , 0.46838313, 0.41376015]),\n",
    "  3: array([0.58647634, 0.36244542, 0.26203464, 0.20708412, 0.17656093]),\n",
    "  4: array([0.48016829, 0.2954015 , 0.2332349 , 0.18919092, 0.15699696]),\n",
    "  5: array([0.26638291, 0.14912507, 0.11512725, 0.09260748, 0.07468241]),\n",
    "  6: array([0.22925188, 0.13971366, 0.10847163, 0.08694739, 0.07214758]),\n",
    "  7: array([0.20125925, 0.12797115, 0.09864207, 0.0794474 , 0.06640466]),\n",
    "  8: array([0.11804593, 0.08169041, 0.06545039, 0.05469512, 0.04691721]),\n",
    "  9: array([0.11429827, 0.08294567, 0.06725193, 0.05717529, 0.04956931]),\n",
    "  10: array([0.08332622, 0.05840055, 0.04746026, 0.04015186, 0.03492218]),\n",
    "  11: array([0.08660565, 0.06188493, 0.04996708, 0.04179179, 0.03587838])},\n",
    " 2: {1: array([0.89372866, 0.7933896 , 0.71786799, 0.65096358, 0.58567858]),\n",
    "  2: array([0.73312106, 0.57541701, 0.48974761, 0.42310117, 0.38552985]),\n",
    "  3: array([0.60935642, 0.33225964, 0.23630926, 0.18431874, 0.15022311]),\n",
    "  4: array([0.46176118, 0.29293973, 0.22585392, 0.18446059, 0.15344517]),\n",
    "  5: array([0.18963764, 0.10837626, 0.07755679, 0.06164653, 0.0505065 ]),\n",
    "  6: array([0.23465899, 0.15216768, 0.11654645, 0.09273228, 0.07544129]),\n",
    "  7: array([0.18075619, 0.11629098, 0.08970683, 0.07185013, 0.05919705]),\n",
    "  8: array([0.12593819, 0.08592969, 0.0689818 , 0.057596  , 0.04966879]),\n",
    "  9: array([0.11023784, 0.07536452, 0.06063383, 0.05084526, 0.04372   ]),\n",
    "  10: array([0.09288731, 0.06460822, 0.05182764, 0.04349247, 0.03762455]),\n",
    "  11: array([0.08820725, 0.06231799, 0.05023342, 0.0421832 , 0.03630652])}}"
   ]
  },
  {
   "cell_type": "code",
   "execution_count": 5,
   "id": "10e4d31b",
   "metadata": {},
   "outputs": [],
   "source": [
    "import pandas as pd"
   ]
  },
  {
   "cell_type": "code",
   "execution_count": 12,
   "id": "35cb021e",
   "metadata": {},
   "outputs": [],
   "source": [
    "# contrastive_layers = []\n",
    "# contrastive_means = []\n",
    "\n",
    "# supervised_layers = []\n",
    "# supervised_means = []\n",
    "\n",
    "layer_idx = []\n",
    "model_type = []\n",
    "means = []\n",
    "\n",
    "for k, vals in contrastive_coherence.items():\n",
    "    for layer, v in vals.items():\n",
    "        layer_idx.append(layer)\n",
    "        means.append(v.mean())\n",
    "        model_type.append(\"Contrastive\")\n",
    "        \n",
    "    # contrastive_mean = [v.mean() for k,v in vals.items()]\n",
    "for k, vals in supervised.items():\n",
    "    for layer, v in vals.items():\n",
    "        layer_idx.append(layer)\n",
    "        means.append(v.mean())\n",
    "        model_type.append(\"Supervised\")\n",
    "        # supervised_means.append(v.mean())\n",
    "    # supervised_mean = [v.mean() for k,v in vals.items()]\n",
    "    "
   ]
  },
  {
   "cell_type": "code",
   "execution_count": 13,
   "id": "e70489a9",
   "metadata": {},
   "outputs": [],
   "source": [
    "df = pd.DataFrame()\n",
    "df['Layer'] = layer_idx\n",
    "df['model_type'] = model_type\n",
    "df['mean top-5 coherence'] = means"
   ]
  },
  {
   "cell_type": "code",
   "execution_count": 18,
   "id": "ccc540cf",
   "metadata": {},
   "outputs": [],
   "source": [
    "# df = pd.DataFrame()\n",
    "# df['Layer'] = contrastive_layers\n",
    "# df['Contrastive'] = contrastive_mean\n",
    "# df['Supervised'] = supervised_mean\n",
    "# df = df.melt(\"Layer\", var_name='', value_name='mean top-5 coherence')"
   ]
  },
  {
   "cell_type": "code",
   "execution_count": 17,
   "id": "a562b319",
   "metadata": {},
   "outputs": [],
   "source": []
  },
  {
   "cell_type": "code",
   "execution_count": null,
   "id": "d6903da9",
   "metadata": {},
   "outputs": [],
   "source": []
  },
  {
   "cell_type": "code",
   "execution_count": 16,
   "id": "49107fdc",
   "metadata": {},
   "outputs": [],
   "source": [
    "import seaborn as sns"
   ]
  },
  {
   "cell_type": "code",
   "execution_count": 17,
   "id": "9aa8df11",
   "metadata": {},
   "outputs": [
    {
     "data": {
      "image/png": "[encoded data removed]",
      "text/plain": [
       "<Figure size 432x288 with 1 Axes>"
      ]
     },
     "metadata": {},
     "output_type": "display_data"
    }
   ],
   "source": [
    "sns.set_theme(style=\"whitegrid\", palette=\"deep\", font='Fira Mono', font_scale=0.5)\n",
    "colours = sns.color_palette(\"deep\", 2)\n",
    "ax = sns.barplot(x='Layer', y='mean top-5 coherence', hue='model_type', data=df)\n",
    "ax.legend(loc=\"upper right\", fontsize=8)\n",
    "\n",
    "ax.figure.savefig(\"/home/user/Desktop/coherence_plot_multi.png\", dpi=300, bbox_inches='tight')"
   ]
  },
  {
   "cell_type": "code",
   "execution_count": null,
   "id": "10ef60ea",
   "metadata": {},
   "outputs": [],
   "source": []
  }
 ],
 "metadata": {
  "kernelspec": {
   "display_name": "Python 3",
   "language": "python",
   "name": "python3"
  },
  "language_info": {
   "codemirror_mode": {
    "name": "ipython",
    "version": 3
   },
   "file_extension": ".py",
   "mimetype": "text/x-python",
   "name": "python",
   "nbconvert_exporter": "python",
   "pygments_lexer": "ipython3",
   "version": "3.8.8"
  }
 },
 "nbformat": 4,
 "nbformat_minor": 5
}
