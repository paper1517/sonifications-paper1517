{
 "cells": [
  {
   "cell_type": "code",
   "execution_count": null,
   "id": "c1e39e3d",
   "metadata": {
    "scrolled": false
   },
   "outputs": [],
   "source": [
    "import glob\n",
    "import matplotlib.pyplot as plt\n",
    "import torchvision\n",
    "import librosa\n",
    "import random\n",
    "import json\n",
    "import pickle\n",
    "import numpy as np\n",
    "import torch\n",
    "import os\n",
    "torch.multiprocessing.set_sharing_strategy('file_system')\n",
    "import tqdm\n",
    "import gc\n",
    "import sys\n",
    "sys.path.append(\"/home/user/Research/sonifications-paper1517/\")\n",
    "from src.utilities import fourier_analysis\n",
    "from src.utilities import interpretability_utils\n",
    "from src.utilities import feature_evolution_helper\n",
    "import IPython.display as ipd\n",
    "import soundfile as sf\n",
    "import matplotlib.pyplot as plt\n",
    "# plt.rcParams[\"figure.figsize\"] = (30,40)\n",
    "import random\n",
    "import json\n",
    "import tqdm\n",
    "import numpy as np"
   ]
  },
  {
   "cell_type": "code",
   "execution_count": null,
   "id": "34d87c03",
   "metadata": {
    "scrolled": true
   },
   "outputs": [],
   "source": []
  },
  {
   "cell_type": "code",
   "execution_count": null,
   "id": "c25e0a45",
   "metadata": {
    "scrolled": true
   },
   "outputs": [],
   "source": [
    "exp_dir = \"/media/user/nvme/contrastive_experiments/experiments_audioset_v5_full/cnn12_1x_full_tr_8x128_Adam_1e-3_warmupcosine_wd0._fixed_lr_scaling_randomgain_gaussiannoise_timemask_bgnoise_nolineareval_full_ft_fullmodel_r2\""
   ]
  },
  {
   "cell_type": "code",
   "execution_count": null,
   "id": "934518b8",
   "metadata": {
    "scrolled": false
   },
   "outputs": [],
   "source": [
    "model, net, deconv, hparams = interpretability_utils.model_helper(exp_dir, False)"
   ]
  },
  {
   "cell_type": "code",
   "execution_count": null,
   "id": "d05ef36b",
   "metadata": {
    "scrolled": false
   },
   "outputs": [],
   "source": [
    "# with open(\"/media/user/nvme/contrastive_experiments/select_feature_maps.pkl\", \"wb\") as fd:\n",
    "#     pickle.dump(selected_maps, fd)"
   ]
  },
  {
   "cell_type": "code",
   "execution_count": null,
   "id": "d1a4ff32",
   "metadata": {
    "scrolled": false
   },
   "outputs": [],
   "source": [
    "selected_maps = feature_evolution_helper.get_selected_maps()\n",
    "selected_inputs = feature_evolution_helper.get_selected_inputs()"
   ]
  },
  {
   "cell_type": "code",
   "execution_count": null,
   "id": "92cf847c",
   "metadata": {
    "scrolled": false
   },
   "outputs": [],
   "source": [
    "val_loader, val_set, lbl_map, inv_lbl_map = interpretability_utils.make_dataloader(\"/media/user/nvme/datasets/audioset/meta_8000/\", hparams.cfg['audio_config'], csv_name=\"eval.csv\")"
   ]
  },
  {
   "cell_type": "code",
   "execution_count": null,
   "id": "a693f21b",
   "metadata": {
    "scrolled": false
   },
   "outputs": [],
   "source": []
  },
  {
   "cell_type": "code",
   "execution_count": null,
   "id": "52f69701",
   "metadata": {
    "scrolled": false
   },
   "outputs": [],
   "source": []
  },
  {
   "cell_type": "code",
   "execution_count": null,
   "id": "fe069758",
   "metadata": {
    "scrolled": false
   },
   "outputs": [],
   "source": [
    "ckpt_idxs = feature_evolution_helper.get_ckpt_indices(is_contrastive=False)"
   ]
  },
  {
   "cell_type": "code",
   "execution_count": null,
   "id": "a509a36b",
   "metadata": {
    "scrolled": false
   },
   "outputs": [],
   "source": []
  },
  {
   "cell_type": "code",
   "execution_count": null,
   "id": "3aaeb999",
   "metadata": {
    "scrolled": false
   },
   "outputs": [],
   "source": [
    "ckpt_idxs"
   ]
  },
  {
   "cell_type": "code",
   "execution_count": null,
   "id": "dab6000c",
   "metadata": {
    "scrolled": false
   },
   "outputs": [],
   "source": [
    "from tqdm import notebook"
   ]
  },
  {
   "cell_type": "code",
   "execution_count": null,
   "id": "22465f02",
   "metadata": {},
   "outputs": [],
   "source": []
  },
  {
   "cell_type": "code",
   "execution_count": null,
   "id": "8baa9fb4",
   "metadata": {},
   "outputs": [],
   "source": [
    "output_dir = os.path.join(exp_dir, \"feature_evolution\")\n",
    "if not os.path.exists(output_dir):\n",
    "    os.makedirs(output_dir)"
   ]
  },
  {
   "cell_type": "code",
   "execution_count": null,
   "id": "9b3ba5d6",
   "metadata": {
    "scrolled": false
   },
   "outputs": [],
   "source": [
    "for layer_idx in notebook.tqdm(range(1, 12)):\n",
    "    results = feature_evolution_helper.process_features_over_training(exp_dir, ckpt_idxs, layer_idx, selected_inputs, val_set, inv_lbl_map)\n",
    "    feature_evolution_helper.plot_evo_spectrograms(results, layer_idx, ckpt_idxs)"
   ]
  },
  {
   "cell_type": "code",
   "execution_count": null,
   "id": "ee6c1396",
   "metadata": {},
   "outputs": [],
   "source": []
  },
  {
   "cell_type": "code",
   "execution_count": null,
   "id": "4b4df520",
   "metadata": {},
   "outputs": [],
   "source": []
  },
  {
   "cell_type": "code",
   "execution_count": null,
   "id": "76729296",
   "metadata": {
    "scrolled": true
   },
   "outputs": [],
   "source": []
  }
 ],
 "metadata": {
  "kernelspec": {
   "display_name": "Python 3",
   "language": "python",
   "name": "python3"
  },
  "language_info": {
   "codemirror_mode": {
    "name": "ipython",
    "version": 3
   },
   "file_extension": ".py",
   "mimetype": "text/x-python",
   "name": "python",
   "nbconvert_exporter": "python",
   "pygments_lexer": "ipython3",
   "version": "3.8.8"
  }
 },
 "nbformat": 4,
 "nbformat_minor": 5
}
