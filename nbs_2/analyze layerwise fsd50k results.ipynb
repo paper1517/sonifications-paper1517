{
 "cells": [
  {
   "cell_type": "code",
   "execution_count": 1,
   "id": "74c7a192",
   "metadata": {},
   "outputs": [],
   "source": [
    "import pandas as pd\n",
    "import os\n",
    "import numpy as np\n",
    "import matplotlib\n",
    "import matplotlib.pyplot as plt\n",
    "import glob\n",
    "import torch\n",
    "import seaborn as sns\n",
    "# matplotlib.rc('text', usetex = True)\n"
   ]
  },
  {
   "cell_type": "code",
   "execution_count": 2,
   "id": "6d16de5a",
   "metadata": {},
   "outputs": [],
   "source": [
    "exp_dir = \"/media/user/nvme/contrastive_experiments/experiments_fsd50k_layerwise/\""
   ]
  },
  {
   "cell_type": "code",
   "execution_count": 3,
   "id": "446c968c",
   "metadata": {},
   "outputs": [],
   "source": [
    "def ckpt_info(f):\n",
    "    \n",
    "    # val_acc = float(f.split(\"/\")[-1].replace(\".pth\", \"\").split(\"val_acc=\")[-1])\n",
    "    val_acc = torch.load(f)['val_acc']\n",
    "    #print(val_acc)\n",
    "    fconly = \"_fconly_\" in f\n",
    "    is_contrastive = \"_constrastive_\" in f\n",
    "    if is_contrastive:\n",
    "        model_type = \"Contrastive\"\n",
    "    else:\n",
    "        model_type = 'Supervised'\n",
    "    if fconly:\n",
    "        model_type_alt = model_type+\",fconly\"\n",
    "    else:\n",
    "        model_type_alt = model_type+\",full\"\n",
    "    #print(fconly, is_contrastive)\n",
    "    res = {\n",
    "        \"val_mAP\" : val_acc,\n",
    "        \"fconly\": fconly,\n",
    "        \"model_type\": model_type,\n",
    "        \"layer\": int(f.split(\"/\")[-4].replace(\"layer\",\"\")),\n",
    "        \"model_type_alt\": model_type_alt\n",
    "    }\n",
    "    return res"
   ]
  },
  {
   "cell_type": "code",
   "execution_count": 4,
   "id": "2a01c578",
   "metadata": {},
   "outputs": [],
   "source": [
    "def get_model_info(model_dir):\n",
    "    ckpt = glob.glob(os.path.join(model_dir, \"ckpts\", \"*\"))[0]\n",
    "    #print(ckpt)\n",
    "    return ckpt_info(ckpt)"
   ]
  },
  {
   "cell_type": "code",
   "execution_count": 5,
   "id": "ca9a79e5",
   "metadata": {},
   "outputs": [],
   "source": [
    "from tqdm import notebook"
   ]
  },
  {
   "cell_type": "code",
   "execution_count": 6,
   "id": "28860cd3",
   "metadata": {},
   "outputs": [
    {
     "data": {
      "application/vnd.jupyter.widget-view+json": {
       "model_id": "a436710c48fd4da3b261c2dc80a4afcc",
       "version_major": 2,
       "version_minor": 0
      },
      "text/plain": [
       "  0%|          | 0/11 [00:00<?, ?it/s]"
      ]
     },
     "metadata": {},
     "output_type": "display_data"
    }
   ],
   "source": [
    "records = []\n",
    "for i in notebook.tqdm(range(1, 12)):\n",
    "    layer_dir = os.path.join(exp_dir, f\"layer{i}\")\n",
    "    # print(layer_dir)\n",
    "    models = glob.glob(os.path.join(layer_dir, \"*\"))\n",
    "    # print(models)\n",
    "    for mod in models:\n",
    "        rec = get_model_info(mod)\n",
    "        records.append(rec)"
   ]
  },
  {
   "cell_type": "code",
   "execution_count": null,
   "id": "0a280988",
   "metadata": {},
   "outputs": [],
   "source": []
  },
  {
   "cell_type": "code",
   "execution_count": 7,
   "id": "0a7d193e",
   "metadata": {},
   "outputs": [],
   "source": [
    "df = pd.DataFrame.from_records(records)"
   ]
  },
  {
   "cell_type": "code",
   "execution_count": 8,
   "id": "60995b5b",
   "metadata": {},
   "outputs": [],
   "source": [
    "# df[df['layer'] == 10]"
   ]
  },
  {
   "cell_type": "code",
   "execution_count": null,
   "id": "1780aa77",
   "metadata": {},
   "outputs": [],
   "source": []
  },
  {
   "cell_type": "code",
   "execution_count": 9,
   "id": "7c5d078d",
   "metadata": {},
   "outputs": [],
   "source": [
    "df_fconly_contrastive = df[df['model_type_alt'] == \"Contrastive,fconly\"]\n",
    "df_fconly_supervised = df[df['model_type_alt'] == \"Supervised,fconly\"]\n",
    "df_full_contrastive = df[df['model_type_alt'] == \"Contrastive,full\"]\n",
    "df_full_supervised = df[df['model_type_alt'] == \"Supervised,full\"]"
   ]
  },
  {
   "cell_type": "code",
   "execution_count": 10,
   "id": "2048bc0f",
   "metadata": {},
   "outputs": [],
   "source": [
    "df_final = df_fconly_contrastive.append(df_fconly_supervised).append(df_full_contrastive).append(df_full_supervised)"
   ]
  },
  {
   "cell_type": "code",
   "execution_count": 11,
   "id": "ae87ac97",
   "metadata": {},
   "outputs": [],
   "source": [
    "import seaborn as sns"
   ]
  },
  {
   "cell_type": "code",
   "execution_count": null,
   "id": "f8168425",
   "metadata": {},
   "outputs": [],
   "source": []
  },
  {
   "cell_type": "code",
   "execution_count": 12,
   "id": "47f79dc2",
   "metadata": {},
   "outputs": [],
   "source": [
    "colours = sns.color_palette(\"deep\", 4)"
   ]
  },
  {
   "cell_type": "code",
   "execution_count": 13,
   "id": "a8eec7e5",
   "metadata": {},
   "outputs": [
    {
     "data": {
      "text/html": [
       "<svg  width=\"220\" height=\"55\"><rect x=\"0\" y=\"0\" width=\"55\" height=\"55\" style=\"fill:#4c72b0;stroke-width:2;stroke:rgb(255,255,255)\"/><rect x=\"55\" y=\"0\" width=\"55\" height=\"55\" style=\"fill:#dd8452;stroke-width:2;stroke:rgb(255,255,255)\"/><rect x=\"110\" y=\"0\" width=\"55\" height=\"55\" style=\"fill:#55a868;stroke-width:2;stroke:rgb(255,255,255)\"/><rect x=\"165\" y=\"0\" width=\"55\" height=\"55\" style=\"fill:#c44e52;stroke-width:2;stroke:rgb(255,255,255)\"/></svg>"
      ],
      "text/plain": [
       "[(0.2980392156862745, 0.4470588235294118, 0.6901960784313725),\n",
       " (0.8666666666666667, 0.5176470588235295, 0.3215686274509804),\n",
       " (0.3333333333333333, 0.6588235294117647, 0.40784313725490196),\n",
       " (0.7686274509803922, 0.3058823529411765, 0.3215686274509804)]"
      ]
     },
     "execution_count": 13,
     "metadata": {},
     "output_type": "execute_result"
    }
   ],
   "source": [
    "colours"
   ]
  },
  {
   "cell_type": "code",
   "execution_count": 22,
   "id": "9630785b",
   "metadata": {},
   "outputs": [
    {
     "data": {
      "text/plain": [
       "(132, 5)"
      ]
     },
     "execution_count": 22,
     "metadata": {},
     "output_type": "execute_result"
    }
   ],
   "source": [
    "df_final.shape"
   ]
  },
  {
   "cell_type": "code",
   "execution_count": null,
   "id": "53675c73",
   "metadata": {},
   "outputs": [],
   "source": []
  },
  {
   "cell_type": "code",
   "execution_count": 14,
   "id": "0c8984b4",
   "metadata": {},
   "outputs": [],
   "source": [
    "supervised_fulls = [\n",
    "    torch.load(\"/media/user/nvme/contrastive_experiments/experiments_fsd50k_latest/cnn12_1x_full_tr_1x128_Adam_1e-3_warmupcosine_wd0._fixed_lr_scaling_supervised_ft_fullmodel_mixup_rs8881/ckpts/epoch=099_tr_loss=0.032847_tr_acc=0.656600_val_acc=0.442738.pth\")['val_acc'],\n",
    "    torch.load(\"/media/user/nvme/contrastive_experiments/experiments_fsd50k_latest/cnn12_1x_full_tr_1x128_Adam_1e-3_warmupcosine_wd0._fixed_lr_scaling_supervised_ft_fullmodel_mixup_rs8882/ckpts/epoch=088_tr_loss=0.033046_tr_acc=0.653523_val_acc=0.438439.pth\")['val_acc'],\n",
    "    torch.load(\"/media/user/nvme/contrastive_experiments/experiments_fsd50k_latest/cnn12_1x_full_tr_1x128_Adam_1e-3_warmupcosine_wd0._fixed_lr_scaling_supervised_ft_fullmodel_mixup_rs8883/ckpts/epoch=096_tr_loss=0.032655_tr_acc=0.660639_val_acc=0.437120.pth\")['val_acc'],\n",
    "]"
   ]
  },
  {
   "cell_type": "code",
   "execution_count": 15,
   "id": "7eeb801f",
   "metadata": {},
   "outputs": [],
   "source": [
    "contrastive_fulls = [\n",
    "    torch.load(\"/media/user/nvme/contrastive_experiments/experiments_fsd50k_v3/cnn12_1x_full_tr_1x64_Adam_1e-3_warmupcosine_wd0._fixed_lr_scaling_randomgain_gaussiannoise_timemask_bgnoise_nolineareval_ft_fullmodel_r3/ckpts/epoch=090_tr_loss=0.031432_tr_acc=0.683135_val_acc=0.423625.pth\")['val_acc'],\n",
    "    torch.load(\"/media/user/nvme/contrastive_experiments/experiments_fsd50k_latest/cnn12_1x_full_tr_1x64_Adam_1e-3_warmupcosine_wd0._fixed_lr_scaling_randomgain_gaussiannoise_timemask_bgnoise_nolineareval_ft_fullmodel_rs8882/ckpts/epoch=087_tr_loss=0.031587_tr_acc=0.682434_val_acc=0.419837.pth\")['val_acc'],\n",
    "    torch.load(\"/media/user/nvme/contrastive_experiments/experiments_fsd50k_latest/cnn12_1x_full_tr_1x64_Adam_1e-3_warmupcosine_wd0._fixed_lr_scaling_randomgain_gaussiannoise_timemask_bgnoise_nolineareval_ft_fullmodel_rs8883/ckpts/epoch=087_tr_loss=0.031832_tr_acc=0.675464_val_acc=0.423846.pth\")['val_acc'],\n",
    "]"
   ]
  },
  {
   "cell_type": "code",
   "execution_count": 16,
   "id": "4885aa30",
   "metadata": {},
   "outputs": [],
   "source": [
    "supervised_fcs = [\n",
    "    torch.load(\"/media/user/nvme/contrastive_experiments/experiments_fsd50k_latest/cnn12_1x_full_tr_1x128_Adam_1e-3_warmupcosine_wd0._fixed_lr_scaling_supervised_ft_fconly_mixup_rs8881/ckpts/epoch=082_tr_loss=0.039606_tr_acc=0.489563_val_acc=0.457319.pth\")['val_acc'],\n",
    "    torch.load(\"/media/user/nvme/contrastive_experiments/experiments_fsd50k_latest/cnn12_1x_full_tr_1x128_Adam_1e-3_warmupcosine_wd0._fixed_lr_scaling_supervised_ft_fconly_mixup_rs8882/ckpts/epoch=056_tr_loss=0.039820_tr_acc=0.488300_val_acc=0.453529.pth\")['val_acc'],\n",
    "    torch.load(\"/media/user/nvme/contrastive_experiments/experiments_fsd50k_latest/cnn12_1x_full_tr_1x128_Adam_1e-3_warmupcosine_wd0._fixed_lr_scaling_supervised_ft_fconly_mixup_rs8883/ckpts/epoch=097_tr_loss=0.039405_tr_acc=0.494722_val_acc=0.460292.pth\")['val_acc'],\n",
    "]"
   ]
  },
  {
   "cell_type": "code",
   "execution_count": 17,
   "id": "7f45f579",
   "metadata": {},
   "outputs": [],
   "source": [
    "contrastive_fcs = [\n",
    "    torch.load(\"/media/user/nvme/contrastive_experiments/experiments_fsd50k_v3/cnn12_1x_full_tr_1x64_Adam_1e-3_warmupcosine_wd0._fixed_lr_scaling_randomgain_gaussiannoise_timemask_bgnoise_nolineareval_ft_fconly_r2/ckpts/epoch=095_tr_loss=0.042163_tr_acc=0.479335_val_acc=0.325483.pth\")['val_acc'],\n",
    "    torch.load(\"/media/user/nvme/contrastive_experiments/experiments_fsd50k_latest/cnn12_1x_full_tr_1x64_Adam_1e-3_warmupcosine_wd0._fixed_lr_scaling_randomgain_gaussiannoise_timemask_bgnoise_nolineareval_ft_fconly_rs8882/ckpts/epoch=093_tr_loss=0.042339_tr_acc=0.473193_val_acc=0.315465.pth\")['val_acc'],\n",
    "    torch.load(\"/media/user/nvme/contrastive_experiments/experiments_fsd50k_latest/cnn12_1x_full_tr_1x64_Adam_1e-3_warmupcosine_wd0._fixed_lr_scaling_randomgain_gaussiannoise_timemask_bgnoise_nolineareval_ft_fconly_rs8883/ckpts/epoch=090_tr_loss=0.042204_tr_acc=0.479826_val_acc=0.320906.pth\")['val_acc'],\n",
    "]"
   ]
  },
  {
   "cell_type": "code",
   "execution_count": 18,
   "id": "47c75e23",
   "metadata": {},
   "outputs": [],
   "source": [
    "supervised_full_val = np.mean(supervised_fulls)\n",
    "contrastive_full_val = np.mean(contrastive_fulls)\n",
    "supervised_fc_val = np.mean(supervised_fcs)\n",
    "contrastive_fc_val = np.mean(contrastive_fcs)"
   ]
  },
  {
   "cell_type": "code",
   "execution_count": null,
   "id": "9c1bf22d",
   "metadata": {},
   "outputs": [],
   "source": []
  },
  {
   "cell_type": "code",
   "execution_count": 24,
   "id": "cb15eee5",
   "metadata": {},
   "outputs": [
    {
     "data": {
      "image/png": "[encoded data removed]",
      "text/plain": [
       "<Figure size 432x288 with 1 Axes>"
      ]
     },
     "metadata": {},
     "output_type": "display_data"
    }
   ],
   "source": [
    "sns.set_theme(style=\"whitegrid\", palette=\"deep\", font='Fira Mono', font_scale=0.5)\n",
    "colours = sns.color_palette(\"deep\", 4)\n",
    "ax = sns.barplot(x='layer', y='val_mAP', hue='model_type_alt', data=df_final)\n",
    "\n",
    "\n",
    "ax.axhline(contrastive_fc_val, ls='--', color=colours[0])\n",
    "ax.axhline(supervised_fc_val, ls='--', color=colours[1])\n",
    "ax.axhline(contrastive_full_val, ls='--', color=colours[2])\n",
    "ax.axhline(supervised_full_val, ls='--', color=colours[3])\n",
    "\n",
    "ax.legend(loc=\"upper left\", fontsize=8)\n",
    "ax.set_title(\"Layer-wise FSD50K validation performance\")\n",
    "ax.figure.savefig(\"/home/user/Desktop/fsd50k_layerwise.png\", dpi=300, bbox_inches='tight')"
   ]
  }
 ],
 "metadata": {
  "kernelspec": {
   "display_name": "Python 3",
   "language": "python",
   "name": "python3"
  },
  "language_info": {
   "codemirror_mode": {
    "name": "ipython",
    "version": 3
   },
   "file_extension": ".py",
   "mimetype": "text/x-python",
   "name": "python",
   "nbconvert_exporter": "python",
   "pygments_lexer": "ipython3",
   "version": "3.8.8"
  }
 },
 "nbformat": 4,
 "nbformat_minor": 5
}
