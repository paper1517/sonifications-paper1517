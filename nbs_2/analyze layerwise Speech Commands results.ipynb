{
 "cells": [
  {
   "cell_type": "code",
   "execution_count": 1,
   "id": "74c7a192",
   "metadata": {},
   "outputs": [],
   "source": [
    "import pandas as pd\n",
    "import os\n",
    "import numpy as np\n",
    "import matplotlib\n",
    "import matplotlib.pyplot as plt\n",
    "import torch\n",
    "import glob\n",
    "from tqdm import notebook\n",
    "import seaborn as sns\n",
    "# matplotlib.rc('text', usetex = True)\n"
   ]
  },
  {
   "cell_type": "code",
   "execution_count": 12,
   "id": "6d16de5a",
   "metadata": {},
   "outputs": [],
   "source": [
    "exp_dir = \"/media/user/nvme/contrastive_experiments/experiments_speech_commands_layerwise_latest/\""
   ]
  },
  {
   "cell_type": "code",
   "execution_count": null,
   "id": "e318cb7d",
   "metadata": {},
   "outputs": [],
   "source": []
  },
  {
   "cell_type": "code",
   "execution_count": 13,
   "id": "446c968c",
   "metadata": {},
   "outputs": [],
   "source": [
    "def ckpt_info(f):\n",
    "    # print(f)\n",
    "    # val_acc = float(f.split(\"/\")[-1].replace(\".pth\", \"\").split(\"val_acc=\")[-1])\n",
    "    val_acc = torch.load(f)['val_acc']\n",
    "    #print(val_acc)\n",
    "    fconly = \"_fconly_\" in f\n",
    "    is_contrastive = \"_constrastive_\" in f\n",
    "    if is_contrastive:\n",
    "        model_type = \"Contrastive\"\n",
    "    else:\n",
    "        model_type = 'Supervised'\n",
    "    if fconly:\n",
    "        model_type_alt = model_type+\",fconly\"\n",
    "    else:\n",
    "        model_type_alt = model_type+\",full\"\n",
    "    #print(fconly, is_contrastive)\n",
    "    res = {\n",
    "        \"val_acc\" : val_acc,\n",
    "        \"fconly\": fconly,\n",
    "        \"model_type\": model_type,\n",
    "        \"layer\": int(f.split(\"/\")[-4].replace(\"layer\",\"\")),\n",
    "        \"model_type_alt\": model_type_alt,\n",
    "        \"ckpt_ext\": \"/\".join(f.split(\"/\")[-4:])\n",
    "    }\n",
    "    return res"
   ]
  },
  {
   "cell_type": "code",
   "execution_count": 14,
   "id": "2a01c578",
   "metadata": {},
   "outputs": [],
   "source": [
    "def get_model_info(model_dir):\n",
    "    ckpt = glob.glob(os.path.join(model_dir, \"ckpts\", \"*\"))[0]\n",
    "    \n",
    "    #print(ckpt)\n",
    "    return ckpt_info(ckpt)"
   ]
  },
  {
   "cell_type": "code",
   "execution_count": 24,
   "id": "28860cd3",
   "metadata": {},
   "outputs": [
    {
     "data": {
      "application/vnd.jupyter.widget-view+json": {
       "model_id": "983864d835254e3cb3faba0e7f9200e7",
       "version_major": 2,
       "version_minor": 0
      },
      "text/plain": [
       "  0%|          | 0/11 [00:00<?, ?it/s]"
      ]
     },
     "metadata": {},
     "output_type": "display_data"
    }
   ],
   "source": [
    "records = []\n",
    "for i in notebook.tqdm(range(1, 12)):\n",
    "    layer_dir = os.path.join(exp_dir, f\"layer{i}\")\n",
    "    # print(layer_dir)\n",
    "    models = glob.glob(os.path.join(layer_dir, \"*\"))\n",
    "    # print(models)\n",
    "    for mod in models:\n",
    "        rec = get_model_info(mod)\n",
    "        records.append(rec)"
   ]
  },
  {
   "cell_type": "code",
   "execution_count": 25,
   "id": "0a280988",
   "metadata": {},
   "outputs": [],
   "source": [
    "records.append({\"val_acc\": 0.7710, \"fconly\": False, \"model_type_alt\": \"Supervised,full\", \"layer\": 5, \"model_type\": \"Supervised\", \"ckpt_ext\":\"unknown.pth\"})"
   ]
  },
  {
   "cell_type": "code",
   "execution_count": 26,
   "id": "0a7d193e",
   "metadata": {},
   "outputs": [],
   "source": [
    "df = pd.DataFrame.from_records(records)"
   ]
  },
  {
   "cell_type": "code",
   "execution_count": null,
   "id": "29ccfe8a",
   "metadata": {},
   "outputs": [],
   "source": []
  },
  {
   "cell_type": "code",
   "execution_count": 27,
   "id": "09068e11",
   "metadata": {},
   "outputs": [],
   "source": [
    "df_fconly_contrastive = df[df['model_type_alt'] == \"Contrastive,fconly\"]\n",
    "df_fconly_supervised = df[df['model_type_alt'] == \"Supervised,fconly\"]\n",
    "df_full_contrastive = df[df['model_type_alt'] == \"Contrastive,full\"]\n",
    "df_full_supervised = df[df['model_type_alt'] == \"Supervised,full\"]"
   ]
  },
  {
   "cell_type": "code",
   "execution_count": null,
   "id": "a5056bd1",
   "metadata": {},
   "outputs": [],
   "source": []
  },
  {
   "cell_type": "code",
   "execution_count": null,
   "id": "2a63729e",
   "metadata": {},
   "outputs": [],
   "source": []
  },
  {
   "cell_type": "code",
   "execution_count": 28,
   "id": "2ac79a19",
   "metadata": {},
   "outputs": [],
   "source": [
    "df_final = df_fconly_contrastive.append(df_fconly_supervised).append(df_full_contrastive).append(df_full_supervised)"
   ]
  },
  {
   "cell_type": "code",
   "execution_count": null,
   "id": "8c7e5e32",
   "metadata": {},
   "outputs": [],
   "source": []
  },
  {
   "cell_type": "code",
   "execution_count": 30,
   "id": "07fff6ac",
   "metadata": {},
   "outputs": [],
   "source": [
    "import seaborn as sns"
   ]
  },
  {
   "cell_type": "code",
   "execution_count": null,
   "id": "54fccb7a",
   "metadata": {},
   "outputs": [],
   "source": []
  },
  {
   "cell_type": "code",
   "execution_count": null,
   "id": "07ff70ad",
   "metadata": {},
   "outputs": [],
   "source": []
  },
  {
   "cell_type": "code",
   "execution_count": 31,
   "id": "bc522b44",
   "metadata": {},
   "outputs": [],
   "source": [
    "colours = sns.color_palette(\"deep\", 4)"
   ]
  },
  {
   "cell_type": "code",
   "execution_count": 32,
   "id": "8b687ebb",
   "metadata": {},
   "outputs": [
    {
     "data": {
      "text/html": [
       "<svg  width=\"220\" height=\"55\"><rect x=\"0\" y=\"0\" width=\"55\" height=\"55\" style=\"fill:#4c72b0;stroke-width:2;stroke:rgb(255,255,255)\"/><rect x=\"55\" y=\"0\" width=\"55\" height=\"55\" style=\"fill:#dd8452;stroke-width:2;stroke:rgb(255,255,255)\"/><rect x=\"110\" y=\"0\" width=\"55\" height=\"55\" style=\"fill:#55a868;stroke-width:2;stroke:rgb(255,255,255)\"/><rect x=\"165\" y=\"0\" width=\"55\" height=\"55\" style=\"fill:#c44e52;stroke-width:2;stroke:rgb(255,255,255)\"/></svg>"
      ],
      "text/plain": [
       "[(0.2980392156862745, 0.4470588235294118, 0.6901960784313725),\n",
       " (0.8666666666666667, 0.5176470588235295, 0.3215686274509804),\n",
       " (0.3333333333333333, 0.6588235294117647, 0.40784313725490196),\n",
       " (0.7686274509803922, 0.3058823529411765, 0.3215686274509804)]"
      ]
     },
     "execution_count": 32,
     "metadata": {},
     "output_type": "execute_result"
    }
   ],
   "source": [
    "colours"
   ]
  },
  {
   "cell_type": "code",
   "execution_count": 33,
   "id": "9c8f3524",
   "metadata": {},
   "outputs": [],
   "source": [
    "import torch"
   ]
  },
  {
   "cell_type": "code",
   "execution_count": 34,
   "id": "dd3c9a0c",
   "metadata": {},
   "outputs": [],
   "source": [
    "supervised_fulls = [0.9411882576896102, 0.9425909227532311, 0.9436930167317904]\n",
    "contrastive_fulls = [\n",
    "    torch.load(\"/media/user/nvme/contrastive_experiments/experiments_speech_commands/cnn12_1x_full_tr_1x128_Adam_1e-3_warmupcosine_wd1e-5_fixed_lr_scaling_baseline_supervised_ft_fullmodel_mixup_r2/ckpts/epoch=091_tr_loss=1.471778_tr_acc=0.497378_val_acc=0.941088.pth\")['val_acc'],\n",
    "    0.9428914938382927, 0.9432922552850416\n",
    "]\n",
    "supervised_fcs = [0.366295962328424, 0.3695020539024146, 0.39525097685602645]\n",
    "contrastive_fcs = [\n",
    "    torch.load(\"/media/user/nvme/contrastive_experiments/experiments_speech_commands/cnn12_1x_full_tr_1x128_Adam_1e-3_warmupcosine_wd1e-5_fixed_lr_scaling_randomgain_gaussiannoise_timemask_bgnoise_nolineareval_ft_fconly_mixup_r2/ckpts/epoch=091_tr_loss=3.218745_tr_acc=0.143064_val_acc=0.301373.pth\")['val_acc'],\n",
    "    0.30337641518885883, 0.2969642320408777\n",
    "]"
   ]
  },
  {
   "cell_type": "code",
   "execution_count": null,
   "id": "6f1cd3f7",
   "metadata": {},
   "outputs": [],
   "source": []
  },
  {
   "cell_type": "code",
   "execution_count": null,
   "id": "bae1652d",
   "metadata": {},
   "outputs": [],
   "source": []
  },
  {
   "cell_type": "code",
   "execution_count": 35,
   "id": "28f2a232",
   "metadata": {},
   "outputs": [],
   "source": [
    "supervised_full_val = np.mean(supervised_fulls)\n",
    "contrastive_full_val = np.mean(contrastive_fulls)\n",
    "supervised_fc_val = np.mean(supervised_fcs)\n",
    "contrastive_fc_val = np.mean(contrastive_fcs)"
   ]
  },
  {
   "cell_type": "code",
   "execution_count": 41,
   "id": "2e7fc95b",
   "metadata": {},
   "outputs": [
    {
     "data": {
      "text/plain": [
       "(0.30057108506161706,\n",
       " 0.377016331028955,\n",
       " 0.9424239388170857,\n",
       " 0.9424907323915438)"
      ]
     },
     "execution_count": 41,
     "metadata": {},
     "output_type": "execute_result"
    }
   ],
   "source": [
    "contrastive_fc_val, supervised_fc_val, contrastive_full_val, supervised_full_val"
   ]
  },
  {
   "cell_type": "code",
   "execution_count": null,
   "id": "7cd06277",
   "metadata": {},
   "outputs": [],
   "source": []
  },
  {
   "cell_type": "code",
   "execution_count": 43,
   "id": "a18d9378",
   "metadata": {},
   "outputs": [
    {
     "data": {
      "image/png": "[encoded data removed]",
      "text/plain": [
       "<Figure size 432x288 with 1 Axes>"
      ]
     },
     "metadata": {},
     "output_type": "display_data"
    }
   ],
   "source": [
    "sns.set_theme(style=\"whitegrid\", palette=\"deep\", font='Fira Mono', font_scale=0.5)\n",
    "colours = sns.color_palette(\"deep\", 4)\n",
    "ax = sns.barplot(x='layer', y='val_acc', hue='model_type_alt', data=df_final)\n",
    "#ax.axhline(m_fconly, ls='--', color=colours[0])\n",
    "#ax.axhline(m_full, ls='--', color=colours[1])\n",
    "ax.axhline(contrastive_fc_val, ls='--', color=colours[0])\n",
    "ax.axhline(supervised_fc_val, ls='--', color=colours[1])\n",
    "ax.axhline(contrastive_full_val, ls='--', color=colours[2])\n",
    "ax.axhline(supervised_full_val, ls='--', color=colours[3])\n",
    "\n",
    "ax.legend(loc=\"upper left\", fontsize=8)\n",
    "ax.set_title(\"Layer-wise Speech Commands performance\")\n",
    "ax.figure.savefig(\"/home/user/Desktop/speechcommands_layerwise.png\", dpi=300, bbox_inches='tight')"
   ]
  },
  {
   "cell_type": "code",
   "execution_count": 44,
   "id": "3b93a388",
   "metadata": {},
   "outputs": [],
   "source": [
    "import pickle"
   ]
  },
  {
   "cell_type": "code",
   "execution_count": 45,
   "id": "42dab362",
   "metadata": {},
   "outputs": [],
   "source": [
    "with open(\"/media/user/nvme/contrastive_experiments/speechcommands_layerwise_data.pickle\", \"wb\") as fd:\n",
    "    pickle.dump({\n",
    "        'layerwise_df': df_final,\n",
    "        \"supervised_full_val\": supervised_full_val,\n",
    "        \"contrastive_full_val\": contrastive_full_val,\n",
    "        \"supervised_fc_val\": supervised_fc_val,\n",
    "        \"contrastive_fc_val\": contrastive_fc_val\n",
    "    }, fd, protocol=pickle.HIGHEST_PROTOCOL)"
   ]
  },
  {
   "cell_type": "code",
   "execution_count": null,
   "id": "10da4ee9",
   "metadata": {},
   "outputs": [],
   "source": []
  }
 ],
 "metadata": {
  "kernelspec": {
   "display_name": "Python 3",
   "language": "python",
   "name": "python3"
  },
  "language_info": {
   "codemirror_mode": {
    "name": "ipython",
    "version": 3
   },
   "file_extension": ".py",
   "mimetype": "text/x-python",
   "name": "python",
   "nbconvert_exporter": "python",
   "pygments_lexer": "ipython3",
   "version": "3.8.8"
  }
 },
 "nbformat": 4,
 "nbformat_minor": 5
}
