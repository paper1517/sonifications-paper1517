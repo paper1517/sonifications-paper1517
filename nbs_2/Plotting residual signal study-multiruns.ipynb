{
 "cells": [
  {
   "cell_type": "code",
   "execution_count": 1,
   "id": "4e2c6662",
   "metadata": {},
   "outputs": [],
   "source": [
    "import numpy as np\n",
    "import os\n",
    "import glob\n",
    "import seaborn as sns"
   ]
  },
  {
   "cell_type": "code",
   "execution_count": 2,
   "id": "c5632f56",
   "metadata": {},
   "outputs": [],
   "source": [
    "fc_only_baseline = [0.303938489322368, 0.3093833789899899, 0.30591501256690773]\n",
    "full_model_baseline = [0.4243540602566276, 0.4274145287715402, 0.42345384894634636]"
   ]
  },
  {
   "cell_type": "code",
   "execution_count": 3,
   "id": "8fca6f01",
   "metadata": {},
   "outputs": [],
   "source": [
    "fc_only_results = {0: {1: 0.12566471177609206,\n",
    "  2: 0.1647873842473217,\n",
    "  3: 0.16019018325134254,\n",
    "  4: 0.15784904774401828,\n",
    "  5: 0.14319607804204895,\n",
    "  6: 0.16323147087577017,\n",
    "  7: 0.13900931630018876,\n",
    "  8: 0.1666123977618358,\n",
    "  9: 0.17142070211346172,\n",
    "  10: 0.17521368748782357,\n",
    "  11: 0.1897644526447548},\n",
    " 1: {1: 0.128077341496854,\n",
    "  2: 0.1563530354432886,\n",
    "  3: 0.15620128503875821,\n",
    "  4: 0.14879247434643703,\n",
    "  5: 0.1393481996769682,\n",
    "  6: 0.14218285483776774,\n",
    "  7: 0.13139365072408943,\n",
    "  8: 0.15342667145954111,\n",
    "  9: 0.1572712177826516,\n",
    "  10: 0.17504515113215752,\n",
    "  11: 0.17780279074768604},\n",
    " 2: {1: 0.1137792364142563,\n",
    "  2: 0.1663257130724236,\n",
    "  3: 0.17699919104957346,\n",
    "  4: 0.14259340262057157,\n",
    "  5: 0.1587097415129478,\n",
    "  6: 0.1404819869242055,\n",
    "  7: 0.13896763261105718,\n",
    "  8: 0.15722643945899098,\n",
    "  9: 0.16610890440179626,\n",
    "  10: 0.17226367902502862,\n",
    "  11: 0.19119348947204767}}"
   ]
  },
  {
   "cell_type": "code",
   "execution_count": 4,
   "id": "e3b14f97",
   "metadata": {},
   "outputs": [],
   "source": [
    "full_model_results = {0: {1: 0.1837950956654363,\n",
    "  2: 0.19671473705687795,\n",
    "  3: 0.20108673916061362,\n",
    "  4: 0.22839356873791183,\n",
    "  5: 0.24803364962186142,\n",
    "  6: 0.2801172312563643,\n",
    "  7: 0.27110793890395973,\n",
    "  8: 0.3110693194328128,\n",
    "  9: 0.316840358987352,\n",
    "  10: 0.3215811625128609,\n",
    "  11: 0.3271420230040678},\n",
    " 1: {1: 0.22985252242840487,\n",
    "  2: 0.19597478469046467,\n",
    "  3: 0.21783907609314937,\n",
    "  4: 0.23930789814136008,\n",
    "  5: 0.26865411317923715,\n",
    "  6: 0.28090549465691333,\n",
    "  7: 0.288099491039961,\n",
    "  8: 0.29758997141753923,\n",
    "  9: 0.31679773694370217,\n",
    "  10: 0.35268393548779886,\n",
    "  11: 0.3378161897150029},\n",
    " 2: {1: 0.20279004818311505,\n",
    "  2: 0.1887408070434549,\n",
    "  3: 0.21838904490771974,\n",
    "  4: 0.2158818242469624,\n",
    "  5: 0.27319212312492397,\n",
    "  6: 0.28078952116189515,\n",
    "  7: 0.28692273536359414,\n",
    "  8: 0.3179243595785271,\n",
    "  9: 0.3185604812317797,\n",
    "  10: 0.3533927597841378,\n",
    "  11: 0.3262227478317309}}"
   ]
  },
  {
   "cell_type": "code",
   "execution_count": 5,
   "id": "6a59edce",
   "metadata": {},
   "outputs": [],
   "source": [
    "import pandas as pd"
   ]
  },
  {
   "cell_type": "code",
   "execution_count": 6,
   "id": "e1c1ed47",
   "metadata": {},
   "outputs": [],
   "source": [
    "df = pd.DataFrame()"
   ]
  },
  {
   "cell_type": "code",
   "execution_count": 7,
   "id": "1a7baaca",
   "metadata": {},
   "outputs": [],
   "source": [
    "layers = []\n",
    "model_type = []\n",
    "# fc_only = []\n",
    "# full_model = []\n",
    "eval_map = []"
   ]
  },
  {
   "cell_type": "code",
   "execution_count": 8,
   "id": "db7ddcd3",
   "metadata": {},
   "outputs": [],
   "source": [
    "for key, values in fc_only_results.items():\n",
    "    for k, v in values.items():\n",
    "        # print(k, v)\n",
    "        layers.append(k)\n",
    "        eval_map.append(v)\n",
    "        model_type.append(\"fc-only\")"
   ]
  },
  {
   "cell_type": "code",
   "execution_count": 9,
   "id": "fea4a41b",
   "metadata": {},
   "outputs": [],
   "source": [
    "for key, values in full_model_results.items():\n",
    "    for k, v in values.items():\n",
    "        # print(k, v)\n",
    "        layers.append(k)\n",
    "        eval_map.append(v)\n",
    "        model_type.append(\"full\")"
   ]
  },
  {
   "cell_type": "code",
   "execution_count": null,
   "id": "ed0b9e9b",
   "metadata": {},
   "outputs": [],
   "source": []
  },
  {
   "cell_type": "code",
   "execution_count": null,
   "id": "3506cd7d",
   "metadata": {},
   "outputs": [],
   "source": []
  },
  {
   "cell_type": "code",
   "execution_count": 10,
   "id": "37c1e9c6",
   "metadata": {},
   "outputs": [],
   "source": [
    "df = pd.DataFrame()\n",
    "df['Layer'] = layers\n",
    "df['model_type'] = model_type\n",
    "df['eval mAP'] = eval_map"
   ]
  },
  {
   "cell_type": "code",
   "execution_count": 11,
   "id": "aff8298e",
   "metadata": {},
   "outputs": [],
   "source": [
    "# df = df.melt(\"Layer\", var_name='', value_name='eval mAP')"
   ]
  },
  {
   "cell_type": "code",
   "execution_count": 12,
   "id": "b065e5f6",
   "metadata": {},
   "outputs": [
    {
     "data": {
      "text/html": [
       "<div>\n",
       "<style scoped>\n",
       "    .dataframe tbody tr th:only-of-type {\n",
       "        vertical-align: middle;\n",
       "    }\n",
       "\n",
       "    .dataframe tbody tr th {\n",
       "        vertical-align: top;\n",
       "    }\n",
       "\n",
       "    .dataframe thead th {\n",
       "        text-align: right;\n",
       "    }\n",
       "</style>\n",
       "<table border=\"1\" class=\"dataframe\">\n",
       "  <thead>\n",
       "    <tr style=\"text-align: right;\">\n",
       "      <th></th>\n",
       "      <th>Layer</th>\n",
       "      <th>model_type</th>\n",
       "      <th>eval mAP</th>\n",
       "    </tr>\n",
       "  </thead>\n",
       "  <tbody>\n",
       "    <tr>\n",
       "      <th>0</th>\n",
       "      <td>1</td>\n",
       "      <td>fc-only</td>\n",
       "      <td>0.125665</td>\n",
       "    </tr>\n",
       "    <tr>\n",
       "      <th>1</th>\n",
       "      <td>2</td>\n",
       "      <td>fc-only</td>\n",
       "      <td>0.164787</td>\n",
       "    </tr>\n",
       "    <tr>\n",
       "      <th>2</th>\n",
       "      <td>3</td>\n",
       "      <td>fc-only</td>\n",
       "      <td>0.160190</td>\n",
       "    </tr>\n",
       "    <tr>\n",
       "      <th>3</th>\n",
       "      <td>4</td>\n",
       "      <td>fc-only</td>\n",
       "      <td>0.157849</td>\n",
       "    </tr>\n",
       "    <tr>\n",
       "      <th>4</th>\n",
       "      <td>5</td>\n",
       "      <td>fc-only</td>\n",
       "      <td>0.143196</td>\n",
       "    </tr>\n",
       "    <tr>\n",
       "      <th>...</th>\n",
       "      <td>...</td>\n",
       "      <td>...</td>\n",
       "      <td>...</td>\n",
       "    </tr>\n",
       "    <tr>\n",
       "      <th>61</th>\n",
       "      <td>7</td>\n",
       "      <td>full</td>\n",
       "      <td>0.286923</td>\n",
       "    </tr>\n",
       "    <tr>\n",
       "      <th>62</th>\n",
       "      <td>8</td>\n",
       "      <td>full</td>\n",
       "      <td>0.317924</td>\n",
       "    </tr>\n",
       "    <tr>\n",
       "      <th>63</th>\n",
       "      <td>9</td>\n",
       "      <td>full</td>\n",
       "      <td>0.318560</td>\n",
       "    </tr>\n",
       "    <tr>\n",
       "      <th>64</th>\n",
       "      <td>10</td>\n",
       "      <td>full</td>\n",
       "      <td>0.353393</td>\n",
       "    </tr>\n",
       "    <tr>\n",
       "      <th>65</th>\n",
       "      <td>11</td>\n",
       "      <td>full</td>\n",
       "      <td>0.326223</td>\n",
       "    </tr>\n",
       "  </tbody>\n",
       "</table>\n",
       "<p>66 rows × 3 columns</p>\n",
       "</div>"
      ],
      "text/plain": [
       "    Layer model_type  eval mAP\n",
       "0       1    fc-only  0.125665\n",
       "1       2    fc-only  0.164787\n",
       "2       3    fc-only  0.160190\n",
       "3       4    fc-only  0.157849\n",
       "4       5    fc-only  0.143196\n",
       "..    ...        ...       ...\n",
       "61      7       full  0.286923\n",
       "62      8       full  0.317924\n",
       "63      9       full  0.318560\n",
       "64     10       full  0.353393\n",
       "65     11       full  0.326223\n",
       "\n",
       "[66 rows x 3 columns]"
      ]
     },
     "execution_count": 12,
     "metadata": {},
     "output_type": "execute_result"
    }
   ],
   "source": [
    "df"
   ]
  },
  {
   "cell_type": "code",
   "execution_count": 13,
   "id": "7dc22f19",
   "metadata": {},
   "outputs": [],
   "source": [
    "import numpy as np\n",
    "import scipy.stats\n",
    "\n",
    "\n",
    "def mean_confidence_interval(data, confidence=0.95):\n",
    "    a = 1.0 * np.array(data)\n",
    "    n = len(a)\n",
    "    m, se = np.mean(a), scipy.stats.sem(a)\n",
    "    h = se * scipy.stats.t.ppf((1 + confidence) / 2., n-1)\n",
    "    return m, h"
   ]
  },
  {
   "cell_type": "code",
   "execution_count": 14,
   "id": "8c929669",
   "metadata": {},
   "outputs": [],
   "source": [
    "m_fconly, h_fconly = mean_confidence_interval(fc_only_baseline)\n",
    "m_full, h_full = mean_confidence_interval(full_model_baseline)"
   ]
  },
  {
   "cell_type": "code",
   "execution_count": 15,
   "id": "2a2362c8",
   "metadata": {},
   "outputs": [
    {
     "data": {
      "text/plain": [
       "0.3064122936264219"
      ]
     },
     "execution_count": 15,
     "metadata": {},
     "output_type": "execute_result"
    }
   ],
   "source": [
    "m_fconly"
   ]
  },
  {
   "cell_type": "code",
   "execution_count": 16,
   "id": "6827cff9",
   "metadata": {},
   "outputs": [
    {
     "data": {
      "text/plain": [
       "0.42507414599150467"
      ]
     },
     "execution_count": 16,
     "metadata": {},
     "output_type": "execute_result"
    }
   ],
   "source": [
    "m_full"
   ]
  },
  {
   "cell_type": "code",
   "execution_count": 17,
   "id": "6203bfab",
   "metadata": {},
   "outputs": [],
   "source": [
    "def check_stuff(model_type, layer):\n",
    "    e = df[df['model_type'] == model_type]\n",
    "    ee = e[e['Layer'] == layer]['eval mAP'].values\n",
    "    m, h = mean_confidence_interval(ee)\n",
    "    print(m-h, m+h, h)"
   ]
  },
  {
   "cell_type": "code",
   "execution_count": 18,
   "id": "0e2f84ad",
   "metadata": {},
   "outputs": [
    {
     "name": "stdout",
     "output_type": "stream",
     "text": [
      "0.10349299752175128 0.1415211956030503 0.0190140990406495\n"
     ]
    }
   ],
   "source": [
    "check_stuff(\"fc-only\", 1)"
   ]
  },
  {
   "cell_type": "code",
   "execution_count": 19,
   "id": "dce0669c",
   "metadata": {},
   "outputs": [
    {
     "name": "stdout",
     "output_type": "stream",
     "text": [
      "0.1700587500615537 0.17828959503511943 0.004115422486782877\n"
     ]
    }
   ],
   "source": [
    "check_stuff(\"fc-only\", 10)"
   ]
  },
  {
   "cell_type": "code",
   "execution_count": 20,
   "id": "fc9b07d7",
   "metadata": {},
   "outputs": [
    {
     "name": "stdout",
     "output_type": "stream",
     "text": [
      "nan nan nan\n",
      "nan nan nan\n"
     ]
    },
    {
     "name": "stderr",
     "output_type": "stream",
     "text": [
      "/home/user/miniconda3/envs/asr-env/lib/python3.8/site-packages/numpy/core/fromnumeric.py:3419: RuntimeWarning: Mean of empty slice.\n",
      "  return _methods._mean(a, axis=axis, dtype=dtype,\n",
      "/home/user/miniconda3/envs/asr-env/lib/python3.8/site-packages/numpy/core/_methods.py:188: RuntimeWarning: invalid value encountered in double_scalars\n",
      "  ret = ret.dtype.type(ret / rcount)\n",
      "/home/user/miniconda3/envs/asr-env/lib/python3.8/site-packages/numpy/core/_methods.py:261: RuntimeWarning: Degrees of freedom <= 0 for slice\n",
      "  ret = _var(a, axis=axis, dtype=dtype, out=out, ddof=ddof,\n",
      "/home/user/miniconda3/envs/asr-env/lib/python3.8/site-packages/numpy/core/_methods.py:221: RuntimeWarning: invalid value encountered in true_divide\n",
      "  arrmean = um.true_divide(arrmean, div, out=arrmean, casting='unsafe',\n",
      "/home/user/miniconda3/envs/asr-env/lib/python3.8/site-packages/numpy/core/_methods.py:253: RuntimeWarning: invalid value encountered in double_scalars\n",
      "  ret = ret.dtype.type(ret / rcount)\n",
      "/home/user/miniconda3/envs/asr-env/lib/python3.8/site-packages/numpy/core/fromnumeric.py:3419: RuntimeWarning: Mean of empty slice.\n",
      "  return _methods._mean(a, axis=axis, dtype=dtype,\n",
      "/home/user/miniconda3/envs/asr-env/lib/python3.8/site-packages/numpy/core/_methods.py:188: RuntimeWarning: invalid value encountered in double_scalars\n",
      "  ret = ret.dtype.type(ret / rcount)\n",
      "/home/user/miniconda3/envs/asr-env/lib/python3.8/site-packages/numpy/core/_methods.py:261: RuntimeWarning: Degrees of freedom <= 0 for slice\n",
      "  ret = _var(a, axis=axis, dtype=dtype, out=out, ddof=ddof,\n",
      "/home/user/miniconda3/envs/asr-env/lib/python3.8/site-packages/numpy/core/_methods.py:221: RuntimeWarning: invalid value encountered in true_divide\n",
      "  arrmean = um.true_divide(arrmean, div, out=arrmean, casting='unsafe',\n",
      "/home/user/miniconda3/envs/asr-env/lib/python3.8/site-packages/numpy/core/_methods.py:253: RuntimeWarning: invalid value encountered in double_scalars\n",
      "  ret = ret.dtype.type(ret / rcount)\n"
     ]
    }
   ],
   "source": [
    "check_stuff(\"fullmodel\", 1)\n",
    "check_stuff(\"fullmodel\", 10)"
   ]
  },
  {
   "cell_type": "code",
   "execution_count": null,
   "id": "05482ebd",
   "metadata": {},
   "outputs": [],
   "source": []
  },
  {
   "cell_type": "code",
   "execution_count": 24,
   "id": "18076b2b",
   "metadata": {},
   "outputs": [
    {
     "data": {
      "image/png": "[encoded data removed]",
      "text/plain": [
       "<Figure size 432x288 with 1 Axes>"
      ]
     },
     "metadata": {},
     "output_type": "display_data"
    }
   ],
   "source": [
    "sns.set_theme(style=\"whitegrid\", palette=\"Set2\", font='Fira Mono', font_scale=0.5)\n",
    "colours = sns.color_palette(\"Set2\", 2)\n",
    "ax = sns.barplot(x='Layer', y='eval mAP', hue='model_type', data=df)\n",
    "ax.axhline(m_fconly, ls='--', color=colours[0])\n",
    "ax.axhline(m_full, ls='--', color=colours[1])\n",
    "ax.legend(loc=\"upper left\", fontsize=8)\n",
    "# ax.set_title()\n",
    "ax.figure.savefig(\"/home/user/Desktop/residual_study_final_ci95_Set2.png\", dpi=300, bbox_inches='tight')"
   ]
  },
  {
   "cell_type": "code",
   "execution_count": null,
   "id": "6b261df1",
   "metadata": {},
   "outputs": [],
   "source": []
  },
  {
   "cell_type": "code",
   "execution_count": 26,
   "id": "1bcb871e",
   "metadata": {},
   "outputs": [
    {
     "data": {
      "text/plain": [
       "{0: {1: 0.21898723119808686,\n",
       "  2: 0.2075165284444755,\n",
       "  3: 0.2169938626862424,\n",
       "  4: 0.2232939336995754,\n",
       "  5: 0.25147119901573556,\n",
       "  6: 0.27084707045355466,\n",
       "  7: 0.27310423734162564,\n",
       "  8: 0.3126478078935492,\n",
       "  9: 0.31253935617985484,\n",
       "  10: 0.3534935464858034,\n",
       "  11: 0.3164541589543721},\n",
       " 1: {1: 0.20279019417143068,\n",
       "  2: 0.1887409128019601,\n",
       "  3: 0.218389029058707,\n",
       "  4: 0.21588182855252783,\n",
       "  5: 0.2731924953485707,\n",
       "  6: 0.28078951784075024,\n",
       "  7: 0.2869227432117307,\n",
       "  8: 0.3179237894104235,\n",
       "  9: 0.31856046389383297,\n",
       "  10: 0.35339297857886776,\n",
       "  11: 0.32622267499727897},\n",
       " 2: {1: 0.2027902043942639,\n",
       "  2: 0.18874082072217657,\n",
       "  3: 0.21838904765631778,\n",
       "  4: 0.21588182177965315,\n",
       "  5: 0.27319210499699387,\n",
       "  6: 0.2807895966538768,\n",
       "  7: 0.28692272700338456,\n",
       "  8: 0.3179240756365327,\n",
       "  9: 0.3185604942406386,\n",
       "  10: 0.3533927547218073,\n",
       "  11: 0.32622271382760926}}"
      ]
     },
     "execution_count": 26,
     "metadata": {},
     "output_type": "execute_result"
    }
   ],
   "source": [
    "full_model_results"
   ]
  },
  {
   "cell_type": "code",
   "execution_count": null,
   "id": "dc11d998",
   "metadata": {},
   "outputs": [],
   "source": []
  },
  {
   "cell_type": "code",
   "execution_count": null,
   "id": "0640de47",
   "metadata": {},
   "outputs": [],
   "source": []
  },
  {
   "cell_type": "code",
   "execution_count": null,
   "id": "2ed8efff",
   "metadata": {},
   "outputs": [],
   "source": []
  },
  {
   "cell_type": "code",
   "execution_count": null,
   "id": "4a924491",
   "metadata": {},
   "outputs": [],
   "source": []
  },
  {
   "cell_type": "code",
   "execution_count": null,
   "id": "0f56ad4a",
   "metadata": {},
   "outputs": [],
   "source": []
  },
  {
   "cell_type": "code",
   "execution_count": null,
   "id": "6020d888",
   "metadata": {},
   "outputs": [],
   "source": []
  }
 ],
 "metadata": {
  "kernelspec": {
   "display_name": "Python 3",
   "language": "python",
   "name": "python3"
  },
  "language_info": {
   "codemirror_mode": {
    "name": "ipython",
    "version": 3
   },
   "file_extension": ".py",
   "mimetype": "text/x-python",
   "name": "python",
   "nbconvert_exporter": "python",
   "pygments_lexer": "ipython3",
   "version": "3.8.8"
  }
 },
 "nbformat": 4,
 "nbformat_minor": 5
}
